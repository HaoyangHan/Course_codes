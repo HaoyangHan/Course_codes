{
 "cells": [
  {
   "cell_type": "code",
   "execution_count": 1,
   "metadata": {},
   "outputs": [],
   "source": [
    "import torch\n",
    "import torch.nn as nn\n",
    "import torchvision\n",
    "import torchvision.transforms as transforms"
   ]
  },
  {
   "cell_type": "code",
   "execution_count": 2,
   "metadata": {},
   "outputs": [],
   "source": [
    "# device configuration\n",
    "device = torch.device('cuda' if torch.cuda.is_available() else 'cpu')"
   ]
  },
  {
   "cell_type": "code",
   "execution_count": 13,
   "metadata": {},
   "outputs": [],
   "source": [
    "# hyper parameters\n",
    "input_size = 784\n",
    "hidden_size = 500\n",
    "num_classes = 10\n",
    "num_epochs = 5\n",
    "batch_size = 100\n",
    "learning_rate = 0.001"
   ]
  },
  {
   "cell_type": "code",
   "execution_count": 4,
   "metadata": {},
   "outputs": [],
   "source": [
    "# MNIST dataset(image and labels)\n",
    "\n",
    "train_dataset = torchvision.datasets.MNIST(root = '../../data',\n",
    "                                         train = True,\n",
    "                                         transform=transforms.ToTensor(),\n",
    "                                         download=True\n",
    "                                         )\n",
    "\n",
    "test_dataset = torchvision.datasets.MNIST(root = '../../data',\n",
    "                                         train = False,\n",
    "                                         transform=transforms.ToTensor(),\n",
    "                                         )\n",
    "\n",
    "# data loader(input pipeline)\n",
    "train_loader = torch.utils.data.DataLoader(dataset=train_dataset,\n",
    "                                          batch_size=batch_size,\n",
    "                                          shuffle=True)\n",
    "\n",
    "test_loader = torch.utils.data.DataLoader(dataset=test_dataset,\n",
    "                                          batch_size=batch_size,\n",
    "                                          shuffle=True)"
   ]
  },
  {
   "cell_type": "code",
   "execution_count": 11,
   "metadata": {},
   "outputs": [],
   "source": [
    "'''# Fully connected neural network with one hidden layer\n",
    "class NeuralNet(nn.Module):\n",
    "    def __init__(self, input_size, hidden_size, num_classes):\n",
    "        super(NeuralNet, self).__init__()\n",
    "        self.fc1 = nn.Linear(input_size, hidden_size)\n",
    "        self.relu = nn.ReLU()\n",
    "        self.fc2 = nn.Linear(hidden_size, num_classes)\n",
    "        \n",
    "    def forward(self, x):\n",
    "        out = self.fc1(x)\n",
    "        out = self.relu(out)\n",
    "        out = self.fc2(x)\n",
    "        return out'''\n",
    "# Fully connected neural network with one hidden layer\n",
    "class NeuralNet(nn.Module):\n",
    "    def __init__(self, input_size, hidden_size, num_classes):\n",
    "        super(NeuralNet, self).__init__()\n",
    "        self.fc1 = nn.Linear(input_size, hidden_size) \n",
    "        self.relu = nn.ReLU()\n",
    "        self.fc2 = nn.Linear(hidden_size, num_classes)  \n",
    "    \n",
    "    def forward(self, x):\n",
    "        out = self.fc1(x)\n",
    "        out = self.relu(out)\n",
    "        out = self.fc2(out)\n",
    "        return out\n",
    "    \n",
    "model = NeuralNet(input_size, hidden_size, num_classes).to(device)"
   ]
  },
  {
   "cell_type": "code",
   "execution_count": 8,
   "metadata": {},
   "outputs": [],
   "source": [
    "# loss and optimizer\n",
    "\n",
    "criterion = nn.CrossEntropyLoss()\n",
    "optimizer = torch.optim.Adam(model.parameters(), lr=learning_rate)\n"
   ]
  },
  {
   "cell_type": "code",
   "execution_count": 14,
   "metadata": {},
   "outputs": [
    {
     "name": "stdout",
     "output_type": "stream",
     "text": [
      "Epoch [1/5], Step [100/600], Loss: 2.3044\n",
      "Epoch [1/5], Step [200/600], Loss: 2.2968\n",
      "Epoch [1/5], Step [300/600], Loss: 2.2914\n",
      "Epoch [1/5], Step [400/600], Loss: 2.2965\n",
      "Epoch [1/5], Step [500/600], Loss: 2.3002\n",
      "Epoch [1/5], Step [600/600], Loss: 2.2949\n",
      "Epoch [2/5], Step [100/600], Loss: 2.2977\n",
      "Epoch [2/5], Step [200/600], Loss: 2.2965\n",
      "Epoch [2/5], Step [300/600], Loss: 2.2868\n",
      "Epoch [2/5], Step [400/600], Loss: 2.3010\n",
      "Epoch [2/5], Step [500/600], Loss: 2.2968\n",
      "Epoch [2/5], Step [600/600], Loss: 2.2809\n",
      "Epoch [3/5], Step [100/600], Loss: 2.2896\n",
      "Epoch [3/5], Step [200/600], Loss: 2.2995\n",
      "Epoch [3/5], Step [300/600], Loss: 2.2975\n",
      "Epoch [3/5], Step [400/600], Loss: 2.3020\n",
      "Epoch [3/5], Step [500/600], Loss: 2.3046\n",
      "Epoch [3/5], Step [600/600], Loss: 2.3027\n",
      "Epoch [4/5], Step [100/600], Loss: 2.3004\n",
      "Epoch [4/5], Step [200/600], Loss: 2.3008\n",
      "Epoch [4/5], Step [300/600], Loss: 2.2928\n",
      "Epoch [4/5], Step [400/600], Loss: 2.2980\n",
      "Epoch [4/5], Step [500/600], Loss: 2.2943\n",
      "Epoch [4/5], Step [600/600], Loss: 2.2965\n",
      "Epoch [5/5], Step [100/600], Loss: 2.2961\n",
      "Epoch [5/5], Step [200/600], Loss: 2.2999\n",
      "Epoch [5/5], Step [300/600], Loss: 2.2950\n",
      "Epoch [5/5], Step [400/600], Loss: 2.3017\n",
      "Epoch [5/5], Step [500/600], Loss: 2.2940\n",
      "Epoch [5/5], Step [600/600], Loss: 2.2970\n"
     ]
    }
   ],
   "source": [
    "# train the model\n",
    "\n",
    "total_step = len(train_loader)\n",
    "for epoch in range(num_epochs):\n",
    "    for i, (images, labels) in enumerate(train_loader):\n",
    "        # reshape iamges to (batch_size, input_size)\n",
    "        images = images.reshape(-1, 28*28).to(device)\n",
    "        labels = labels.to(device)\n",
    "        \n",
    "        # forward pass\n",
    "        outputs = model(images)\n",
    "        loss = criterion(outputs, labels)\n",
    "        \n",
    "        # backward and optpimize\n",
    "        optimizer.zero_grad()\n",
    "        loss.backward()\n",
    "        optimizer.step()\n",
    "        \n",
    "        if (i+1) % 100 ==0:\n",
    "            print ('Epoch [{}/{}], Step [{}/{}], Loss: {:.4f}' \n",
    "                   .format(epoch+1, num_epochs, i+1, total_step, loss.item()))"
   ]
  },
  {
   "cell_type": "code",
   "execution_count": 15,
   "metadata": {},
   "outputs": [
    {
     "name": "stdout",
     "output_type": "stream",
     "text": [
      "Accuracy of the model on the 10000 test images: 9 %\n"
     ]
    }
   ],
   "source": [
    "# test the model\n",
    "# in test phase, don't compute gradients for memory efficiency\n",
    "\n",
    "with torch.no_grad():\n",
    "    correct = 0\n",
    "    total = 0\n",
    "    for images, labels in test_loader:\n",
    "        images = images.reshape(-1, 28*28)\n",
    "        outputs = model(images)\n",
    "        _, predicted = torch.max(outputs.data, 1)\n",
    "        total += labels.size(0)\n",
    "        correct += (predicted == labels).sum()\n",
    "        \n",
    "    print('Accuracy of the model on the 10000 test images: {} %'.format(100 * correct / total))\n",
    "    \n",
    "\n"
   ]
  },
  {
   "cell_type": "code",
   "execution_count": 16,
   "metadata": {},
   "outputs": [],
   "source": [
    "torch.save(model.state_dict(), 'Neural Network.ckpt')"
   ]
  }
 ],
 "metadata": {
  "kernelspec": {
   "display_name": "Python 3",
   "language": "python",
   "name": "python3"
  },
  "language_info": {
   "codemirror_mode": {
    "name": "ipython",
    "version": 3
   },
   "file_extension": ".py",
   "mimetype": "text/x-python",
   "name": "python",
   "nbconvert_exporter": "python",
   "pygments_lexer": "ipython3",
   "version": "3.6.4"
  }
 },
 "nbformat": 4,
 "nbformat_minor": 2
}
