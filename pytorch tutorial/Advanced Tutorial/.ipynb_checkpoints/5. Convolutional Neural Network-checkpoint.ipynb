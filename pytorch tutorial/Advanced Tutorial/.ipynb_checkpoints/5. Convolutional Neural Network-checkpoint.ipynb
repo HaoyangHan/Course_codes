{
 "cells": [
  {
   "cell_type": "code",
   "execution_count": 1,
   "metadata": {},
   "outputs": [],
   "source": [
    "import torch\n",
    "import torch.nn as nn\n",
    "import torchvision\n",
    "import torchvision.transforms as transforms"
   ]
  },
  {
   "cell_type": "code",
   "execution_count": 2,
   "metadata": {},
   "outputs": [],
   "source": [
    "# device configuration\n",
    "device = torch.device('cuda' if torch.cuda.is_available() else 'cpu')"
   ]
  },
  {
   "cell_type": "code",
   "execution_count": 5,
   "metadata": {},
   "outputs": [],
   "source": [
    "# hyper parameters\n",
    "num_classes = 10\n",
    "num_epochs = 5\n",
    "batch_size = 100\n",
    "learning_rate = 0.001"
   ]
  },
  {
   "cell_type": "code",
   "execution_count": 4,
   "metadata": {},
   "outputs": [],
   "source": [
    "# MNIST dataset(image and labels)\n",
    "\n",
    "train_dataset = torchvision.datasets.MNIST(root = '../../data',\n",
    "                                         train = True,\n",
    "                                         transform=transforms.ToTensor(),\n",
    "                                         download=True\n",
    "                                         )\n",
    "\n",
    "test_dataset = torchvision.datasets.MNIST(root = '../../data',\n",
    "                                         train = False,\n",
    "                                         transform=transforms.ToTensor(),\n",
    "                                         )\n",
    "\n",
    "# data loader(input pipeline)\n",
    "train_loader = torch.utils.data.DataLoader(dataset=train_dataset,\n",
    "                                          batch_size=batch_size,\n",
    "                                          shuffle=True)\n",
    "\n",
    "test_loader = torch.utils.data.DataLoader(dataset=test_dataset,\n",
    "                                          batch_size=batch_size,\n",
    "                                          shuffle=True)"
   ]
  },
  {
   "cell_type": "code",
   "execution_count": 7,
   "metadata": {},
   "outputs": [],
   "source": [
    "# Convolutional Neural Network with two convolutional layers\n",
    "\n",
    "class ConvNet(nn.Module):\n",
    "    def __init__(self, num_classes=10):\n",
    "        super(ConvNet, self).__init__()\n",
    "        self.layer1 = nn.Sequential(\n",
    "            nn.Conv2d(1, 16, kernel_size = 5, stride = 1, padding = 2),\n",
    "            nn.BatchNorm2d(16),\n",
    "            nn.ReLU(),\n",
    "            nn.MaxPool2d(kernel_size = 2, stride = 2)\n",
    "        )\n",
    "        self.layer2 = nn.Sequential(\n",
    "            nn.Conv2d(16, 32, kernel_size = 5, stride = 1, padding = 2),\n",
    "            nn.BatchNorm2d(32),\n",
    "            nn.ReLU(),\n",
    "            nn.MaxPool2d(kernel_size = 2, stride = 2)        \n",
    "        )\n",
    "        self.fc = nn.Linear(7*7*32, num_classes)\n",
    "        \n",
    "        \n",
    "        \n",
    "        \n",
    "        \n",
    "    def forward(self, x):\n",
    "        out = self.layer1(x)\n",
    "        out = self.layer2(out)\n",
    "        out = out.reshape(out.size(0), -1)\n",
    "        out = self.fc(out)\n",
    "        return out\n",
    "\n",
    "model = ConvNet(num_classes).to(device)"
   ]
  },
  {
   "cell_type": "code",
   "execution_count": 8,
   "metadata": {},
   "outputs": [],
   "source": [
    "# loss and optimizer\n",
    "\n",
    "criterion = nn.CrossEntropyLoss()\n",
    "optimizer = torch.optim.Adam(model.parameters(), lr=learning_rate)\n"
   ]
  },
  {
   "cell_type": "code",
   "execution_count": 10,
   "metadata": {},
   "outputs": [
    {
     "name": "stdout",
     "output_type": "stream",
     "text": [
      "Epoch [1/5], Step [100/600], Loss: 0.2292\n",
      "Epoch [1/5], Step [200/600], Loss: 0.0839\n",
      "Epoch [1/5], Step [300/600], Loss: 0.1572\n",
      "Epoch [1/5], Step [400/600], Loss: 0.0953\n",
      "Epoch [1/5], Step [500/600], Loss: 0.0319\n",
      "Epoch [1/5], Step [600/600], Loss: 0.0222\n",
      "Epoch [2/5], Step [100/600], Loss: 0.0503\n",
      "Epoch [2/5], Step [200/600], Loss: 0.0453\n",
      "Epoch [2/5], Step [300/600], Loss: 0.0548\n",
      "Epoch [2/5], Step [400/600], Loss: 0.0484\n",
      "Epoch [2/5], Step [500/600], Loss: 0.0267\n",
      "Epoch [2/5], Step [600/600], Loss: 0.0183\n",
      "Epoch [3/5], Step [100/600], Loss: 0.0367\n",
      "Epoch [3/5], Step [200/600], Loss: 0.0664\n",
      "Epoch [3/5], Step [300/600], Loss: 0.0424\n",
      "Epoch [3/5], Step [400/600], Loss: 0.0341\n",
      "Epoch [3/5], Step [500/600], Loss: 0.0319\n",
      "Epoch [3/5], Step [600/600], Loss: 0.0403\n",
      "Epoch [4/5], Step [100/600], Loss: 0.0261\n",
      "Epoch [4/5], Step [200/600], Loss: 0.0035\n",
      "Epoch [4/5], Step [300/600], Loss: 0.0303\n",
      "Epoch [4/5], Step [400/600], Loss: 0.0340\n",
      "Epoch [4/5], Step [500/600], Loss: 0.0750\n",
      "Epoch [4/5], Step [600/600], Loss: 0.0434\n",
      "Epoch [5/5], Step [100/600], Loss: 0.0097\n",
      "Epoch [5/5], Step [200/600], Loss: 0.0302\n",
      "Epoch [5/5], Step [300/600], Loss: 0.0226\n",
      "Epoch [5/5], Step [400/600], Loss: 0.0040\n",
      "Epoch [5/5], Step [500/600], Loss: 0.0234\n",
      "Epoch [5/5], Step [600/600], Loss: 0.0187\n"
     ]
    }
   ],
   "source": [
    "# train the model\n",
    "total_step = len(train_loader)\n",
    "for epoch in range(num_epochs):\n",
    "    for i, (images, labels) in enumerate(train_loader):\n",
    "        images = images.to(device)\n",
    "        labels = labels.to(device)\n",
    "        \n",
    "        # Forward pass\n",
    "        outputs = model(images)\n",
    "        loss = criterion(outputs, labels)\n",
    "        \n",
    "        # Backward and optimize\n",
    "        optimizer.zero_grad()\n",
    "        loss.backward()\n",
    "        optimizer.step()\n",
    "        \n",
    "        if (i+1) % 100 == 0:\n",
    "            print ('Epoch [{}/{}], Step [{}/{}], Loss: {:.4f}' \n",
    "                   .format(epoch+1, num_epochs, i+1, total_step, loss.item()))"
   ]
  },
  {
   "cell_type": "code",
   "execution_count": 16,
   "metadata": {},
   "outputs": [
    {
     "name": "stdout",
     "output_type": "stream",
     "text": [
      "Accuracy of the model on the 10000 test images: 99 %\n"
     ]
    }
   ],
   "source": [
    "# test the model\n",
    "# in test phase, don't compute gradients for memory efficiency\n",
    "\n",
    "with torch.no_grad():\n",
    "    correct = 0.0\n",
    "    total = 0.0\n",
    "    for images, labels in test_loader:\n",
    "        # images = images.reshape(-1, 28*28)\n",
    "        images = images.to(device)\n",
    "        labels = labels.to(device)\n",
    "        outputs = model(images)\n",
    "        _, predicted = torch.max(outputs.data, 1)\n",
    "        total += labels.size(0)\n",
    "        correct += (predicted == labels).sum()\n",
    "        \n",
    "    print('Accuracy of the model on the 10000 test images: {} %'.format(100.0 * correct / total))\n",
    "    \n",
    "\n"
   ]
  },
  {
   "cell_type": "code",
   "execution_count": 13,
   "metadata": {},
   "outputs": [
    {
     "data": {
      "text/plain": [
       "ConvNet(\n",
       "  (layer1): Sequential(\n",
       "    (0): Conv2d(1, 16, kernel_size=(5, 5), stride=(1, 1), padding=(2, 2))\n",
       "    (1): BatchNorm2d(16, eps=1e-05, momentum=0.1, affine=True, track_running_stats=True)\n",
       "    (2): ReLU()\n",
       "    (3): MaxPool2d(kernel_size=2, stride=2, padding=0, dilation=1, ceil_mode=False)\n",
       "  )\n",
       "  (layer2): Sequential(\n",
       "    (0): Conv2d(16, 32, kernel_size=(5, 5), stride=(1, 1), padding=(2, 2))\n",
       "    (1): BatchNorm2d(32, eps=1e-05, momentum=0.1, affine=True, track_running_stats=True)\n",
       "    (2): ReLU()\n",
       "    (3): MaxPool2d(kernel_size=2, stride=2, padding=0, dilation=1, ceil_mode=False)\n",
       "  )\n",
       "  (fc): Linear(in_features=1568, out_features=10, bias=True)\n",
       ")"
      ]
     },
     "execution_count": 13,
     "metadata": {},
     "output_type": "execute_result"
    }
   ],
   "source": [
    "model.eval()  # eval mode (batchnorm uses moving mean/variance instead of mini-batch mean/variance)"
   ]
  },
  {
   "cell_type": "code",
   "execution_count": 14,
   "metadata": {},
   "outputs": [],
   "source": [
    "torch.save(model.state_dict(), 'Convolutional Neural Network.ckpt')"
   ]
  }
 ],
 "metadata": {
  "kernelspec": {
   "display_name": "Python 3",
   "language": "python",
   "name": "python3"
  },
  "language_info": {
   "codemirror_mode": {
    "name": "ipython",
    "version": 3
   },
   "file_extension": ".py",
   "mimetype": "text/x-python",
   "name": "python",
   "nbconvert_exporter": "python",
   "pygments_lexer": "ipython3",
   "version": "3.6.4"
  }
 },
 "nbformat": 4,
 "nbformat_minor": 2
}
