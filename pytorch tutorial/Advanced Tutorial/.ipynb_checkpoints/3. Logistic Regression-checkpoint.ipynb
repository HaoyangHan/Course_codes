{
 "cells": [
  {
   "cell_type": "code",
   "execution_count": 1,
   "metadata": {},
   "outputs": [],
   "source": [
    "import torch\n",
    "import torch.nn as nn\n",
    "import torchvision\n",
    "import torchvision.transforms as transforms"
   ]
  },
  {
   "cell_type": "code",
   "execution_count": 2,
   "metadata": {},
   "outputs": [],
   "source": [
    "# hyperparmaeter\n",
    "\n",
    "input_size = 784\n",
    "num_classes = 10\n",
    "num_epochs = 20\n",
    "batch_size = 100\n",
    "learning_rate = 0.001"
   ]
  },
  {
   "cell_type": "code",
   "execution_count": 5,
   "metadata": {},
   "outputs": [
    {
     "name": "stdout",
     "output_type": "stream",
     "text": [
      "Downloading http://yann.lecun.com/exdb/mnist/train-images-idx3-ubyte.gz\n",
      "Downloading http://yann.lecun.com/exdb/mnist/train-labels-idx1-ubyte.gz\n",
      "Downloading http://yann.lecun.com/exdb/mnist/t10k-images-idx3-ubyte.gz\n",
      "Downloading http://yann.lecun.com/exdb/mnist/t10k-labels-idx1-ubyte.gz\n",
      "Processing...\n",
      "Done!\n"
     ]
    }
   ],
   "source": [
    "# MNIST dataset(image and labels)\n",
    "\n",
    "train_dataset = torchvision.datasets.MNIST(root = '../../data',\n",
    "                                         train = True,\n",
    "                                         transform=transforms.ToTensor(),\n",
    "                                         download=True\n",
    "                                         )\n",
    "\n",
    "test_dataset = torchvision.datasets.MNIST(root = '../../data',\n",
    "                                         train = False,\n",
    "                                         transform=transforms.ToTensor(),\n",
    "                                         )\n",
    "\n",
    "# data loader(input pipeline)\n",
    "train_loader = torch.utils.data.DataLoader(dataset=train_dataset,\n",
    "                                          batch_size=batch_size,\n",
    "                                          shuffle=True)\n",
    "\n",
    "test_loader = torch.utils.data.DataLoader(dataset=test_dataset,\n",
    "                                          batch_size=batch_size,\n",
    "                                          shuffle=True)"
   ]
  },
  {
   "cell_type": "code",
   "execution_count": 9,
   "metadata": {},
   "outputs": [],
   "source": [
    "# Logistic regression model\n",
    "model = nn.Linear(input_size, num_classes)\n",
    "\n",
    "# loss and optimizer\n",
    "criterion = nn.CrossEntropyLoss()\n",
    "optimizer = torch.optim.SGD(model.parameters(), lr=learning_rate)\n",
    "\n"
   ]
  },
  {
   "cell_type": "code",
   "execution_count": 10,
   "metadata": {},
   "outputs": [
    {
     "name": "stdout",
     "output_type": "stream",
     "text": [
      "Epoch [1/20], Step [100/600], Loss: 2.2379\n",
      "Epoch [1/20], Step [200/600], Loss: 2.0964\n",
      "Epoch [1/20], Step [300/600], Loss: 2.0331\n",
      "Epoch [1/20], Step [400/600], Loss: 1.9459\n",
      "Epoch [1/20], Step [500/600], Loss: 1.8500\n",
      "Epoch [1/20], Step [600/600], Loss: 1.8176\n",
      "Epoch [2/20], Step [100/600], Loss: 1.7098\n",
      "Epoch [2/20], Step [200/600], Loss: 1.6508\n",
      "Epoch [2/20], Step [300/600], Loss: 1.5785\n",
      "Epoch [2/20], Step [400/600], Loss: 1.6577\n",
      "Epoch [2/20], Step [500/600], Loss: 1.4774\n",
      "Epoch [2/20], Step [600/600], Loss: 1.4357\n",
      "Epoch [3/20], Step [100/600], Loss: 1.4479\n",
      "Epoch [3/20], Step [200/600], Loss: 1.3075\n",
      "Epoch [3/20], Step [300/600], Loss: 1.2661\n",
      "Epoch [3/20], Step [400/600], Loss: 1.3451\n",
      "Epoch [3/20], Step [500/600], Loss: 1.2299\n",
      "Epoch [3/20], Step [600/600], Loss: 1.3299\n",
      "Epoch [4/20], Step [100/600], Loss: 1.1976\n",
      "Epoch [4/20], Step [200/600], Loss: 1.1006\n",
      "Epoch [4/20], Step [300/600], Loss: 1.1673\n",
      "Epoch [4/20], Step [400/600], Loss: 1.1571\n",
      "Epoch [4/20], Step [500/600], Loss: 1.1246\n",
      "Epoch [4/20], Step [600/600], Loss: 1.1909\n",
      "Epoch [5/20], Step [100/600], Loss: 0.9571\n",
      "Epoch [5/20], Step [200/600], Loss: 1.0510\n",
      "Epoch [5/20], Step [300/600], Loss: 1.0856\n",
      "Epoch [5/20], Step [400/600], Loss: 1.0077\n",
      "Epoch [5/20], Step [500/600], Loss: 1.0037\n",
      "Epoch [5/20], Step [600/600], Loss: 1.0745\n",
      "Epoch [6/20], Step [100/600], Loss: 0.9705\n",
      "Epoch [6/20], Step [200/600], Loss: 0.8960\n",
      "Epoch [6/20], Step [300/600], Loss: 0.9985\n",
      "Epoch [6/20], Step [400/600], Loss: 0.9429\n",
      "Epoch [6/20], Step [500/600], Loss: 0.9588\n",
      "Epoch [6/20], Step [600/600], Loss: 0.9112\n",
      "Epoch [7/20], Step [100/600], Loss: 0.9349\n",
      "Epoch [7/20], Step [200/600], Loss: 0.9091\n",
      "Epoch [7/20], Step [300/600], Loss: 0.9603\n",
      "Epoch [7/20], Step [400/600], Loss: 0.9071\n",
      "Epoch [7/20], Step [500/600], Loss: 0.8637\n",
      "Epoch [7/20], Step [600/600], Loss: 0.8456\n",
      "Epoch [8/20], Step [100/600], Loss: 0.7503\n",
      "Epoch [8/20], Step [200/600], Loss: 0.8814\n",
      "Epoch [8/20], Step [300/600], Loss: 0.8737\n",
      "Epoch [8/20], Step [400/600], Loss: 0.8580\n",
      "Epoch [8/20], Step [500/600], Loss: 0.8121\n",
      "Epoch [8/20], Step [600/600], Loss: 0.8251\n",
      "Epoch [9/20], Step [100/600], Loss: 0.7499\n",
      "Epoch [9/20], Step [200/600], Loss: 0.8174\n",
      "Epoch [9/20], Step [300/600], Loss: 0.7676\n",
      "Epoch [9/20], Step [400/600], Loss: 0.7419\n",
      "Epoch [9/20], Step [500/600], Loss: 0.7576\n",
      "Epoch [9/20], Step [600/600], Loss: 0.8545\n",
      "Epoch [10/20], Step [100/600], Loss: 0.7656\n",
      "Epoch [10/20], Step [200/600], Loss: 0.7914\n",
      "Epoch [10/20], Step [300/600], Loss: 0.7106\n",
      "Epoch [10/20], Step [400/600], Loss: 0.8113\n",
      "Epoch [10/20], Step [500/600], Loss: 0.8047\n",
      "Epoch [10/20], Step [600/600], Loss: 0.7126\n",
      "Epoch [11/20], Step [100/600], Loss: 0.6611\n",
      "Epoch [11/20], Step [200/600], Loss: 0.7786\n",
      "Epoch [11/20], Step [300/600], Loss: 0.7093\n",
      "Epoch [11/20], Step [400/600], Loss: 0.6384\n",
      "Epoch [11/20], Step [500/600], Loss: 0.6461\n",
      "Epoch [11/20], Step [600/600], Loss: 0.6968\n",
      "Epoch [12/20], Step [100/600], Loss: 0.7499\n",
      "Epoch [12/20], Step [200/600], Loss: 0.6363\n",
      "Epoch [12/20], Step [300/600], Loss: 0.7040\n",
      "Epoch [12/20], Step [400/600], Loss: 0.6207\n",
      "Epoch [12/20], Step [500/600], Loss: 0.6673\n",
      "Epoch [12/20], Step [600/600], Loss: 0.7479\n",
      "Epoch [13/20], Step [100/600], Loss: 0.6981\n",
      "Epoch [13/20], Step [200/600], Loss: 0.7496\n",
      "Epoch [13/20], Step [300/600], Loss: 0.6870\n",
      "Epoch [13/20], Step [400/600], Loss: 0.7201\n",
      "Epoch [13/20], Step [500/600], Loss: 0.6636\n",
      "Epoch [13/20], Step [600/600], Loss: 0.6494\n",
      "Epoch [14/20], Step [100/600], Loss: 0.5675\n",
      "Epoch [14/20], Step [200/600], Loss: 0.8110\n",
      "Epoch [14/20], Step [300/600], Loss: 0.7510\n",
      "Epoch [14/20], Step [400/600], Loss: 0.6854\n",
      "Epoch [14/20], Step [500/600], Loss: 0.5504\n",
      "Epoch [14/20], Step [600/600], Loss: 0.7262\n",
      "Epoch [15/20], Step [100/600], Loss: 0.6582\n",
      "Epoch [15/20], Step [200/600], Loss: 0.6191\n",
      "Epoch [15/20], Step [300/600], Loss: 0.6217\n",
      "Epoch [15/20], Step [400/600], Loss: 0.7823\n",
      "Epoch [15/20], Step [500/600], Loss: 0.6165\n",
      "Epoch [15/20], Step [600/600], Loss: 0.5877\n",
      "Epoch [16/20], Step [100/600], Loss: 0.6774\n",
      "Epoch [16/20], Step [200/600], Loss: 0.6642\n",
      "Epoch [16/20], Step [300/600], Loss: 0.5715\n",
      "Epoch [16/20], Step [400/600], Loss: 0.6523\n",
      "Epoch [16/20], Step [500/600], Loss: 0.5764\n",
      "Epoch [16/20], Step [600/600], Loss: 0.5221\n",
      "Epoch [17/20], Step [100/600], Loss: 0.6106\n",
      "Epoch [17/20], Step [200/600], Loss: 0.8245\n",
      "Epoch [17/20], Step [300/600], Loss: 0.6515\n",
      "Epoch [17/20], Step [400/600], Loss: 0.5959\n",
      "Epoch [17/20], Step [500/600], Loss: 0.6072\n",
      "Epoch [17/20], Step [600/600], Loss: 0.5519\n",
      "Epoch [18/20], Step [100/600], Loss: 0.6489\n",
      "Epoch [18/20], Step [200/600], Loss: 0.6742\n",
      "Epoch [18/20], Step [300/600], Loss: 0.6528\n",
      "Epoch [18/20], Step [400/600], Loss: 0.6577\n",
      "Epoch [18/20], Step [500/600], Loss: 0.6990\n",
      "Epoch [18/20], Step [600/600], Loss: 0.6373\n",
      "Epoch [19/20], Step [100/600], Loss: 0.5941\n",
      "Epoch [19/20], Step [200/600], Loss: 0.5259\n",
      "Epoch [19/20], Step [300/600], Loss: 0.5456\n",
      "Epoch [19/20], Step [400/600], Loss: 0.5626\n",
      "Epoch [19/20], Step [500/600], Loss: 0.6520\n",
      "Epoch [19/20], Step [600/600], Loss: 0.5518\n",
      "Epoch [20/20], Step [100/600], Loss: 0.5447\n",
      "Epoch [20/20], Step [200/600], Loss: 0.5275\n",
      "Epoch [20/20], Step [300/600], Loss: 0.6094\n",
      "Epoch [20/20], Step [400/600], Loss: 0.6221\n",
      "Epoch [20/20], Step [500/600], Loss: 0.5380\n",
      "Epoch [20/20], Step [600/600], Loss: 0.5451\n"
     ]
    }
   ],
   "source": [
    "# train the model\n",
    "total_step = len(train_loader)\n",
    "for epoch in range(num_epochs):\n",
    "    for i, (images, labels) in enumerate(train_loader):\n",
    "        # reshape iamges to (batch_size, input_size)\n",
    "        images = images.reshape(-1, 28*28)\n",
    "        \n",
    "        # forward pass\n",
    "        outputs = model(images)\n",
    "        loss = criterion(outputs, labels)\n",
    "        \n",
    "        # backward and optpimize\n",
    "        optimizer.zero_grad()\n",
    "        loss.backward()\n",
    "        optimizer.step()\n",
    "        \n",
    "        if (i+1) % 100 ==0:\n",
    "            print ('Epoch [{}/{}], Step [{}/{}], Loss: {:.4f}' \n",
    "                   .format(epoch+1, num_epochs, i+1, total_step, loss.item()))"
   ]
  },
  {
   "cell_type": "code",
   "execution_count": 13,
   "metadata": {},
   "outputs": [
    {
     "name": "stdout",
     "output_type": "stream",
     "text": [
      "Accuracy of the model on the 10000 test images: 87 %\n"
     ]
    }
   ],
   "source": [
    "# test the model\n",
    "# in test phase, don't compute gradients for memory efficiency\n",
    "\n",
    "with torch.no_grad():\n",
    "    correct = 0\n",
    "    total = 0\n",
    "    for images, labels in test_loader:\n",
    "        images = images.reshape(-1, 28*28)\n",
    "        outputs = model(images)\n",
    "        _, predicted = torch.max(outputs.data, 1)\n",
    "        total += labels.size(0)\n",
    "        correct += (predicted == labels).sum()\n",
    "        \n",
    "    print('Accuracy of the model on the 10000 test images: {} %'.format(100 * correct / total))\n",
    "    \n"
   ]
  },
  {
   "cell_type": "code",
   "execution_count": 14,
   "metadata": {},
   "outputs": [],
   "source": [
    "torch.save(model.state_dict(), 'Logistic.ckpt')"
   ]
  },
  {
   "cell_type": "code",
   "execution_count": null,
   "metadata": {},
   "outputs": [],
   "source": []
  },
  {
   "cell_type": "code",
   "execution_count": null,
   "metadata": {},
   "outputs": [],
   "source": []
  }
 ],
 "metadata": {
  "kernelspec": {
   "display_name": "Python 3",
   "language": "python",
   "name": "python3"
  },
  "language_info": {
   "codemirror_mode": {
    "name": "ipython",
    "version": 3
   },
   "file_extension": ".py",
   "mimetype": "text/x-python",
   "name": "python",
   "nbconvert_exporter": "python",
   "pygments_lexer": "ipython3",
   "version": "3.6.4"
  }
 },
 "nbformat": 4,
 "nbformat_minor": 2
}
