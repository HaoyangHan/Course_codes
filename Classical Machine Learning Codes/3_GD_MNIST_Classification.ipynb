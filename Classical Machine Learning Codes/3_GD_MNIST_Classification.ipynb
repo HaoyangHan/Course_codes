{
 "cells": [
  {
   "cell_type": "code",
   "execution_count": 86,
   "metadata": {},
   "outputs": [],
   "source": [
    "from __future__ import print_function\n",
    "import numpy as np\n",
    "import csv\n"
   ]
  },
  {
   "cell_type": "code",
   "execution_count": 87,
   "metadata": {},
   "outputs": [],
   "source": [
    "def readData(path):\n",
    "    \"\"\"\n",
    "    Read data from path (either path to MNIST train or test)\n",
    "    return X in compact notation (has one appended)\n",
    "    return Y in with shape [10000,1] and starts from 0 instead of 1\n",
    "    \"\"\"\n",
    "    # load in data\n",
    "    reader = csv.reader(open(path, \"r\"), delimiter=\",\")\n",
    "    d = list(reader)\n",
    "\n",
    "    # import data and reshape appropriately\n",
    "    data = np.aerray(d).astype(\"float\")\n",
    "    \n",
    "    # if look into y value ,it's 1-10 instead of 0-9， so we need to subtract 1 from \n",
    "    X = data[:,:-1]\n",
    "    X = compactNotation(X)\n",
    "    y = data[:,-1] - 1\n",
    "    y.shape = (len(y),1)\n",
    "\n",
    "    return X, y"
   ]
  },
  {
   "cell_type": "code",
   "execution_count": 98,
   "metadata": {},
   "outputs": [
    {
     "data": {
      "text/plain": [
       "array([[7.],\n",
       "       [2.],\n",
       "       [1.],\n",
       "       [0.],\n",
       "       [4.],\n",
       "       [1.],\n",
       "       [4.],\n",
       "       [9.],\n",
       "       [5.],\n",
       "       [9.]])"
      ]
     },
     "execution_count": 98,
     "metadata": {},
     "output_type": "execute_result"
    }
   ],
   "source": [
    "testY[:10]"
   ]
  },
  {
   "cell_type": "code",
   "execution_count": 94,
   "metadata": {},
   "outputs": [
    {
     "data": {
      "text/plain": [
       "'\\ndef oneVersusAll(Y, value):\\n    \"\"\"\\n    generate label Yout, \\n    where Y == value then Yout would be 1\\n    otherwise Yout would be -1\\n    \"\"\"\\n    Y[Y == value] = 1\\n    Y[Y != 1] = -1\\n    return Y\\n'"
      ]
     },
     "execution_count": 94,
     "metadata": {},
     "output_type": "execute_result"
    }
   ],
   "source": [
    "\n",
    "def sigmoid(t):\n",
    "    # provided sigmoid function\n",
    "    return 1/(1 + np.exp(-t))\n",
    "\n",
    "def checkSize(w, X, y):\n",
    "    # w and y are column vector, shape [N, 1] not [N,]\n",
    "    # X is a matrix where rows are data sample\n",
    "    assert X.shape[0] == y.shape[0]\n",
    "    assert X.shape[1] == w.shape[0]\n",
    "    assert len(y.shape) == 2\n",
    "    assert len(w.shape) == 2\n",
    "    assert w.shape[1] == 1\n",
    "    assert y.shape[1] == 1\n",
    "\n",
    "def compactNotation(X):\n",
    "    return np.hstack([np.ones([X.shape[0], 1]), X])\n",
    "\n",
    "\n",
    "def softmaxGrad(w, X, y):\n",
    "    checkSize(w, X, y)\n",
    "    temp = -sigmoid(-y*np.dot(X,w))*y\n",
    "    return np.dot(X.T, temp)\n",
    "\n",
    "def accuracy(OVA, X_test, y_test):\n",
    "    \"\"\"\n",
    "    Calculate accuracy using matrix operations!\n",
    "    NE\n",
    "    \"\"\"\n",
    "    y_pred = np.dot(X_test, OVA)\n",
    "    y_pred = (np.argmax(y_pred, axis = 1))[:,np.newaxis]\n",
    "    test = y_pred - y_test\n",
    "    test = [1 if x != 0 else 0 for x in test]\n",
    "    length = len(y_test)\n",
    "    accuracy = 1.00 - (sum(test)/length)\n",
    "    return accuracy\n",
    "\n",
    "def gradientDescent(grad, w0, *args, **kwargs):\n",
    "    max_iter = 5000\n",
    "    alpha = 0.001\n",
    "    eps = 10^(-5)\n",
    "\n",
    "    w = w0\n",
    "    iter = 0\n",
    "    while True:\n",
    "        gradient = grad(w, *args)\n",
    "        w = w - alpha * gradient\n",
    "\n",
    "        if iter > max_iter or np.linalg.norm(gradient) < eps:\n",
    "            break\n",
    "\n",
    "        if iter  % 1000 == 1:\n",
    "            print(\"Iter %d \" % iter)\n",
    "\n",
    "        iter += 1\n",
    "\n",
    "    return w\n",
    "def oneVersusAll(Y, value):\n",
    "    \"\"\"\n",
    "    generate label Yout, \n",
    "    where Y == value then Yout would be 1\n",
    "    otherwise Yout would be -1\n",
    "    \"\"\"\n",
    "    y_pred = []\n",
    "    for i in range(len(Y)):\n",
    "        if Y[i][0] == value:\n",
    "            y_pred.append(1)\n",
    "        else:\n",
    "            y_pred.append(-1)\n",
    "    y_pred = np.array(y_pred).shape(len(Y),1)\n",
    "    return Yout\n",
    "'''\n",
    "def oneVersusAll(Y, value):\n",
    "    \"\"\"\n",
    "    generate label Yout, \n",
    "    where Y == value then Yout would be 1\n",
    "    otherwise Yout would be -1\n",
    "    \"\"\"\n",
    "    Y[Y == value] = 1\n",
    "    Y[Y != 1] = -1\n",
    "    return Y\n",
    "'''\n",
    "\n"
   ]
  },
  {
   "cell_type": "code",
   "execution_count": 92,
   "metadata": {},
   "outputs": [
    {
     "name": "stdout",
     "output_type": "stream",
     "text": [
      "Training for class 0\n",
      "Iter 1 \n",
      "Iter 1001 \n",
      "Iter 2001 \n",
      "Iter 3001 \n",
      "Iter 4001 \n",
      "Training for class 1\n",
      "Iter 1 \n",
      "Iter 1001 \n",
      "Iter 2001 \n",
      "Iter 3001 \n",
      "Iter 4001 \n",
      "Training for class 2\n",
      "Iter 1 \n",
      "Iter 1001 \n",
      "Iter 2001 \n",
      "Iter 3001 \n",
      "Iter 4001 \n",
      "Training for class 3\n",
      "Iter 1 \n",
      "Iter 1001 \n",
      "Iter 2001 \n",
      "Iter 3001 \n",
      "Iter 4001 \n",
      "Training for class 4\n",
      "Iter 1 \n",
      "Iter 1001 \n",
      "Iter 2001 \n",
      "Iter 3001 \n",
      "Iter 4001 \n",
      "Training for class 5\n",
      "Iter 1 \n",
      "Iter 1001 \n",
      "Iter 2001 \n",
      "Iter 3001 \n",
      "Iter 4001 \n",
      "Training for class 6\n",
      "Iter 1 \n",
      "Iter 1001 \n",
      "Iter 2001 \n",
      "Iter 3001 \n",
      "Iter 4001 \n",
      "Training for class 7\n",
      "Iter 1 \n",
      "Iter 1001 \n",
      "Iter 2001 \n",
      "Iter 3001 \n",
      "Iter 4001 \n",
      "Training for class 8\n",
      "Iter 1 \n",
      "Iter 1001 \n",
      "Iter 2001 \n",
      "Iter 3001 \n",
      "Iter 4001 \n",
      "Training for class 9\n",
      "Iter 1 \n",
      "Iter 1001 \n",
      "Iter 2001 \n",
      "Iter 3001 \n",
      "Iter 4001 \n"
     ]
    },
    {
     "ename": "NameError",
     "evalue": "name 'X' is not defined",
     "output_type": "error",
     "traceback": [
      "\u001b[0;31m---------------------------------------------------------------------------\u001b[0m",
      "\u001b[0;31mNameError\u001b[0m                                 Traceback (most recent call last)",
      "\u001b[0;32m<ipython-input-92-76a1b9632744>\u001b[0m in \u001b[0;36m<module>\u001b[0;34m()\u001b[0m\n\u001b[1;32m     13\u001b[0m \u001b[0;34m\u001b[0m\u001b[0m\n\u001b[1;32m     14\u001b[0m \u001b[0;34m\u001b[0m\u001b[0m\n\u001b[0;32m---> 15\u001b[0;31m     \u001b[0mprint\u001b[0m\u001b[0;34m(\u001b[0m\u001b[0;34m\"Accuracy for training set is: %f\"\u001b[0m \u001b[0;34m%\u001b[0m \u001b[0maccuracy\u001b[0m\u001b[0;34m(\u001b[0m\u001b[0mOVA\u001b[0m\u001b[0;34m,\u001b[0m \u001b[0mtrainX\u001b[0m\u001b[0;34m,\u001b[0m \u001b[0mtrainY\u001b[0m\u001b[0;34m)\u001b[0m\u001b[0;34m)\u001b[0m\u001b[0;34m\u001b[0m\u001b[0m\n\u001b[0m\u001b[1;32m     16\u001b[0m \u001b[0;34m\u001b[0m\u001b[0m\n\u001b[1;32m     17\u001b[0m     \u001b[0mtestX\u001b[0m\u001b[0;34m,\u001b[0m \u001b[0mtestY\u001b[0m \u001b[0;34m=\u001b[0m \u001b[0mreadData\u001b[0m\u001b[0;34m(\u001b[0m\u001b[0;34m'MNIST_data/MNIST_test_data.csv'\u001b[0m\u001b[0;34m)\u001b[0m\u001b[0;34m\u001b[0m\u001b[0m\n",
      "\u001b[0;32m<ipython-input-91-155a466d8c6c>\u001b[0m in \u001b[0;36maccuracy\u001b[0;34m(OVA, X_test, y_test)\u001b[0m\n\u001b[1;32m     28\u001b[0m     \u001b[0mNE\u001b[0m\u001b[0;34m\u001b[0m\u001b[0m\n\u001b[1;32m     29\u001b[0m     \"\"\"\n\u001b[0;32m---> 30\u001b[0;31m     \u001b[0my_pred\u001b[0m \u001b[0;34m=\u001b[0m \u001b[0mnp\u001b[0m\u001b[0;34m.\u001b[0m\u001b[0mdot\u001b[0m\u001b[0;34m(\u001b[0m\u001b[0mX\u001b[0m\u001b[0;34m,\u001b[0m \u001b[0mOVA\u001b[0m\u001b[0;34m)\u001b[0m\u001b[0;34m\u001b[0m\u001b[0m\n\u001b[0m\u001b[1;32m     31\u001b[0m     \u001b[0my_pred\u001b[0m \u001b[0;34m=\u001b[0m \u001b[0;34m(\u001b[0m\u001b[0mnp\u001b[0m\u001b[0;34m.\u001b[0m\u001b[0margmax\u001b[0m\u001b[0;34m(\u001b[0m\u001b[0my_pred\u001b[0m\u001b[0;34m,\u001b[0m \u001b[0maxis\u001b[0m \u001b[0;34m=\u001b[0m \u001b[0;36m1\u001b[0m\u001b[0;34m)\u001b[0m\u001b[0;34m)\u001b[0m\u001b[0;34m[\u001b[0m\u001b[0;34m:\u001b[0m\u001b[0;34m,\u001b[0m\u001b[0mnp\u001b[0m\u001b[0;34m.\u001b[0m\u001b[0mnewaxis\u001b[0m\u001b[0;34m]\u001b[0m\u001b[0;34m\u001b[0m\u001b[0m\n\u001b[1;32m     32\u001b[0m     \u001b[0mtest\u001b[0m \u001b[0;34m=\u001b[0m \u001b[0my_pred\u001b[0m \u001b[0;34m-\u001b[0m \u001b[0my_test\u001b[0m\u001b[0;34m\u001b[0m\u001b[0m\n",
      "\u001b[0;31mNameError\u001b[0m: name 'X' is not defined"
     ]
    }
   ],
   "source": [
    "if __name__==\"__main__\":\n",
    "\n",
    "    trainX, trainY = readData('MNIST_data/MNIST_train_data.csv')\n",
    "\n",
    "    # training individual classifier\n",
    "    Nfeature = trainX.shape[1]\n",
    "    Nclass = 10\n",
    "    OVA = np.zeros((Nfeature, Nclass))\n",
    "    for i in range(Nclass):\n",
    "        print(\"Training for class \" + str(i))\n",
    "        w0 = np.random.rand(Nfeature, 1)\n",
    "        OVA[:, i:i+1] = gradientDescent(softmaxGrad, w0, trainX, oneVersusAll(trainY, i))\n",
    "\n",
    "\n",
    "    print(\"Accuracy for training set is: %f\" % accuracy(OVA, trainX, trainY))\n",
    "\n",
    "    testX, testY = readData('MNIST_data/MNIST_test_data.csv')\n",
    "    print(\"Accuracy for test set is: %f\" % accuracy(OVA, testX, testY))\n",
    "\n",
    "    \n",
    "    \n"
   ]
  },
  {
   "cell_type": "markdown",
   "metadata": {},
   "source": [
    "Here I found a mistake that I didn't change one X into trainX, and I re-tried the last 3 line below:"
   ]
  },
  {
   "cell_type": "code",
   "execution_count": 95,
   "metadata": {},
   "outputs": [
    {
     "name": "stdout",
     "output_type": "stream",
     "text": [
      "Accuracy for training set is: 0.915150\n",
      "Accuracy for test set is: 0.910400\n"
     ]
    }
   ],
   "source": [
    "    print(\"Accuracy for training set is: %f\" % accuracy(OVA, trainX, trainY))\n",
    "\n",
    "    testX, testY = readData('MNIST_data/MNIST_test_data.csv')\n",
    "    print(\"Accuracy for test set is: %f\" % accuracy(OVA, testX, testY))"
   ]
  },
  {
   "cell_type": "code",
   "execution_count": null,
   "metadata": {},
   "outputs": [],
   "source": []
  },
  {
   "cell_type": "code",
   "execution_count": null,
   "metadata": {},
   "outputs": [],
   "source": [
    "main()"
   ]
  }
 ],
 "metadata": {
  "kernelspec": {
   "display_name": "Python 3",
   "language": "python",
   "name": "python3"
  },
  "language_info": {
   "codemirror_mode": {
    "name": "ipython",
    "version": 3
   },
   "file_extension": ".py",
   "mimetype": "text/x-python",
   "name": "python",
   "nbconvert_exporter": "python",
   "pygments_lexer": "ipython3",
   "version": "3.6.5"
  }
 },
 "nbformat": 4,
 "nbformat_minor": 2
}
