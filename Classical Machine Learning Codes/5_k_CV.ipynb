{
 "cells": [
  {
   "cell_type": "code",
   "execution_count": 1,
   "metadata": {},
   "outputs": [],
   "source": [
    "import numpy as np\n",
    "import pandas as pd\n",
    "import matplotlib.pyplot as plt\n",
    "\n",
    "# cross validation parameters:\n",
    "k = 6\n",
    "M = [1,2,3,4,5,6]"
   ]
  },
  {
   "cell_type": "code",
   "execution_count": 2,
   "metadata": {},
   "outputs": [],
   "source": [
    "# load data\n",
    "def load_data():\n",
    "    data = np.array(np.genfromtxt('galileo_ramp_data.csv', delimiter=','))\n",
    "    data = np.random.permutation(data)\n",
    "    return data"
   ]
  },
  {
   "cell_type": "code",
   "execution_count": 3,
   "metadata": {},
   "outputs": [
    {
     "data": {
      "text/plain": [
       "(6, 2)"
      ]
     },
     "execution_count": 3,
     "metadata": {},
     "output_type": "execute_result"
    }
   ],
   "source": [
    "data = load_data()\n",
    "data.shape"
   ]
  },
  {
   "cell_type": "code",
   "execution_count": 4,
   "metadata": {},
   "outputs": [],
   "source": [
    "def train_test_split(data, D, k):\n",
    "    train_x, train_y = np.zeros([1,data.shape[0]-1])[0], np.zeros([1,data.shape[0]-1])[0]\n",
    "    test_x, test_y = 0,0\n",
    "    for i in range(k):\n",
    "        if i != D:\n",
    "            if i < D:\n",
    "                train_x[i] = data[i][0]\n",
    "                train_y[i] = data[i][1]\n",
    "\n",
    "            else:\n",
    "                train_x[i-1] = data[i][0]\n",
    "                train_y[i-1] = data[i][1]                \n",
    "        else:\n",
    "            test_x = data[i][0]\n",
    "            test_y = data[i][1]\n",
    "            test_x = np.asarray(test_x)\n",
    "            test_x = test_x[np.newaxis]\n",
    "            test_y = np.asarray(test_y)\n",
    "            test_y = test_y[np.newaxis]\n",
    "            \n",
    "    return train_x, train_y, test_x, test_y"
   ]
  },
  {
   "cell_type": "code",
   "execution_count": 5,
   "metadata": {},
   "outputs": [],
   "source": [
    "# YOUR CODE GOES HERE takes poly features of the input \n",
    "def poly_features(x,D):\n",
    "    F = np.zeros((len(x), D))\n",
    "    for i in np.arange(len(x)):\n",
    "        temp = 1\n",
    "        for j in np.arange(D):\n",
    "            F[i, j] = temp * x[i]\n",
    "            temp = temp * x[i]\n",
    "    F = F.T\n",
    "    return F"
   ]
  },
  {
   "cell_type": "code",
   "execution_count": 6,
   "metadata": {},
   "outputs": [],
   "source": [
    "# plot mse's over all D tested \n",
    "def plot_mse(train_mses, test_mses, deg):\n",
    "    plt.plot(np.arange(1,np.size(train_mses)+1),train_mses,'ro--', color = 'yellow', label = 'train_mses')\n",
    "    plt.plot(np.arange(1,np.size(test_mses)+1),test_mses,'ro--', color = 'blue', label = 'test_mses')\n",
    "    plt.title('MSE on entire dataset in D', fontsize=18)\n",
    "    plt.xlabel('degree D', fontsize=18)\n",
    "    plt.ylabel('MSE       ', fontsize=18)\n",
    "    plt.legend()"
   ]
  },
  {
   "cell_type": "code",
   "execution_count": 7,
   "metadata": {},
   "outputs": [],
   "source": [
    "# run over all the degrees, fit each models, and calculate errors\n",
    "def try_all_degs(data, deg_range, k):\n",
    "    # generate nonlinear features\n",
    "    train_mses, test_mses = [], []\n",
    "    \n",
    "    for D in np.arange(0,np.size(deg_range)):\n",
    "        train_MSE = 0\n",
    "        test_MSE = 0\n",
    "        for i in range(k):\n",
    "            \n",
    "            train_x, train_y, test_x, test_y = train_test_split(data, i, k)\n",
    "            # generate poly feature transformation\n",
    "            train_F = poly_features(train_x,deg_range[D])\n",
    "            test_F = poly_features(test_x,deg_range[D])\n",
    "\n",
    "            # get weights for current model\n",
    "            train_temp = np.linalg.pinv(np.dot(train_F,train_F.T))\n",
    "            test_temp = np.linalg.pinv(np.dot(test_F,test_F.T))\n",
    "            w = np.dot(np.dot(train_temp,train_F),train_y)\n",
    "            train_MSE += np.linalg.norm(np.dot(train_F.T,w)-train_y)/np.size(train_y)\n",
    "            test_MSE += np.linalg.norm(np.dot(test_F.T,w)-test_y)/np.size(test_y)\n",
    "        \n",
    "        train_mses.append(train_MSE)\n",
    "        test_mses.append(test_MSE)\n",
    "    # make plot of mse's\n",
    "    fig = plt.figure(figsize = (7,7))\n",
    "    plot_mse(train_mses, test_mses,deg_range)\n",
    "    plt.show()"
   ]
  },
  {
   "cell_type": "code",
   "execution_count": 8,
   "metadata": {},
   "outputs": [
    {
     "data": {
      "image/png": "[encoded data removed]",
      "text/plain": [
       "<Figure size 504x504 with 1 Axes>"
      ]
     },
     "metadata": {},
     "output_type": "display_data"
    }
   ],
   "source": [
    "try_all_degs(data, M, k)"
   ]
  }
 ],
 "metadata": {
  "kernelspec": {
   "display_name": "Python 3",
   "language": "python",
   "name": "python3"
  },
  "language_info": {
   "codemirror_mode": {
    "name": "ipython",
    "version": 3
   },
   "file_extension": ".py",
   "mimetype": "text/x-python",
   "name": "python",
   "nbconvert_exporter": "python",
   "pygments_lexer": "ipython3",
   "version": "3.6.4"
  }
 },
 "nbformat": 4,
 "nbformat_minor": 2
}
