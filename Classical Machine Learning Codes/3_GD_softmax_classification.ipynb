{
 "cells": [
  {
   "cell_type": "code",
   "execution_count": 86,
   "metadata": {},
   "outputs": [],
   "source": [
    "# import several useful package\n",
    "\n",
    "import numpy as np\n",
    "import pandas as pd \n",
    "import matplotlib.pyplot as plt\n",
    "import csv"
   ]
  },
  {
   "cell_type": "code",
   "execution_count": 87,
   "metadata": {},
   "outputs": [
    {
     "data": {
      "text/plain": [
       "(698, 9)"
      ]
     },
     "execution_count": 87,
     "metadata": {},
     "output_type": "execute_result"
    }
   ],
   "source": [
    "data = pd.read_csv(\"breast_cancer_data.csv\")\n",
    "data.shape"
   ]
  },
  {
   "cell_type": "code",
   "execution_count": 88,
   "metadata": {},
   "outputs": [],
   "source": [
    "# import training data \n",
    "def load_data(csvname):\n",
    "    # load in data\n",
    "    reader = csv.reader(open(\"breast_cancer_data.csv\", \"r\"), delimiter=\",\")\n",
    "    d = list(reader)\n",
    "\n",
    "    # import data and reshape appropriately\n",
    "    data = np.array(d).astype(\"float\")\n",
    "    X = data[:,0:8]\n",
    "    y = data[:,8]\n",
    "    y.shape = (len(y),1)\n",
    "    \n",
    "    # pad data with ones for more compact gradient computation\n",
    "    o = np.ones((np.shape(X)[0],1))\n",
    "    X = np.concatenate((o,X),axis = 1)\n",
    "    X = X.T\n",
    "    \n",
    "    return X,y"
   ]
  },
  {
   "cell_type": "code",
   "execution_count": 89,
   "metadata": {},
   "outputs": [
    {
     "data": {
      "text/plain": [
       "(9, 699)"
      ]
     },
     "execution_count": 89,
     "metadata": {},
     "output_type": "execute_result"
    }
   ],
   "source": [
    "X, y = load_data(1)\n",
    "X.shape"
   ]
  },
  {
   "cell_type": "code",
   "execution_count": 177,
   "metadata": {},
   "outputs": [],
   "source": [
    "# softmax_gradient\n",
    "def softmax_grad(X, y, w0):\n",
    "    w_path = []                 # container for weights learned at each iteration\n",
    "    cost_path = []              # container for associated objective values at each iteration\n",
    "    w_path.append(np.asarray(w0))\n",
    "    cost = softmaxval(X, y, w0)\n",
    "    cost_path.append(cost)\n",
    "    w = w0\n",
    "    mis_classification = []\n",
    "    accuracy = []\n",
    "    # start gradient descent loop\n",
    "    max_its = 100\n",
    "    alpha = 10**(-5)\n",
    "    for k in range(max_its):\n",
    "        # YOUR CODE GOES HERE - compute gradient\n",
    "        grad = grad_softmax(X, y, w)\n",
    "        # take gradient step\n",
    "        w = w - alpha*grad\n",
    "\n",
    "        # update path containers\n",
    "        # print(\"the\",k, \"th iteration would bring value of w as:\", w)\n",
    "        w_path.append(w)\n",
    "        # print(\"This time, the w_path equal to:\", w_path)\n",
    "        cost = softmaxval(X, y, w)\n",
    "        # print(\"the\",k, \"th iteration would bring value of cost as:\", cost)\n",
    "        cost_path.append(cost)\n",
    "        # print(\"This time, the c_path equal to:\", cost_path)\n",
    "        mis_cl, accuracy_ = accuracy_score(X, y, w)   \n",
    "        mis_classification.append(mis_cl)\n",
    "        accuracy.append(accuracy_)\n",
    "        \n",
    "    # reshape containers for use in plotting in 3d\n",
    "    w_path = np.asarray(w_path)\n",
    "    w_path.shape = (int(np.shape(w_path)[0]),9)\n",
    "        \n",
    "    cost_path = np.asarray(cost_path)\n",
    "    cost_path.shape = (np.size(cost_path),1)\n",
    "    return w_path,cost_path, mis_classification, accuracy\n",
    "def softmax(X, y, w):\n",
    "    X_trans = X.T\n",
    "    grad = np.log(1 + np.exp(-y[0]*np.multiply(X_trans[0], w)))-np.log(1 + np.exp(-y[0]*np.multiply(X_trans[0], w)))\n",
    "    for i in range(len(X_trans)):\n",
    "        grad += np.log(1 + np.exp(-y[i]*np.multiply(X_trans[i], w)))\n",
    "    return grad\n",
    "\n",
    "def softmaxval(X, y, w):\n",
    "    X_trans = X.T\n",
    "    grad = np.log(1 + np.exp(-y[0]*np.multiply(X_trans[0], w)))-np.log(1 + np.exp(-y[0]*np.multiply(X_trans[0], w)))\n",
    "    for i in range(len(X_trans)):\n",
    "        grad += np.log(1 + np.exp(-y[i]*np.multiply(X_trans[i], w)))\n",
    "    return sum(grad)\n",
    "\n",
    "def sigmoid(x):\n",
    "    return 1/(1+np.exp(-x))\n",
    "\n",
    "def grad_softmax(X, y, w):\n",
    "    X_trans = X.T    \n",
    "    grad = -np.multiply(sigmoid(-y[0]*np.multiply(X_trans[0], w)),y[0]*X[:,0]) + np.multiply(sigmoid(-y[0]*np.multiply(X_trans[0], w)),y[0]*X[:,0])     \n",
    "    for i in range(len(X_trans)):\n",
    "        grad += -np.multiply(sigmoid(-y[i]*np.multiply(X_trans[i], w)),y[i]*X[:,i])\n",
    "    return grad\n",
    "def y_predict(X, y, w):\n",
    "    y_pred = np.dot(X.T, w)\n",
    "    for i in range(len(y_pred)):\n",
    "        if y_pred[i] >= 0:\n",
    "            y_pred[i] = 1\n",
    "        else:\n",
    "            y_pred[i] = 0\n",
    "    return y_pred\n",
    "\n",
    "def accuracy_score(X, y, w):\n",
    "    y_pred = y_predict(X, y, w)\n",
    "    mis_classification = 0\n",
    "    accuracy_score = 0\n",
    "    for i in range(len(y_pred)):\n",
    "        if y_pred[i] != y[i]:\n",
    "            mis_classification += 1\n",
    "    accuracy_score = mis_classification/ len(y_pred)\n",
    "    return mis_classification, accuracy_score"
   ]
  },
  {
   "cell_type": "code",
   "execution_count": 182,
   "metadata": {},
   "outputs": [],
   "source": [
    "# squared_margin_grad\n",
    "def squared_margin_grad(X, y, w0):\n",
    "    w_path = []                 # container for weights learned at each iteration\n",
    "    cost_path = []              # container for associated objective values at each iteration\n",
    "    w_path.append(np.asarray(w0))\n",
    "    cost = squared_margin(X, y, w0)\n",
    "    cost_path.append(cost)\n",
    "    w = w0\n",
    "    mis_classification = []\n",
    "    accuracy = []\n",
    "    # start gradient descent loop\n",
    "    max_its = 100\n",
    "    alpha = 10**(-5)\n",
    "    for k in range(max_its):\n",
    "        # YOUR CODE GOES HERE - compute gradient\n",
    "        grad = grad_squared_margin(X, y, w)\n",
    "        # take gradient step\n",
    "        w = w - alpha*grad\n",
    "\n",
    "        # update path containers\n",
    "        # print(\"the\",k, \"th iteration would bring value of w as:\", w)\n",
    "        w_path.append(w)\n",
    "        # print(\"This time, the w_path equal to:\", w_path)\n",
    "        cost = squared_margin(X, y, w)\n",
    "        # print(\"the\",k, \"th iteration would bring value of cost as:\", cost)\n",
    "        cost_path.append(cost)\n",
    "        # print(\"This time, the c_path equal to:\", cost_path)\n",
    "        mis_cl, accuracy_ = accuracy_score(X, y, w)   \n",
    "        mis_classification.append(mis_cl)\n",
    "        accuracy.append(accuracy_)\n",
    "\n",
    "    # reshape containers for use in plotting in 3d\n",
    "    w_path = np.asarray(w_path)\n",
    "    w_path.shape = (int(np.shape(w_path)[0]),9)\n",
    "        \n",
    "    cost_path = np.asarray(cost_path)\n",
    "    cost_path.shape = (np.size(cost_path),1)\n",
    "\n",
    "    return w_path,cost_path, mis_classification, accuracy  \n",
    "def squared_margin(X, y, w):\n",
    "    X_trans = X.T\n",
    "    grad = 0\n",
    "    for i in range(len(X_trans)):\n",
    "        for k in range(9):\n",
    "            grad += (max(0, (1- y[i]*np.multiply(X_trans[i][k], w[k]))))**2\n",
    "    return grad\n",
    "\n",
    "def sigmoid(x):\n",
    "    return 1/(1+np.exp(-x))\n",
    "\n",
    "def grad_squared_margin(X, y, w):\n",
    "    X_trans = X.T    \n",
    "    grad = np.zeros(9)\n",
    "    for k in range(9):\n",
    "        for i in range(len(X_trans)):\n",
    "            grad[k] += 2 * np.multiply(max(0, (1- y[i]*np.multiply(X_trans[i][k], w[k]))), y[i]*X[:,i][k])\n",
    "    return grad\n",
    "\n",
    "def y_predict(X, y, w):\n",
    "    y_pred = np.dot(X.T, w)\n",
    "    for i in range(len(y_pred)):\n",
    "        if y_pred[i] >= 0:\n",
    "            y_pred[i] = 1\n",
    "        else:\n",
    "            y_pred[i] = 0\n",
    "    return y_pred\n",
    "\n",
    "def accuracy_score(X, y, w):\n",
    "    y_pred = y_predict(X, y, w)\n",
    "    mis_classification = 0\n",
    "    accuracy_score = 0\n",
    "    for i in range(len(y_pred)):\n",
    "        if y_pred[i] != y[i]:\n",
    "            mis_classification += 1\n",
    "    accuracy_score = mis_classification/ len(y_pred)\n",
    "    return mis_classification, accuracy_score"
   ]
  },
  {
   "cell_type": "code",
   "execution_count": 186,
   "metadata": {},
   "outputs": [
    {
     "ename": "ValueError",
     "evalue": "The truth value of an array with more than one element is ambiguous. Use a.any() or a.all()",
     "output_type": "error",
     "traceback": [
      "\u001b[0;31m---------------------------------------------------------------------------\u001b[0m",
      "\u001b[0;31mValueError\u001b[0m                                Traceback (most recent call last)",
      "\u001b[0;32m<ipython-input-186-ade38cb265df>\u001b[0m in \u001b[0;36m<module>\u001b[0;34m()\u001b[0m\n\u001b[1;32m      5\u001b[0m \u001b[0mw0\u001b[0m\u001b[0;34m.\u001b[0m\u001b[0mshape\u001b[0m \u001b[0;34m=\u001b[0m \u001b[0;34m(\u001b[0m\u001b[0;36m9\u001b[0m\u001b[0;34m,\u001b[0m\u001b[0;36m1\u001b[0m\u001b[0;34m)\u001b[0m\u001b[0;34m\u001b[0m\u001b[0m\n\u001b[1;32m      6\u001b[0m \u001b[0;31m# run gradient descent\u001b[0m\u001b[0;34m\u001b[0m\u001b[0;34m\u001b[0m\u001b[0m\n\u001b[0;32m----> 7\u001b[0;31m \u001b[0mw1\u001b[0m\u001b[0;34m,\u001b[0m \u001b[0mcost1\u001b[0m\u001b[0;34m,\u001b[0m \u001b[0mmis1\u001b[0m\u001b[0;34m,\u001b[0m \u001b[0macc1\u001b[0m \u001b[0;34m=\u001b[0m \u001b[0msoftmax_grad\u001b[0m\u001b[0;34m(\u001b[0m\u001b[0mX\u001b[0m\u001b[0;34m,\u001b[0m\u001b[0my\u001b[0m\u001b[0;34m,\u001b[0m\u001b[0mw0\u001b[0m\u001b[0;34m)\u001b[0m\u001b[0;34m\u001b[0m\u001b[0m\n\u001b[0m\u001b[1;32m      8\u001b[0m \u001b[0mw2\u001b[0m\u001b[0;34m,\u001b[0m \u001b[0mcost2\u001b[0m\u001b[0;34m,\u001b[0m \u001b[0mmis2\u001b[0m\u001b[0;34m,\u001b[0m \u001b[0macc2\u001b[0m \u001b[0;34m=\u001b[0m \u001b[0msquared_margin_grad\u001b[0m\u001b[0;34m(\u001b[0m\u001b[0mX\u001b[0m\u001b[0;34m,\u001b[0m\u001b[0my\u001b[0m\u001b[0;34m,\u001b[0m\u001b[0mw0\u001b[0m\u001b[0;34m)\u001b[0m\u001b[0;34m\u001b[0m\u001b[0m\n\u001b[1;32m      9\u001b[0m \u001b[0;31m# w2, cost2 = squared_margin_grad(X,y,w0)\u001b[0m\u001b[0;34m\u001b[0m\u001b[0;34m\u001b[0m\u001b[0m\n",
      "\u001b[0;32m<ipython-input-177-928054aa29d0>\u001b[0m in \u001b[0;36msoftmax_grad\u001b[0;34m(X, y, w0)\u001b[0m\n\u001b[1;32m     26\u001b[0m         \u001b[0mcost_path\u001b[0m\u001b[0;34m.\u001b[0m\u001b[0mappend\u001b[0m\u001b[0;34m(\u001b[0m\u001b[0mcost\u001b[0m\u001b[0;34m)\u001b[0m\u001b[0;34m\u001b[0m\u001b[0m\n\u001b[1;32m     27\u001b[0m         \u001b[0;31m# print(\"This time, the c_path equal to:\", cost_path)\u001b[0m\u001b[0;34m\u001b[0m\u001b[0;34m\u001b[0m\u001b[0m\n\u001b[0;32m---> 28\u001b[0;31m         \u001b[0mmis_cl\u001b[0m\u001b[0;34m,\u001b[0m \u001b[0maccuracy_\u001b[0m \u001b[0;34m=\u001b[0m \u001b[0maccuracy_score\u001b[0m\u001b[0;34m(\u001b[0m\u001b[0mX\u001b[0m\u001b[0;34m,\u001b[0m \u001b[0my\u001b[0m\u001b[0;34m,\u001b[0m \u001b[0mw\u001b[0m\u001b[0;34m)\u001b[0m\u001b[0;34m\u001b[0m\u001b[0m\n\u001b[0m\u001b[1;32m     29\u001b[0m         \u001b[0mmis_classification\u001b[0m\u001b[0;34m.\u001b[0m\u001b[0mappend\u001b[0m\u001b[0;34m(\u001b[0m\u001b[0mmis_cl\u001b[0m\u001b[0;34m)\u001b[0m\u001b[0;34m\u001b[0m\u001b[0m\n\u001b[1;32m     30\u001b[0m         \u001b[0maccuracy\u001b[0m\u001b[0;34m.\u001b[0m\u001b[0mappend\u001b[0m\u001b[0;34m(\u001b[0m\u001b[0maccuracy_\u001b[0m\u001b[0;34m)\u001b[0m\u001b[0;34m\u001b[0m\u001b[0m\n",
      "\u001b[0;32m<ipython-input-182-84107cbebc1a>\u001b[0m in \u001b[0;36maccuracy_score\u001b[0;34m(X, y, w)\u001b[0m\n\u001b[1;32m     67\u001b[0m \u001b[0;34m\u001b[0m\u001b[0m\n\u001b[1;32m     68\u001b[0m \u001b[0;32mdef\u001b[0m \u001b[0maccuracy_score\u001b[0m\u001b[0;34m(\u001b[0m\u001b[0mX\u001b[0m\u001b[0;34m,\u001b[0m \u001b[0my\u001b[0m\u001b[0;34m,\u001b[0m \u001b[0mw\u001b[0m\u001b[0;34m)\u001b[0m\u001b[0;34m:\u001b[0m\u001b[0;34m\u001b[0m\u001b[0m\n\u001b[0;32m---> 69\u001b[0;31m     \u001b[0my_pred\u001b[0m \u001b[0;34m=\u001b[0m \u001b[0my_predict\u001b[0m\u001b[0;34m(\u001b[0m\u001b[0mX\u001b[0m\u001b[0;34m,\u001b[0m \u001b[0my\u001b[0m\u001b[0;34m,\u001b[0m \u001b[0mw\u001b[0m\u001b[0;34m)\u001b[0m\u001b[0;34m\u001b[0m\u001b[0m\n\u001b[0m\u001b[1;32m     70\u001b[0m     \u001b[0mmis_classification\u001b[0m \u001b[0;34m=\u001b[0m \u001b[0;36m0\u001b[0m\u001b[0;34m\u001b[0m\u001b[0m\n\u001b[1;32m     71\u001b[0m     \u001b[0maccuracy_score\u001b[0m \u001b[0;34m=\u001b[0m \u001b[0;36m0\u001b[0m\u001b[0;34m\u001b[0m\u001b[0m\n",
      "\u001b[0;32m<ipython-input-182-84107cbebc1a>\u001b[0m in \u001b[0;36my_predict\u001b[0;34m(X, y, w)\u001b[0m\n\u001b[1;32m     60\u001b[0m     \u001b[0my_pred\u001b[0m \u001b[0;34m=\u001b[0m \u001b[0mnp\u001b[0m\u001b[0;34m.\u001b[0m\u001b[0mdot\u001b[0m\u001b[0;34m(\u001b[0m\u001b[0mX\u001b[0m\u001b[0;34m.\u001b[0m\u001b[0mT\u001b[0m\u001b[0;34m,\u001b[0m \u001b[0mw\u001b[0m\u001b[0;34m)\u001b[0m\u001b[0;34m\u001b[0m\u001b[0m\n\u001b[1;32m     61\u001b[0m     \u001b[0;32mfor\u001b[0m \u001b[0mi\u001b[0m \u001b[0;32min\u001b[0m \u001b[0mrange\u001b[0m\u001b[0;34m(\u001b[0m\u001b[0mlen\u001b[0m\u001b[0;34m(\u001b[0m\u001b[0my_pred\u001b[0m\u001b[0;34m)\u001b[0m\u001b[0;34m)\u001b[0m\u001b[0;34m:\u001b[0m\u001b[0;34m\u001b[0m\u001b[0m\n\u001b[0;32m---> 62\u001b[0;31m         \u001b[0;32mif\u001b[0m \u001b[0my_pred\u001b[0m\u001b[0;34m[\u001b[0m\u001b[0mi\u001b[0m\u001b[0;34m]\u001b[0m \u001b[0;34m>=\u001b[0m \u001b[0;36m0\u001b[0m\u001b[0;34m:\u001b[0m\u001b[0;34m\u001b[0m\u001b[0m\n\u001b[0m\u001b[1;32m     63\u001b[0m             \u001b[0my_pred\u001b[0m\u001b[0;34m[\u001b[0m\u001b[0mi\u001b[0m\u001b[0;34m]\u001b[0m \u001b[0;34m=\u001b[0m \u001b[0;36m1\u001b[0m\u001b[0;34m\u001b[0m\u001b[0m\n\u001b[1;32m     64\u001b[0m         \u001b[0;32melse\u001b[0m\u001b[0;34m:\u001b[0m\u001b[0;34m\u001b[0m\u001b[0m\n",
      "\u001b[0;31mValueError\u001b[0m: The truth value of an array with more than one element is ambiguous. Use a.any() or a.all()"
     ]
    }
   ],
   "source": [
    "# load in data\n",
    "X,y = load_data('breast_cancer_data.csv')\n",
    "ini = 0.000001\n",
    "w0 = np.array([ini,ini,ini,ini,ini,ini,ini,ini,ini])\n",
    "w0.shape = (9,1)\n",
    "# run gradient descent\n",
    "w1, cost1, mis1, acc1 = softmax_grad(X,y,w0)\n",
    "w2, cost2, mis2, acc2 = squared_margin_grad(X,y,w0)\n",
    "# w2, cost2 = squared_margin_grad(X,y,w0)\n",
    "\n",
    "# plot points and separator\n"
   ]
  },
  {
   "cell_type": "code",
   "execution_count": 184,
   "metadata": {},
   "outputs": [
    {
     "data": {
      "text/plain": [
       "<function matplotlib.pyplot.show(*args, **kw)>"
      ]
     },
     "execution_count": 184,
     "metadata": {},
     "output_type": "execute_result"
    },
    {
     "data": {
      "image/png": "[encoded data removed]",
      "text/plain": [
       "<Figure size 432x288 with 1 Axes>"
      ]
     },
     "metadata": {},
     "output_type": "display_data"
    }
   ],
   "source": [
    "plt.plot(cost1, label = 'Softmax Classification')\n",
    "plt.plot(cost2, label = 'Squared Max')\n",
    "plt.legend()\n",
    "plt.show"
   ]
  },
  {
   "cell_type": "code",
   "execution_count": 185,
   "metadata": {},
   "outputs": [
    {
     "data": {
      "text/plain": [
       "<function matplotlib.pyplot.show(*args, **kw)>"
      ]
     },
     "execution_count": 185,
     "metadata": {},
     "output_type": "execute_result"
    },
    {
     "data": {
      "image/png": "[encoded data removed]",
      "text/plain": [
       "<Figure size 432x288 with 1 Axes>"
      ]
     },
     "metadata": {},
     "output_type": "display_data"
    }
   ],
   "source": [
    "plt.plot(mis1, label = 'Softmax Classification')\n",
    "plt.plot(mis2, label = 'Squared Max')\n",
    "plt.legend()\n",
    "plt.show"
   ]
  },
  {
   "cell_type": "code",
   "execution_count": 145,
   "metadata": {},
   "outputs": [
    {
     "data": {
      "text/plain": [
       "array([ 0.01076508, -0.0153856 , -0.04215344, -0.03969407, -0.03144485,\n",
       "       -0.01359145, -0.02087076, -0.0358916 , -0.00656309])"
      ]
     },
     "execution_count": 145,
     "metadata": {},
     "output_type": "execute_result"
    }
   ],
   "source": [
    "w1[-1]"
   ]
  },
  {
   "cell_type": "code",
   "execution_count": null,
   "metadata": {},
   "outputs": [],
   "source": [
    "def softmax_accuracy(X, y, w1):\n",
    "    w = w1[-1]\n",
    "    y_test = y\n",
    "    "
   ]
  }
 ],
 "metadata": {
  "kernelspec": {
   "display_name": "Python 3",
   "language": "python",
   "name": "python3"
  },
  "language_info": {
   "codemirror_mode": {
    "name": "ipython",
    "version": 3
   },
   "file_extension": ".py",
   "mimetype": "text/x-python",
   "name": "python",
   "nbconvert_exporter": "python",
   "pygments_lexer": "ipython3",
   "version": "3.6.5"
  }
 },
 "nbformat": 4,
 "nbformat_minor": 2
}
