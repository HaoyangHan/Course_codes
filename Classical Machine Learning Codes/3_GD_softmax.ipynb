{
 "cells": [
  {
   "cell_type": "code",
   "execution_count": 44,
   "metadata": {},
   "outputs": [],
   "source": [
    "# This file is associated with the book\n",
    "# \"Machine Learning Refined\", Cambridge University Press, 2016.\n",
    "# by Jeremy Watt, Reza Borhani, and Aggelos Katsaggelos.\n",
    "\n",
    "import numpy as np\n",
    "import pandas as pd\n",
    "import matplotlib.pyplot as plt\n",
    "import csv"
   ]
  },
  {
   "cell_type": "markdown",
   "metadata": {},
   "source": [
    "A simple data loading function."
   ]
  },
  {
   "cell_type": "code",
   "execution_count": 45,
   "metadata": {},
   "outputs": [],
   "source": [
    "# import training data \n",
    "def load_data(csvname):\n",
    "    # load in data\n",
    "    reader = csv.reader(open(\"breast_cancer_data.csv\", \"r\"), delimiter=\",\")\n",
    "    d = list(reader)\n",
    "\n",
    "    # import data and reshape appropriately\n",
    "    data = np.array(d).astype(\"float\")\n",
    "    X = data[:,0:2]\n",
    "    y = data[:,2]\n",
    "    y.shape = (len(y),1)\n",
    "    \n",
    "    # pad data with ones for more compact gradient computation\n",
    "    o = np.ones((np.shape(X)[0],1))\n",
    "    X = np.concatenate((o,X),axis = 1)\n",
    "    X = X.T\n",
    "    \n",
    "    return X,y"
   ]
  },
  {
   "cell_type": "markdown",
   "metadata": {},
   "source": [
    "Functionality for gradient descent - including a function for computing gradients, performing the descent loop, etc.,"
   ]
  },
  {
   "cell_type": "code",
   "execution_count": 42,
   "metadata": {},
   "outputs": [],
   "source": [
    "# YOUR CODE GOES HERE - create a gradient descent function for softmax cost/logistic regression \n",
    "def softmax_grad(X, y, w0):\n",
    "    w_path = []                 # container for weights learned at each iteration\n",
    "    cost_path = []              # container for associated objective values at each iteration\n",
    "    w_path.append(np.asarray(w0))\n",
    "    cost = softmaxval(X, y, w0)\n",
    "    cost_path.append(cost)\n",
    "    w = w0\n",
    "    # start gradient descent loop\n",
    "    max_its = 5000\n",
    "    alpha = 10**(-2)\n",
    "    for k in range(max_its):\n",
    "        # YOUR CODE GOES HERE - compute gradient\n",
    "        grad = grad_softmax(X, y, w)\n",
    "        # take gradient step\n",
    "        w = w - alpha*grad\n",
    "\n",
    "        # update path containers\n",
    "        # print(\"the\",k, \"th iteration would bring value of w as:\", w)\n",
    "        w_path.append(w)\n",
    "        # print(\"This time, the w_path equal to:\", w_path)\n",
    "        cost = softmaxval(X, y, w)\n",
    "        cost_path.append(cost)\n",
    "\n",
    "    # reshape containers for use in plotting in 3d\n",
    "    w_path = np.asarray(w_path)\n",
    "    w_path.shape = (int(np.shape(w_path)[0]),3)\n",
    "        \n",
    "    cost_path = np.asarray(cost_path)\n",
    "    cost_path.shape = (np.size(cost_path),1)\n",
    "\n",
    "    return w_path,cost_path   \n",
    "def softmax(X, y, w):\n",
    "    X_trans = X.T\n",
    "    grad = np.log(1 + np.exp(-y[0]*np.multiply(X_trans[0], w)))-np.log(1 + np.exp(-y[0]*np.multiply(X_trans[0], w)))\n",
    "    for i in range(len(X_trans)):\n",
    "        grad += np.log(1 + np.exp(-y[i]*np.multiply(X_trans[i], w)))\n",
    "    return grad\n",
    "def softmaxval(X, y, w):\n",
    "    X_trans = X.T\n",
    "    grad = np.log(1 + np.exp(-y[0]*np.multiply(X_trans[0], w)))-np.log(1 + np.exp(-y[0]*np.multiply(X_trans[0], w)))\n",
    "    for i in range(len(X_trans)):\n",
    "        grad += np.log(1 + np.exp(-y[i]*np.multiply(X_trans[i], w)))\n",
    "    return sum(grad)\n",
    "\n",
    "\n",
    "\n",
    "def sigmoid(x):\n",
    "    return 1/(1+np.exp(-x))\n",
    "\n",
    "def grad_softmax(X, y, w):\n",
    "    X_trans = X.T    \n",
    "    grad = -np.multiply(sigmoid(-y[0]*np.multiply(X_trans[0], w)),y[0]*X[:,0]) + np.multiply(sigmoid(-y[0]*np.multiply(X_trans[0], w)),y[0]*X[:,0])     \n",
    "    for i in range(len(X_trans)):\n",
    "        grad += -np.multiply(sigmoid(-y[i]*np.multiply(X_trans[i], w)),y[i]*X[:,i])\n",
    "    return grad"
   ]
  },
  {
   "cell_type": "code",
   "execution_count": 47,
   "metadata": {},
   "outputs": [],
   "source": [
    "def softmax_grad(X,y, w0):\n",
    "    \n",
    "    w = np.random.randn(3,1);        \n",
    "    alpha = 10**-2\n",
    "    max_its = 5000\n",
    "    \n",
    "    for k in range(max_its):\n",
    "\n",
    "        t_temp = y*np.dot(X.T,w)\n",
    "        grad =  np.dot(X,-1/(1+np.exp(t_temp))*y)\n",
    "        w = w - alpha*grad\n",
    "    \n",
    "   \n",
    "        \n",
    "    return w"
   ]
  },
  {
   "cell_type": "markdown",
   "metadata": {},
   "source": [
    "Up next - a plotting function to show the datapoints and learned separator."
   ]
  },
  {
   "cell_type": "code",
   "execution_count": 24,
   "metadata": {},
   "outputs": [],
   "source": [
    "# plots everything \n",
    "def plot_all(X,y,w):\n",
    "    # custom colors for plotting points\n",
    "    red = [1,0,0.4]  \n",
    "    blue = [0,0.4,1]\n",
    "    \n",
    "    # scatter plot points\n",
    "    fig = plt.figure(figsize = (4,4))\n",
    "    ind = np.argwhere(y==1)\n",
    "    ind = [s[0] for s in ind]\n",
    "    plt.scatter(X[1,ind],X[2,ind],color = red,edgecolor = 'k',s = 25)\n",
    "    ind = np.argwhere(y==-1)\n",
    "    ind = [s[0] for s in ind]\n",
    "    plt.scatter(X[1,ind],X[2,ind],color = blue,edgecolor = 'k',s = 25)\n",
    "    plt.grid('off')\n",
    "    \n",
    "    # plot separator\n",
    "    s = np.linspace(0,1,100) \n",
    "    plt.plot(s,(2*w[-1][0]-w[-1][1]*s)/w[-1][2],color = 'k',linewidth = 2)\n",
    "    \n",
    "    # clean up plot\n",
    "    plt.xlim([-0.1,1.1])\n",
    "    plt.ylim([-0.1,1.1])\n",
    "    plt.show()"
   ]
  },
  {
   "cell_type": "markdown",
   "metadata": {},
   "source": [
    "With everything defined, lets run all."
   ]
  },
  {
   "cell_type": "code",
   "execution_count": 39,
   "metadata": {},
   "outputs": [
    {
     "name": "stderr",
     "output_type": "stream",
     "text": [
      "/Users/kevin/anaconda3/lib/python3.6/site-packages/matplotlib/cbook/deprecation.py:107: MatplotlibDeprecationWarning: Passing one of 'on', 'true', 'off', 'false' as a boolean is deprecated; use an actual boolean (True/False) instead.\n",
      "  warnings.warn(message, mplDeprecation, stacklevel=1)\n"
     ]
    },
    {
     "data": {
      "image/png": "[encoded data removed]",
      "text/plain": [
       "<Figure size 288x288 with 1 Axes>"
      ]
     },
     "metadata": {},
     "output_type": "display_data"
    }
   ],
   "source": [
    "# load in data\n",
    "X,y = load_data('imbalanced_2class.csv')\n",
    "w0 = [0,0,0]\n",
    "# run gradient descent\n",
    "w, cost = softmax_grad(X,y,w0)\n",
    "\n",
    "# plot points and separator\n",
    "plot_all(X,y,w)"
   ]
  },
  {
   "cell_type": "code",
   "execution_count": 6,
   "metadata": {},
   "outputs": [
    {
     "data": {
      "text/plain": [
       "array([[0.        , 0.        , 0.        ],\n",
       "       [0.4       , 0.32263375, 0.2944242 ],\n",
       "       [0.70131234, 0.60198312, 0.5560802 ],\n",
       "       ...,\n",
       "       [2.19722458, 4.07761043, 4.53547037],\n",
       "       [2.19722458, 4.07761043, 4.53547037],\n",
       "       [2.19722458, 4.07761043, 4.53547037]])"
      ]
     },
     "execution_count": 6,
     "metadata": {},
     "output_type": "execute_result"
    }
   ],
   "source": [
    "w\n"
   ]
  },
  {
   "cell_type": "code",
   "execution_count": 40,
   "metadata": {},
   "outputs": [
    {
     "data": {
      "image/png": "[encoded data removed]",
      "text/plain": [
       "<Figure size 432x288 with 1 Axes>"
      ]
     },
     "metadata": {},
     "output_type": "display_data"
    }
   ],
   "source": [
    "plt.plot(cost)\n",
    "plt.show()"
   ]
  },
  {
   "cell_type": "code",
   "execution_count": 7,
   "metadata": {},
   "outputs": [
    {
     "data": {
      "text/plain": [
       "2.1972245773362182"
      ]
     },
     "execution_count": 7,
     "metadata": {},
     "output_type": "execute_result"
    }
   ],
   "source": [
    "w[-1][0]"
   ]
  }
 ],
 "metadata": {
  "anaconda-cloud": {},
  "kernelspec": {
   "display_name": "Python 3",
   "language": "python",
   "name": "python3"
  },
  "language_info": {
   "codemirror_mode": {
    "name": "ipython",
    "version": 3
   },
   "file_extension": ".py",
   "mimetype": "text/x-python",
   "name": "python",
   "nbconvert_exporter": "python",
   "pygments_lexer": "ipython3",
   "version": "3.6.5"
  }
 },
 "nbformat": 4,
 "nbformat_minor": 1
}
