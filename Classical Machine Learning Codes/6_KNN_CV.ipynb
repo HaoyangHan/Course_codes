{
 "cells": [
  {
   "cell_type": "code",
   "execution_count": 1,
   "metadata": {},
   "outputs": [],
   "source": [
    "import numpy as np\n",
    "import pandas as pd\n",
    "import matplotlib.pyplot as plt\n",
    "\n",
    "# cross validation parameters:\n",
    "k = 3\n",
    "# M = [2,5,9,14,20,27,35,44]\n",
    "D_ = [1,2,3,4,5,6,7,8]"
   ]
  },
  {
   "cell_type": "code",
   "execution_count": 2,
   "metadata": {},
   "outputs": [],
   "source": [
    "# load data\n",
    "def load_data():\n",
    "    data = np.array(np.genfromtxt('2eggs_data.csv', delimiter=','))\n",
    "    data = np.random.permutation(data)\n",
    "    return data\n",
    "data = load_data()"
   ]
  },
  {
   "cell_type": "code",
   "execution_count": 3,
   "metadata": {},
   "outputs": [],
   "source": [
    "def train_test_split(data, D, k):\n",
    "    \n",
    "    extra = data.shape[0] % k\n",
    "    data_k=np.split(data[extra:], k)\n",
    "    \n",
    "\n",
    "    data_test = data_k[D]\n",
    "#     test_x = data_test[:,0]\n",
    "#     test_y = data_test[:,1]\n",
    "    test_x = data_test[:,:-1]\n",
    "    test_y = data_test[:,-1:]\n",
    "    test_l = data_test[:,]\n",
    "    \n",
    "    part=int((data.shape[0]-extra)/k)\n",
    "    \n",
    "    data_train = np.delete(data, range(D*part,(D+1)*part), axis=0)\n",
    "    \n",
    "    train_x = data_train[:,:-1]\n",
    "    train_y = data_train[:,-1:]\n",
    "                \n",
    "    return train_x, train_y, test_x, test_y"
   ]
  },
  {
   "cell_type": "code",
   "execution_count": 4,
   "metadata": {},
   "outputs": [],
   "source": [
    "def sign_np(x):\n",
    "    x[x>=0] = 1\n",
    "    x[x<0] =-1\n",
    "    return x\n",
    "\n",
    "def compare(x):\n",
    "    x[x<0]=0\n",
    "    return x\n",
    "\n",
    "def polynomial_features(x, order):\n",
    "    x = np.asarray(x).T[np.newaxis]\n",
    "    n = x.shape[1]\n",
    "    power_matrix = np.tile(np.arange(order + 1), (n, 1)).T[..., np.newaxis]\n",
    "    X = np.power(x, power_matrix)\n",
    "    I = np.indices((order + 1, ) * n).reshape((n, (order + 1) ** n)).T\n",
    "    F = np.product(np.diagonal(X[I], 0, 1, 2), axis=2)\n",
    "    return F"
   ]
  },
  {
   "cell_type": "code",
   "execution_count": 5,
   "metadata": {},
   "outputs": [],
   "source": [
    "# plot mse's over all D tested \n",
    "def plot_mse(train_mses, test_mses, deg):\n",
    "    plt.plot(np.arange(1,np.size(train_mses)+1),train_mses,'ro--', color = 'yellow', label = 'train_error')\n",
    "    plt.plot(np.arange(1,np.size(test_mses)+1),test_mses,'ro--', color = 'blue', label = 'test_error')\n",
    "    plt.title('Error on entire dataset in D', fontsize=18)\n",
    "    plt.xlabel('degree D', fontsize=18)\n",
    "    plt.ylabel('Error       ', fontsize=18)\n",
    "    plt.legend()"
   ]
  },
  {
   "cell_type": "code",
   "execution_count": 6,
   "metadata": {},
   "outputs": [],
   "source": [
    "# run over all the degrees, fit each models, and calculate errors\n",
    "def try_all_degs(data, deg_range, k):\n",
    "    # generate nonlinear features\n",
    "    train_mses, test_mses = [], []\n",
    "    for D in np.arange(0,np.size(deg_range)):\n",
    "        train_MSE = 0\n",
    "        test_MSE = 0\n",
    "        for i in range(k):\n",
    "\n",
    "            train_x, train_y, test_x, test_y = train_test_split(data, i, k)\n",
    "\n",
    "            F = polynomial_features(train_x, D_[D])\n",
    "            w = np.dot(np.linalg.pinv(np.dot(F, F.T)), np.dot(F,train_y))            \n",
    "\n",
    "            train_MSE += np.mean(compare(sign_np(-train_y*np.dot(F.T,w))))\n",
    "    \n",
    "            F = polynomial_features(test_x, D_[D])\n",
    "            test_MSE += np.mean(compare(sign_np(-test_y*np.dot(F.T,w))))\n",
    "\n",
    "        train_mses.append(train_MSE)\n",
    "        test_mses.append(test_MSE)\n",
    "\n",
    "    fig = plt.figure(figsize = (7,7))\n",
    "    plot_mse(train_mses, test_mses,deg_range)\n",
    "    plt.show()"
   ]
  },
  {
   "cell_type": "code",
   "execution_count": 7,
   "metadata": {},
   "outputs": [
    {
     "data": {
      "text/plain": [
       "<matplotlib.figure.Figure at 0x10e785470>"
      ]
     },
     "metadata": {},
     "output_type": "display_data"
    },
    {
     "data": {
      "image/png": "[encoded data removed]",
      "text/plain": [
       "<matplotlib.figure.Figure at 0x10b0bbfd0>"
      ]
     },
     "metadata": {},
     "output_type": "display_data"
    }
   ],
   "source": [
    "plt.clf()\n",
    "try_all_degs(data, D_, k)"
   ]
  }
 ],
 "metadata": {
  "kernelspec": {
   "display_name": "Python 3",
   "language": "python",
   "name": "python3"
  },
  "language_info": {
   "codemirror_mode": {
    "name": "ipython",
    "version": 3
   },
   "file_extension": ".py",
   "mimetype": "text/x-python",
   "name": "python",
   "nbconvert_exporter": "python",
   "pygments_lexer": "ipython3",
   "version": "3.6.4"
  }
 },
 "nbformat": 4,
 "nbformat_minor": 2
}
