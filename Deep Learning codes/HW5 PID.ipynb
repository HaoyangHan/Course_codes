{
 "cells": [
  {
   "cell_type": "markdown",
   "metadata": {},
   "source": [
    "# Reinforcement learning from scratch: homework 1"
   ]
  },
  {
   "cell_type": "markdown",
   "metadata": {},
   "source": [
    "Haoyang Han \n",
    "\n",
    "hhr8512"
   ]
  },
  {
   "cell_type": "markdown",
   "metadata": {},
   "source": [
    "### General instructions\n",
    "\n",
    "Complete the exericse listed below in this Jupyter notebook - leaving all of your code in Python cells in the notebook itself.  Feel free to add any necessary cells.  "
   ]
  },
  {
   "cell_type": "markdown",
   "metadata": {},
   "source": [
    "### When submitting this homework:\n",
    "\n",
    "**Make sure you have put your name at the top of each file**\n",
    "    \n",
    "**Make sure all output is present in your notebook prior to submission**"
   ]
  },
  {
   "cell_type": "code",
   "execution_count": 1,
   "metadata": {},
   "outputs": [],
   "source": [
    "# import custom libraries\n",
    "from custom_library import basic_optimizers as optimizers\n",
    "from custom_library import variable_order_plotters as plotter\n",
    "\n",
    "# import autograd functionality\n",
    "import autograd.numpy as np\n",
    "\n",
    "# import path to datasets\n",
    "datapath = 'datasets/'\n",
    "\n",
    "# this is needed to compensate for %matplotl+ib notebook's tendancy to blow up images when plotted inline\n",
    "from matplotlib import rcParams\n",
    "rcParams['figure.autolayout'] = True\n",
    "%matplotlib notebook\n",
    "\n",
    "# autoreload function - so if anything behind the scenes is changeed those changes\n",
    "# are reflected in the notebook without having to restart the kernel\n",
    "%load_ext autoreload\n",
    "%autoreload 2"
   ]
  },
  {
   "cell_type": "code",
   "execution_count": 2,
   "metadata": {},
   "outputs": [],
   "source": [
    "import matplotlib.pyplot as plt\n",
    "import copy"
   ]
  },
  {
   "cell_type": "markdown",
   "metadata": {},
   "source": [
    "#### <span style=\"color:#a50e3e;\">Exercise 1: </span>  Perform system identification on a small chunk of cruise control data "
   ]
  },
  {
   "cell_type": "markdown",
   "metadata": {},
   "source": [
    "In this exercise you will create a system model - denoted as $f_{\\text{system}}$ in the [course notes](https://www.dropbox.com/s/m6456ze0fd8kaf8/system_identification_pid_notes.pdf?dl=0) - using a small snippet of cruise control data shown below.  Here our `output sequence` are states $\\left\\{s_t\\right\\}_{t=1}^T$, and the `input sequence` corresponding actions $\\left\\{a_t\\right\\}_{t=1}^{T-1}$ (we can ignore any finanl action $a_T$ since there is no next state $s_{t+1}$ to regress it on in learning our system model).  Notice at each update step the action is clipped to lie in the range $[-50,100]$ - which is the angle of the pedal against the floor of the car.  Here a negative angle indicates that 'regenerative braking' was applied."
   ]
  },
  {
   "cell_type": "code",
   "execution_count": 3,
   "metadata": {
    "scrolled": false
   },
   "outputs": [
    {
     "name": "stderr",
     "output_type": "stream",
     "text": [
      "/Users/kevin/anaconda3/lib/python3.6/site-packages/matplotlib/figure.py:2267: UserWarning: This figure includes Axes that are not compatible with tight_layout, so results might be incorrect.\n",
      "  warnings.warn(\"This figure includes Axes that are not compatible \"\n"
     ]
    },
    {
     "data": {
      "image/png": "[encoded data removed]",
      "text/plain": [
       "<Figure size 720x360 with 2 Axes>"
      ]
     },
     "metadata": {},
     "output_type": "display_data"
    }
   ],
   "source": [
    "# load in cruise control data\n",
    "data = np.loadtxt(datapath + 'cruise_control_data.csv',delimiter = ',')\n",
    "\n",
    "# extract actions and states \n",
    "actions = data[0,1:][np.newaxis,:] # our T-1 actions\n",
    "states = data[1,:][np.newaxis,:]   # our T states\n",
    "\n",
    "# plot the test pair\n",
    "plotter.plot_pair(actions,states)\n",
    "\n"
   ]
  },
  {
   "cell_type": "code",
   "execution_count": 4,
   "metadata": {},
   "outputs": [
    {
     "data": {
      "text/plain": [
       "array([[ 0.        , 91.12505169, 80.68971471, ..., 28.32267594,\n",
       "        28.32263555, 28.32259758],\n",
       "       [ 0.        ,  3.90652309,  7.33612106, ..., 34.00286046,\n",
       "        34.00268926, 34.00252831]])"
      ]
     },
     "execution_count": 4,
     "metadata": {},
     "output_type": "execute_result"
    }
   ],
   "source": [
    "data[:5]"
   ]
  },
  {
   "cell_type": "code",
   "execution_count": 5,
   "metadata": {},
   "outputs": [],
   "source": [
    "# A simple (order 1 MDP, linear) system model implementation\n",
    "def system_model(s_t,a_t,w):\n",
    "    return w[0] + w[1]*s_t + w[2]*a_t\n"
   ]
  },
  {
   "cell_type": "code",
   "execution_count": 6,
   "metadata": {},
   "outputs": [],
   "source": [
    "# loop for evaluating system_model over all input/output action/state pairs\n",
    "def system_loop(w,a,s):\n",
    "# compute least squares over all system model outputs at once s_predict = [s[:,0]] # container for system_model state outputs for t in range(a.shape[1]):\n",
    "    # get current action-state pair\n",
    "    s_predict = []\n",
    "    for t in range(len(a.T)):\n",
    "        a_t = a[:,t]\n",
    "        s_t = s[:,t]\n",
    "        # feed into system_model to get predicted output\n",
    "        s_hat = system_model(s_t,a_t,w)\n",
    "        # store prediction\n",
    "        s_predict.append(s_hat)\n",
    "    # array-afy predictions and return\n",
    "    return np.array(s_predict).T"
   ]
  },
  {
   "cell_type": "code",
   "execution_count": 7,
   "metadata": {},
   "outputs": [],
   "source": [
    "# an implementation of the least squares cost for system identification # note here: s is an (1 x T) array and a an (1 x T-1) array\n",
    "def least_squares(w,a,s):\n",
    "# system_loop - runs over all action-state pairs and produces entire # state prediction set\n",
    "    s_predict = system_loop(w,a,s)\n",
    "    # compute least squares error between real and predicted states\n",
    "    cost = np.sum((s_predict[:,1:] - s[:,2:])**2) \n",
    "    return cost/float(s.shape[1]-1)"
   ]
  },
  {
   "cell_type": "code",
   "execution_count": 8,
   "metadata": {},
   "outputs": [
    {
     "name": "stdout",
     "output_type": "stream",
     "text": [
      "step 2 done in 0.1 secs, train cost = 2158.3399\n",
      "step 3 done in 0.2 secs, train cost = 238.1382\n",
      "step 4 done in 0.2 secs, train cost = 117.3458\n",
      "step 5 done in 0.1 secs, train cost = 103.936\n",
      "step 6 done in 0.2 secs, train cost = 97.2867\n",
      "step 7 done in 0.2 secs, train cost = 91.3927\n",
      "step 8 done in 0.1 secs, train cost = 85.8758\n",
      "step 9 done in 0.2 secs, train cost = 80.6932\n",
      "step 10 done in 0.2 secs, train cost = 75.8237\n",
      "step 11 done in 0.1 secs, train cost = 71.2483\n",
      "step 12 done in 0.2 secs, train cost = 66.9492\n",
      "step 13 done in 0.2 secs, train cost = 62.9097\n",
      "step 14 done in 0.2 secs, train cost = 59.1142\n",
      "step 15 done in 0.2 secs, train cost = 55.5479\n",
      "step 16 done in 0.2 secs, train cost = 52.1969\n",
      "step 17 done in 0.2 secs, train cost = 49.0484\n",
      "step 18 done in 0.2 secs, train cost = 46.0899\n",
      "step 19 done in 0.2 secs, train cost = 43.3102\n",
      "step 20 done in 0.2 secs, train cost = 40.6983\n",
      "step 21 done in 0.2 secs, train cost = 38.2441\n",
      "step 22 done in 0.2 secs, train cost = 35.9382\n",
      "step 23 done in 0.2 secs, train cost = 33.7715\n",
      "step 24 done in 0.2 secs, train cost = 31.7357\n",
      "step 25 done in 0.2 secs, train cost = 29.8228\n",
      "step 26 done in 0.2 secs, train cost = 28.0254\n",
      "step 27 done in 0.2 secs, train cost = 26.3366\n",
      "step 28 done in 0.2 secs, train cost = 24.7497\n",
      "step 29 done in 0.2 secs, train cost = 23.2587\n",
      "step 30 done in 0.2 secs, train cost = 21.8578\n",
      "step 31 done in 0.2 secs, train cost = 20.5414\n",
      "step 32 done in 0.2 secs, train cost = 19.3046\n",
      "step 33 done in 0.2 secs, train cost = 18.1424\n",
      "step 34 done in 0.2 secs, train cost = 17.0504\n",
      "step 35 done in 0.2 secs, train cost = 16.0244\n",
      "step 36 done in 0.2 secs, train cost = 15.0603\n",
      "step 37 done in 0.2 secs, train cost = 14.1545\n",
      "step 38 done in 0.2 secs, train cost = 13.3033\n",
      "step 39 done in 0.2 secs, train cost = 12.5036\n",
      "step 40 done in 0.2 secs, train cost = 11.7521\n",
      "step 41 done in 0.2 secs, train cost = 11.0461\n",
      "step 42 done in 0.2 secs, train cost = 10.3826\n",
      "step 43 done in 0.2 secs, train cost = 9.7593\n",
      "step 44 done in 0.2 secs, train cost = 9.1736\n",
      "step 45 done in 0.2 secs, train cost = 8.6232\n",
      "step 46 done in 0.2 secs, train cost = 8.1061\n",
      "step 47 done in 0.2 secs, train cost = 7.6202\n",
      "step 48 done in 0.2 secs, train cost = 7.1637\n",
      "step 49 done in 0.2 secs, train cost = 6.7347\n",
      "step 50 done in 0.2 secs, train cost = 6.3317\n",
      "step 51 done in 0.2 secs, train cost = 5.9529\n",
      "step 52 done in 0.1 secs, train cost = 5.5971\n",
      "step 53 done in 0.2 secs, train cost = 5.2627\n",
      "step 54 done in 0.2 secs, train cost = 4.9486\n",
      "step 55 done in 0.1 secs, train cost = 4.6534\n",
      "step 56 done in 0.2 secs, train cost = 4.376\n",
      "step 57 done in 0.2 secs, train cost = 4.1154\n",
      "step 58 done in 0.1 secs, train cost = 3.8705\n",
      "step 59 done in 0.2 secs, train cost = 3.6404\n",
      "step 60 done in 0.2 secs, train cost = 3.4242\n",
      "step 61 done in 0.1 secs, train cost = 3.2211\n",
      "step 62 done in 0.2 secs, train cost = 3.0302\n",
      "step 63 done in 0.2 secs, train cost = 2.8509\n",
      "step 64 done in 0.1 secs, train cost = 2.6824\n",
      "step 65 done in 0.2 secs, train cost = 2.5241\n",
      "step 66 done in 0.2 secs, train cost = 2.3753\n",
      "step 67 done in 0.1 secs, train cost = 2.2355\n",
      "step 68 done in 0.2 secs, train cost = 2.1041\n",
      "step 69 done in 0.2 secs, train cost = 1.9807\n",
      "step 70 done in 0.1 secs, train cost = 1.8648\n",
      "step 71 done in 0.2 secs, train cost = 1.7558\n",
      "step 72 done in 0.2 secs, train cost = 1.6534\n",
      "step 73 done in 0.2 secs, train cost = 1.5572\n",
      "step 74 done in 0.2 secs, train cost = 1.4668\n",
      "step 75 done in 0.2 secs, train cost = 1.3819\n",
      "step 76 done in 0.2 secs, train cost = 1.3021\n",
      "step 77 done in 0.2 secs, train cost = 1.2271\n",
      "step 78 done in 0.2 secs, train cost = 1.1567\n",
      "step 79 done in 0.1 secs, train cost = 1.0905\n",
      "step 80 done in 0.2 secs, train cost = 1.0283\n",
      "step 81 done in 0.2 secs, train cost = 0.9699\n",
      "step 82 done in 0.2 secs, train cost = 0.9149\n",
      "step 83 done in 0.2 secs, train cost = 0.8633\n",
      "step 84 done in 0.2 secs, train cost = 0.8149\n",
      "step 85 done in 0.1 secs, train cost = 0.7693\n",
      "step 86 done in 0.2 secs, train cost = 0.7265\n",
      "step 87 done in 0.2 secs, train cost = 0.6863\n",
      "step 88 done in 0.2 secs, train cost = 0.6485\n",
      "step 89 done in 0.2 secs, train cost = 0.613\n",
      "step 90 done in 0.2 secs, train cost = 0.5796\n",
      "step 91 done in 0.2 secs, train cost = 0.5483\n",
      "step 92 done in 0.2 secs, train cost = 0.5188\n",
      "step 93 done in 0.2 secs, train cost = 0.4911\n",
      "step 94 done in 0.1 secs, train cost = 0.4651\n",
      "step 95 done in 0.2 secs, train cost = 0.4407\n",
      "step 96 done in 0.2 secs, train cost = 0.4178\n",
      "step 97 done in 0.2 secs, train cost = 0.3962\n",
      "step 98 done in 0.2 secs, train cost = 0.3759\n",
      "step 99 done in 0.2 secs, train cost = 0.3569\n",
      "step 100 done in 0.2 secs, train cost = 0.339\n",
      "step 101 done in 0.2 secs, train cost = 0.3222\n",
      "step 102 done in 0.2 secs, train cost = 0.3064\n",
      "step 103 done in 0.2 secs, train cost = 0.2915\n",
      "step 104 done in 0.2 secs, train cost = 0.2776\n",
      "step 105 done in 0.2 secs, train cost = 0.2645\n",
      "step 106 done in 0.2 secs, train cost = 0.2521\n",
      "step 107 done in 0.2 secs, train cost = 0.2406\n",
      "step 108 done in 0.2 secs, train cost = 0.2297\n",
      "step 109 done in 0.2 secs, train cost = 0.2195\n",
      "step 110 done in 0.2 secs, train cost = 0.2099\n",
      "step 111 done in 0.2 secs, train cost = 0.2009\n",
      "step 112 done in 0.2 secs, train cost = 0.1924\n",
      "step 113 done in 0.2 secs, train cost = 0.1844\n",
      "step 114 done in 0.2 secs, train cost = 0.1769\n",
      "step 115 done in 0.2 secs, train cost = 0.1699\n",
      "step 116 done in 0.2 secs, train cost = 0.1633\n",
      "step 117 done in 0.2 secs, train cost = 0.1571\n",
      "step 118 done in 0.2 secs, train cost = 0.1513\n",
      "step 119 done in 0.2 secs, train cost = 0.1458\n",
      "step 120 done in 0.2 secs, train cost = 0.1406\n",
      "step 121 done in 0.2 secs, train cost = 0.1358\n",
      "step 122 done in 0.2 secs, train cost = 0.1313\n",
      "step 123 done in 0.2 secs, train cost = 0.127\n",
      "step 124 done in 0.2 secs, train cost = 0.123\n",
      "step 125 done in 0.2 secs, train cost = 0.1192\n",
      "step 126 done in 0.2 secs, train cost = 0.1157\n",
      "step 127 done in 0.1 secs, train cost = 0.1123\n",
      "step 128 done in 0.2 secs, train cost = 0.1092\n",
      "step 129 done in 0.2 secs, train cost = 0.1063\n",
      "step 130 done in 0.1 secs, train cost = 0.1035\n",
      "step 131 done in 0.2 secs, train cost = 0.1009\n",
      "step 132 done in 0.2 secs, train cost = 0.0985\n",
      "step 133 done in 0.1 secs, train cost = 0.0962\n",
      "step 134 done in 0.2 secs, train cost = 0.094\n",
      "step 135 done in 0.2 secs, train cost = 0.092\n",
      "step 136 done in 0.2 secs, train cost = 0.0901\n",
      "step 137 done in 0.2 secs, train cost = 0.0883\n",
      "step 138 done in 0.2 secs, train cost = 0.0866\n",
      "step 139 done in 0.2 secs, train cost = 0.0851\n",
      "step 140 done in 0.2 secs, train cost = 0.0836\n",
      "step 141 done in 0.2 secs, train cost = 0.0822\n",
      "step 142 done in 0.1 secs, train cost = 0.0809\n",
      "step 143 done in 0.2 secs, train cost = 0.0797\n",
      "step 144 done in 0.2 secs, train cost = 0.0785\n",
      "step 145 done in 0.2 secs, train cost = 0.0774\n",
      "step 146 done in 0.2 secs, train cost = 0.0764\n",
      "step 147 done in 0.2 secs, train cost = 0.0754\n",
      "step 148 done in 0.1 secs, train cost = 0.0745\n",
      "step 149 done in 0.2 secs, train cost = 0.0737\n",
      "step 150 done in 0.2 secs, train cost = 0.0729\n",
      "step 151 done in 0.1 secs, train cost = 0.0721\n",
      "step 152 done in 0.2 secs, train cost = 0.0714\n",
      "step 153 done in 0.2 secs, train cost = 0.0708\n",
      "step 154 done in 0.1 secs, train cost = 0.0702\n",
      "step 155 done in 0.2 secs, train cost = 0.0696\n",
      "step 156 done in 0.2 secs, train cost = 0.069\n",
      "step 157 done in 0.2 secs, train cost = 0.0685\n",
      "step 158 done in 0.2 secs, train cost = 0.068\n",
      "step 159 done in 0.2 secs, train cost = 0.0676\n",
      "step 160 done in 0.2 secs, train cost = 0.0672\n",
      "step 161 done in 0.2 secs, train cost = 0.0668\n",
      "step 162 done in 0.2 secs, train cost = 0.0664\n",
      "step 163 done in 0.2 secs, train cost = 0.066\n",
      "step 164 done in 0.2 secs, train cost = 0.0657\n",
      "step 165 done in 0.2 secs, train cost = 0.0654\n",
      "step 166 done in 0.2 secs, train cost = 0.0651\n",
      "step 167 done in 0.2 secs, train cost = 0.0648\n",
      "step 168 done in 0.2 secs, train cost = 0.0646\n",
      "step 169 done in 0.2 secs, train cost = 0.0643\n",
      "step 170 done in 0.2 secs, train cost = 0.0641\n",
      "step 171 done in 0.2 secs, train cost = 0.0639\n",
      "step 172 done in 0.2 secs, train cost = 0.0637\n",
      "step 173 done in 0.2 secs, train cost = 0.0635\n",
      "step 174 done in 0.2 secs, train cost = 0.0633\n",
      "step 175 done in 0.2 secs, train cost = 0.0631\n",
      "step 176 done in 0.2 secs, train cost = 0.063\n",
      "step 177 done in 0.2 secs, train cost = 0.0628\n",
      "step 178 done in 0.2 secs, train cost = 0.0627\n"
     ]
    },
    {
     "name": "stdout",
     "output_type": "stream",
     "text": [
      "step 179 done in 0.2 secs, train cost = 0.0626\n",
      "step 180 done in 0.2 secs, train cost = 0.0624\n",
      "step 181 done in 0.2 secs, train cost = 0.0623\n",
      "step 182 done in 0.2 secs, train cost = 0.0622\n",
      "step 183 done in 0.2 secs, train cost = 0.0621\n",
      "step 184 done in 0.2 secs, train cost = 0.062\n",
      "step 185 done in 0.2 secs, train cost = 0.0619\n",
      "step 186 done in 0.2 secs, train cost = 0.0618\n",
      "step 187 done in 0.2 secs, train cost = 0.0618\n",
      "step 188 done in 0.2 secs, train cost = 0.0617\n",
      "step 189 done in 0.2 secs, train cost = 0.0616\n",
      "step 190 done in 0.2 secs, train cost = 0.0615\n",
      "step 191 done in 0.2 secs, train cost = 0.0615\n",
      "step 192 done in 0.2 secs, train cost = 0.0614\n",
      "step 193 done in 0.2 secs, train cost = 0.0614\n",
      "step 194 done in 0.2 secs, train cost = 0.0613\n",
      "step 195 done in 0.2 secs, train cost = 0.0613\n",
      "step 196 done in 0.1 secs, train cost = 0.0612\n",
      "step 197 done in 0.2 secs, train cost = 0.0612\n",
      "step 198 done in 0.2 secs, train cost = 0.0611\n",
      "step 199 done in 0.1 secs, train cost = 0.0611\n",
      "step 200 done in 0.2 secs, train cost = 0.0611\n",
      "step 201 done in 0.2 secs, train cost = 0.061\n",
      "finished all 200 steps\n"
     ]
    }
   ],
   "source": [
    "# initialize parameters\n",
    "alpha = 10**(-4)\n",
    "max_its = 200\n",
    "w0 = [1.0,2.0,3.0]\n",
    "g = least_squares\n",
    "w_hist1, train_hist = optimizers.gradient_descent(g, w0, actions, states, alpha, max_its, True)"
   ]
  },
  {
   "cell_type": "code",
   "execution_count": 9,
   "metadata": {},
   "outputs": [
    {
     "data": {
      "text/plain": [
       "(1, 599)"
      ]
     },
     "execution_count": 9,
     "metadata": {},
     "output_type": "execute_result"
    }
   ],
   "source": [
    "s_pred = system_loop(w_hist1[-1],actions,states)\n",
    "s_pred.shape"
   ]
  },
  {
   "cell_type": "code",
   "execution_count": 10,
   "metadata": {},
   "outputs": [
    {
     "data": {
      "text/plain": [
       "(1, 599)"
      ]
     },
     "execution_count": 10,
     "metadata": {},
     "output_type": "execute_result"
    }
   ],
   "source": [
    "actions.shape"
   ]
  },
  {
   "cell_type": "code",
   "execution_count": 11,
   "metadata": {},
   "outputs": [
    {
     "name": "stderr",
     "output_type": "stream",
     "text": [
      "/Users/kevin/anaconda3/lib/python3.6/site-packages/matplotlib/figure.py:2267: UserWarning: This figure includes Axes that are not compatible with tight_layout, so results might be incorrect.\n",
      "  warnings.warn(\"This figure includes Axes that are not compatible \"\n"
     ]
    },
    {
     "data": {
      "image/png": "[encoded data removed]",
      "text/plain": [
       "<Figure size 432x288 with 1 Axes>"
      ]
     },
     "metadata": {},
     "output_type": "display_data"
    }
   ],
   "source": [
    "x = range(600)\n",
    "x1 = range(599)\n",
    "\n",
    "#s_pred = s_pred.tolist()\n",
    "#states = states.tolist()\n",
    "plt.plot(x1,s_pred.T)\n",
    "plt.plot(x,states.T)\n",
    "plt.show()"
   ]
  },
  {
   "cell_type": "code",
   "execution_count": 12,
   "metadata": {},
   "outputs": [
    {
     "name": "stderr",
     "output_type": "stream",
     "text": [
      "/Users/kevin/anaconda3/lib/python3.6/site-packages/matplotlib/figure.py:2267: UserWarning: This figure includes Axes that are not compatible with tight_layout, so results might be incorrect.\n",
      "  warnings.warn(\"This figure includes Axes that are not compatible \"\n"
     ]
    },
    {
     "data": {
      "image/png": "[encoded data removed]",
      "text/plain": [
       "<Figure size 720x360 with 2 Axes>"
      ]
     },
     "metadata": {},
     "output_type": "display_data"
    }
   ],
   "source": [
    "plotter.plot_multiple_sequences(actions,states,s_pred)"
   ]
  },
  {
   "cell_type": "markdown",
   "metadata": {},
   "source": [
    "Some more particulars: here you need to learn the weights of a basic order $1$ linear system model - which takes the form\n",
    "\n",
    "\\begin{equation}\n",
    "s_{t+1} = f_{\\text{system}}\\left(s_t,a_t; \\mathbf{w}_\\text{system}\\right) = w_0 + w_1s_t + w_2a_t\n",
    "\\end{equation}\n",
    "\n",
    "by properly minimizing the associated Least Squares cost function\n",
    "\n",
    "\\begin{equation}\n",
    "\\frac{1}{T-1}\\sum_{t=1}^{T-1}\\left(f_{\\text{system}}\\left(s_t,a_t; \\mathbf{w}_\\text{system}\\right) - s_{t+1}\\right)^2\n",
    "\\end{equation}\n",
    "\n",
    "over the weights $\\mathbf{w}_{\\text{system}} = \\begin{bmatrix} w_0 \\\\ w_1 \\\\ w_2 \\end{bmatrix}$ where $T$ is the length of our training action sequence.  \n",
    "\n",
    "\n",
    "- Build a `Python` version of the system model and Least Squares cost function and minimize it using a first order method.  Use the entire dataset provided for training (i.e., do not worry about validation error)\n",
    "\n",
    "\n",
    "- A simple full batch gradient descent module has been provided in file file `basic_optimizers.py` in the `custom_library` directory for use with this exercise.\n",
    "\n",
    "\n",
    "- After properly minimizing the Least Squares cost above make a plot like the one shown below - which shows the original state data in black, and the system model approximation in blue.  Your trained model should be able to match the data quite well."
   ]
  },
  {
   "cell_type": "markdown",
   "metadata": {},
   "source": [
    "<figure>\n",
    "<p>\n",
    "<img src= 'images/system_id_1.png' width=\"150%\" height=\"150%\" alt=\"\"/>\n",
    "</p>\n",
    "</figure>"
   ]
  },
  {
   "cell_type": "markdown",
   "metadata": {},
   "source": [
    "#### <span style=\"color:#a50e3e;\">Exercise 2: </span>  Train an unregularized PID controller for the cruise control problem"
   ]
  },
  {
   "cell_type": "markdown",
   "metadata": {},
   "source": [
    "In this exercise you will tune the parameters of a PID controller automatically so that the system model trained in the previous exercise matches the example set point sequence shown below.  Note: you need to have finished the previous exercise in order to properly solve this one!"
   ]
  },
  {
   "cell_type": "code",
   "execution_count": 13,
   "metadata": {},
   "outputs": [
    {
     "name": "stderr",
     "output_type": "stream",
     "text": [
      "/Users/kevin/anaconda3/lib/python3.6/site-packages/matplotlib/figure.py:2267: UserWarning: This figure includes Axes that are not compatible with tight_layout, so results might be incorrect.\n",
      "  warnings.warn(\"This figure includes Axes that are not compatible \"\n"
     ]
    },
    {
     "data": {
      "image/png": "[encoded data removed]",
      "text/plain": [
       "<Figure size 720x216 with 1 Axes>"
      ]
     },
     "metadata": {},
     "output_type": "display_data"
    }
   ],
   "source": [
    "# load in set point sequence\n",
    "csvname = 'datasets/cruise_setpoints.csv'\n",
    "set_points = np.loadtxt(csvname,delimiter = ',')[np.newaxis,:]\n",
    "\n",
    "# plot set point sequence\n",
    "plotter.plot_setpoints(set_points)"
   ]
  },
  {
   "cell_type": "code",
   "execution_count": 14,
   "metadata": {},
   "outputs": [
    {
     "data": {
      "text/plain": [
       "array([25.])"
      ]
     },
     "execution_count": 14,
     "metadata": {},
     "output_type": "execute_result"
    }
   ],
   "source": [
    "set_points[:,3]"
   ]
  },
  {
   "cell_type": "code",
   "execution_count": 15,
   "metadata": {},
   "outputs": [],
   "source": [
    "# a simple implementation of a PID controller\n",
    "def PID_controller(e_t,h_t,d_t,w): \n",
    "    # note here in terms of inputs \n",
    "    # e_t = current error\n",
    "    # h_t = integral of error\n",
    "    # d_t = derivative of error\n",
    "    return w[0] + w[1]*e_t + w[2]*h_t + w[3]*d_t"
   ]
  },
  {
   "cell_type": "code",
   "execution_count": 16,
   "metadata": {},
   "outputs": [],
   "source": [
    "# loop for evaluating control model over all input/output action/state pairs\n",
    "# Our inputs here:\n",
    "# s_1 - the initial condition state\n",
    "# x - sequence of training set points\n",
    "# w - the control model parameters\n",
    "def control_loop(w,x):\n",
    "    # initialize key variables and containers s_t = copy.deepcopy(s_1)\n",
    "    s_t = 0\n",
    "    h_t = 0\n",
    "    d_t = 0\n",
    "    frac = 1/3\n",
    "    action_history = []\n",
    "    state_history = [s_t]\n",
    "    error_history = []\n",
    "    # loop over training set points and run through controller, then # system models\n",
    "    for t in range(np.size(x) - 1):\n",
    "        # get current set point\n",
    "        x_t = x[:,t]\n",
    "        # update error\n",
    "        e_t = x_t - s_t\n",
    "        error_history.append(e_t)\n",
    "        # update integral of error\n",
    "        h_t = h_t + frac*e_t\n",
    "        \n",
    "        # update derivative of error\n",
    "        if t > 0:\n",
    "            d_t = frac*(error_history[-1] - error_history[-2])\n",
    "        \n",
    "        # send error, integral, and derivative to PID controller\n",
    "        a_t = PID_controller(e_t,h_t,d_t,w)\n",
    "        \n",
    "        # clip a_t to match system specifications?\n",
    "    \n",
    "    \n",
    "        # clip inputs to -50% to 100% for car\n",
    "        if a_t >= 100.0:\n",
    "            a_t = 100.0 \n",
    "        if a_t <= -50.0:\n",
    "            a_t = -50.0\n",
    "        # send action to system model\n",
    "        s_t = tuned_system_model(s_t,a_t)\n",
    "        # store state output, and actions (for plotting)\n",
    "        state_history.append(s_t)\n",
    "        action_history.append(a_t)\n",
    "        \n",
    "    # transition to arrays\n",
    "    state_history = np.array(state_history)[np.newaxis,:]\n",
    "    action_history = np.array(action_history)[np.newaxis,:]\n",
    "    \n",
    "    # return velocities and control history\n",
    "    return state_history,action_history"
   ]
  },
  {
   "cell_type": "code",
   "execution_count": 17,
   "metadata": {},
   "outputs": [],
   "source": [
    "# an implementation of the least squares cost for PID controller tuning \n",
    "# note here: s is an (1 x T) array and a an (1 x T-1) array\n",
    "def least_squares_PID(w,x):\n",
    "# system_loop - runs over all action-state pairs and produces entire # state prediction set\n",
    "    s_predict, action_predict = control_loop(w,x)\n",
    "    # compute least squares error between real and predicted states\n",
    "    cost = np.sum((s_predict[:,1:] - x[:,1:])**2) \n",
    "    return cost/float(x.shape[1]-1)"
   ]
  },
  {
   "cell_type": "code",
   "execution_count": 19,
   "metadata": {},
   "outputs": [],
   "source": [
    "# tuned_system_model = lambda state,action: s_invnorm(system_model(s_norm(stat e),a_norm(action),w_best))\n",
    "w_best = np.copy(w_hist1[-1])\n",
    "tuned_system_model = lambda state,action: system_model(state,action,w_best) \n",
    "s_1 = 0.0"
   ]
  },
  {
   "cell_type": "code",
   "execution_count": 21,
   "metadata": {},
   "outputs": [
    {
     "name": "stdout",
     "output_type": "stream",
     "text": [
      "the gradient value is: [-0.05139454 -9.17295978 -7.00809269 -0.08840162]\n",
      "step 2 done in 0.2 secs, train cost = 25.4483\n",
      "the gradient value is: [-0.04828128 -8.80023314 -5.95893584 -0.09923752]\n",
      "step 3 done in 0.3 secs, train cost = 24.9018\n",
      "the gradient value is: [-0.04570777 -8.45369367 -5.04375085 -0.11088598]\n",
      "step 4 done in 0.3 secs, train cost = 24.4272\n",
      "the gradient value is: [-0.04356123 -8.16849853 -4.74211382 -0.10917877]\n",
      "step 5 done in 0.3 secs, train cost = 23.995\n",
      "the gradient value is: [-0.04164676 -7.8831584  -3.9299985  -0.12280936]\n",
      "step 6 done in 0.2 secs, train cost = 23.6131\n",
      "the gradient value is: [-0.04004596 -7.66973156 -3.73679335 -0.12066399]\n",
      "step 7 done in 0.3 secs, train cost = 23.2546\n",
      "the gradient value is: [-0.03858364 -7.4725729  -3.56255535 -0.1185539 ]\n",
      "step 8 done in 0.2 secs, train cost = 22.9243\n",
      "the gradient value is: [-0.0372556  -7.22259422 -2.84040936 -0.13481352]\n",
      "step 9 done in 0.2 secs, train cost = 22.6266\n",
      "the gradient value is: [-0.03614795 -7.06806048 -2.73397059 -0.13248536]\n",
      "step 10 done in 0.3 secs, train cost = 22.3426\n",
      "the gradient value is: [-0.0351162  -6.92202151 -2.63718554 -0.13020301]\n",
      "step 11 done in 0.2 secs, train cost = 22.0712\n",
      "the gradient value is: [-0.03415226 -6.78358952 -2.54890482 -0.12796973]\n",
      "step 12 done in 0.3 secs, train cost = 21.818\n",
      "the gradient value is: [-0.03326167 -6.53330993 -1.88759651 -0.14770097]\n",
      "step 13 done in 0.2 secs, train cost = 21.5887\n",
      "the gradient value is: [-0.03253073 -6.42179511 -1.83904471 -0.14542833]\n",
      "step 14 done in 0.2 secs, train cost = 21.3674\n",
      "the gradient value is: [-0.03183714 -6.31477482 -1.79441399 -0.14320588]\n",
      "step 15 done in 0.2 secs, train cost = 21.1536\n",
      "the gradient value is: [-0.03117772 -6.21192684 -1.75326181 -0.14103413]\n",
      "step 16 done in 0.2 secs, train cost = 20.9469\n",
      "the gradient value is: [-0.03054968 -6.11296486 -1.71520375 -0.13891322]\n",
      "step 17 done in 0.2 secs, train cost = 20.7469\n",
      "the gradient value is: [-0.02995052 -6.01763298 -1.67990503 -0.13684298]\n",
      "step 18 done in 0.3 secs, train cost = 20.5629\n",
      "the gradient value is: [-0.02938792 -5.74530516 -1.0714674  -0.16098227]\n",
      "step 19 done in 0.3 secs, train cost = 20.3931\n",
      "the gradient value is: [-0.02894349 -5.6678068  -1.05791652 -0.15898359]\n",
      "step 20 done in 0.2 secs, train cost = 20.2279\n",
      "the gradient value is: [-0.02851575 -5.61731644 -0.97397479 -0.15889413]\n",
      "step 21 done in 0.2 secs, train cost = 20.0663\n",
      "the gradient value is: [-0.02811154 -5.54455102 -0.96395304 -0.1569722 ]\n",
      "step 22 done in 0.3 secs, train cost = 19.9088\n",
      "the gradient value is: [-0.02772033 -5.47393464 -0.95461904 -0.15509338]\n",
      "step 23 done in 0.2 secs, train cost = 19.7552\n",
      "the gradient value is: [-0.0273414  -5.40536619 -0.94590263 -0.15325652]\n",
      "step 24 done in 0.2 secs, train cost = 19.6055\n",
      "the gradient value is: [-0.02697405 -5.33875113 -0.93774188 -0.15146045]\n",
      "step 25 done in 0.3 secs, train cost = 19.4638\n",
      "the gradient value is: [-0.0266244  -5.00080881 -0.36598292 -0.1815267 ]\n",
      "step 26 done in 0.2 secs, train cost = 19.3386\n",
      "the gradient value is: [-0.02637238 -4.94717202 -0.37071694 -0.17986966]\n",
      "step 27 done in 0.3 secs, train cost = 19.216\n",
      "the gradient value is: [-0.02612557 -4.89490655 -0.37525053 -0.17824838]\n",
      "step 28 done in 0.2 secs, train cost = 19.096\n",
      "the gradient value is: [-0.0258838  -4.84395692 -0.3795952  -0.17666147]\n",
      "step 29 done in 0.2 secs, train cost = 18.9784\n",
      "the gradient value is: [-0.02564688 -4.79427068 -0.38376151 -0.17510764]\n",
      "step 30 done in 0.3 secs, train cost = 18.8632\n",
      "the gradient value is: [-0.02541464 -4.74579817 -0.3877591  -0.17358564]\n",
      "step 31 done in 0.3 secs, train cost = 18.7502\n",
      "the gradient value is: [-0.02518692 -4.69849236 -0.39159684 -0.17209432]\n",
      "step 32 done in 0.3 secs, train cost = 18.6399\n",
      "the gradient value is: [-0.02496675 -3.93071709 -0.09990152  0.07348255]\n",
      "step 33 done in 0.3 secs, train cost = 18.5629\n",
      "the gradient value is: [-0.02481319 -3.8987139  -0.10461807  0.07341581]\n",
      "step 34 done in 0.3 secs, train cost = 18.4873\n",
      "the gradient value is: [-0.02466515 -3.40720037  0.43350231  0.05516912]\n",
      "step 35 done in 0.3 secs, train cost = 18.4286\n",
      "the gradient value is: [-0.02460541 -3.38239031  0.42161159  0.05512537]\n",
      "step 36 done in 0.3 secs, train cost = 18.3707\n",
      "the gradient value is: [-0.02454559 -3.35806317  0.41015926  0.05507737]\n",
      "step 37 done in 0.2 secs, train cost = 18.3136\n",
      "the gradient value is: [-0.02448572 -3.33420289  0.39912151  0.05502543]\n",
      "step 38 done in 0.3 secs, train cost = 18.2574\n",
      "the gradient value is: [-0.02442582 -3.31079423  0.38847614  0.05496982]\n",
      "step 39 done in 0.2 secs, train cost = 18.2021\n",
      "the gradient value is: [-0.02436594 -3.28782267  0.37820242  0.05491081]\n",
      "step 40 done in 0.3 secs, train cost = 18.1475\n",
      "the gradient value is: [-0.02430609 -3.26527443  0.36828098  0.05484864]\n",
      "step 41 done in 0.2 secs, train cost = 18.0937\n",
      "the gradient value is: [-0.0242463  -3.24313636  0.35869372  0.05478354]\n",
      "step 42 done in 0.3 secs, train cost = 18.0406\n",
      "the gradient value is: [-0.0241866  -3.22139594  0.34942369  0.05471573]\n",
      "step 43 done in 0.2 secs, train cost = 17.9883\n",
      "the gradient value is: [-0.024127   -3.2000412   0.34045505  0.05464541]\n",
      "step 44 done in 0.3 secs, train cost = 17.9366\n",
      "the gradient value is: [-0.02406753 -3.17906075  0.33177293  0.05457276]\n",
      "step 45 done in 0.2 secs, train cost = 17.8857\n",
      "the gradient value is: [-0.02400819 -3.15844366  0.32336342  0.05449796]\n",
      "step 46 done in 0.3 secs, train cost = 17.8355\n",
      "the gradient value is: [-0.023949   -3.13817949  0.31521344  0.05442117]\n",
      "step 47 done in 0.2 secs, train cost = 17.7931\n",
      "the gradient value is: [-0.02388915 -2.45618554  0.79550551  0.02723153]\n",
      "step 48 done in 0.3 secs, train cost = 17.7599\n",
      "the gradient value is: [-0.02391613 -2.44185874  0.78073754  0.02729461]\n",
      "step 49 done in 0.2 secs, train cost = 17.7271\n",
      "the gradient value is: [-0.02394206 -2.42775208  0.76639336  0.02735258]\n",
      "step 50 done in 0.2 secs, train cost = 17.6948\n",
      "the gradient value is: [-0.02396695 -2.41385871  0.75245541  0.02740569]\n",
      "step 51 done in 0.3 secs, train cost = 17.6629\n",
      "the gradient value is: [-0.02399087 -2.40017217  0.73890698  0.02745416]\n",
      "step 52 done in 0.2 secs, train cost = 17.6315\n",
      "the gradient value is: [-0.02401383 -2.38668631  0.7257322   0.02749823]\n",
      "step 53 done in 0.3 secs, train cost = 17.6005\n",
      "the gradient value is: [-0.02403587 -2.37339531  0.71291596  0.02753809]\n",
      "step 54 done in 0.2 secs, train cost = 17.5699\n",
      "the gradient value is: [-0.02405704 -2.36029361  0.70044392  0.02757396]\n",
      "step 55 done in 0.3 secs, train cost = 17.5397\n",
      "the gradient value is: [-0.02407735 -2.34737594  0.68830241  0.02760601]\n",
      "step 56 done in 0.2 secs, train cost = 17.5098\n",
      "the gradient value is: [-0.02409684 -2.33463727  0.67647846  0.02763444]\n",
      "step 57 done in 0.3 secs, train cost = 17.4804\n",
      "the gradient value is: [-0.02411553 -2.32207282  0.6649597   0.0276594 ]\n",
      "step 58 done in 0.2 secs, train cost = 17.4513\n",
      "the gradient value is: [-0.02413346 -2.30967801  0.65373438  0.02768108]\n",
      "step 59 done in 0.3 secs, train cost = 17.4226\n",
      "the gradient value is: [-0.02415065 -2.29744849  0.64279131  0.02769961]\n",
      "step 60 done in 0.2 secs, train cost = 17.3942\n",
      "the gradient value is: [-0.02416711 -2.28538007  0.63211981  0.02771516]\n",
      "step 61 done in 0.3 secs, train cost = 17.3662\n",
      "the gradient value is: [-0.02418291 -2.27410326  0.58997275  0.02795657]\n",
      "step 62 done in 0.2 secs, train cost = 17.3387\n",
      "the gradient value is: [-0.02419363 -2.26229825  0.57953327  0.02797019]\n",
      "step 63 done in 0.3 secs, train cost = 17.3115\n",
      "the gradient value is: [-0.02420364 -2.25064509  0.56935827  0.0279811 ]\n",
      "step 64 done in 0.3 secs, train cost = 17.2846\n",
      "the gradient value is: [-0.02421296 -2.23914016  0.55943821  0.02798943]\n",
      "step 65 done in 0.2 secs, train cost = 17.2581\n",
      "the gradient value is: [-0.02422162 -2.22778     0.54976398  0.02799531]\n",
      "step 66 done in 0.3 secs, train cost = 17.2318\n",
      "the gradient value is: [-0.02422963 -2.2165613   0.54032689  0.02799884]\n",
      "step 67 done in 0.2 secs, train cost = 17.2059\n",
      "the gradient value is: [-0.02423702 -2.20548087  0.53111864  0.02800014]\n",
      "step 68 done in 0.3 secs, train cost = 17.1802\n",
      "the gradient value is: [-0.02424381 -2.19453562  0.5221313   0.02799932]\n",
      "step 69 done in 0.2 secs, train cost = 17.1548\n",
      "the gradient value is: [-0.02425    -2.18372262  0.51335732  0.02799648]\n",
      "step 70 done in 0.3 secs, train cost = 17.1297\n",
      "the gradient value is: [-0.02425563 -2.17303902  0.50478947  0.02799171]\n",
      "step 71 done in 0.2 secs, train cost = 17.1049\n"
     ]
    },
    {
     "name": "stdout",
     "output_type": "stream",
     "text": [
      "the gradient value is: [-0.0242607  -2.16248208  0.49642083  0.0279851 ]\n",
      "step 72 done in 0.3 secs, train cost = 17.0803\n",
      "the gradient value is: [-0.02426523 -2.15204917  0.48824481  0.02797674]\n",
      "step 73 done in 0.2 secs, train cost = 17.056\n",
      "the gradient value is: [-0.02426924 -2.14173774  0.48025509  0.02796672]\n",
      "step 74 done in 0.3 secs, train cost = 17.032\n",
      "the gradient value is: [-0.02427275 -2.13154532  0.47244562  0.02795511]\n",
      "step 75 done in 0.2 secs, train cost = 17.0082\n",
      "the gradient value is: [-0.02427575 -2.12146956  0.46481063  0.02794199]\n",
      "step 76 done in 0.3 secs, train cost = 16.9847\n",
      "the gradient value is: [-0.02427828 -2.11150814  0.45734458  0.02792744]\n",
      "step 77 done in 0.2 secs, train cost = 16.9614\n",
      "the gradient value is: [-0.02428034 -2.10165886  0.45004219  0.02791151]\n",
      "step 78 done in 0.3 secs, train cost = 16.9384\n",
      "the gradient value is: [-0.02428194 -2.09191956  0.44289836  0.02789429]\n",
      "step 79 done in 0.2 secs, train cost = 16.9156\n",
      "the gradient value is: [-0.0242831  -2.08228816  0.43590824  0.02787582]\n",
      "step 80 done in 0.3 secs, train cost = 16.893\n",
      "the gradient value is: [-0.02428382 -2.07276264  0.42906718  0.02785617]\n",
      "step 81 done in 0.2 secs, train cost = 16.8707\n",
      "the gradient value is: [-0.02428429 -2.06677182  0.34294456  0.02845267]\n",
      "step 82 done in 0.3 secs, train cost = 16.8488\n",
      "the gradient value is: [-0.02427279 -2.05739888  0.33751952  0.02842496]\n",
      "step 83 done in 0.2 secs, train cost = 16.8271\n",
      "the gradient value is: [-0.02426103 -2.04812722  0.33221338  0.02839645]\n",
      "step 84 done in 0.3 secs, train cost = 16.8057\n",
      "the gradient value is: [-0.02424901 -2.03895508  0.32702261  0.02836718]\n",
      "step 85 done in 0.2 secs, train cost = 16.7844\n",
      "the gradient value is: [-0.02423675 -2.02988073  0.3219438   0.02833718]\n",
      "step 86 done in 0.3 secs, train cost = 16.7633\n",
      "the gradient value is: [-0.02422425 -2.02090249  0.31697369  0.02830651]\n",
      "step 87 done in 0.2 secs, train cost = 16.7424\n",
      "the gradient value is: [-0.02421152 -2.01201872  0.31210914  0.02827518]\n",
      "step 88 done in 0.3 secs, train cost = 16.7217\n",
      "the gradient value is: [-0.02419857 -2.00322784  0.30734713  0.02824324]\n",
      "step 89 done in 0.2 secs, train cost = 16.7012\n",
      "the gradient value is: [-0.0241854  -1.99452829  0.30268475  0.02821072]\n",
      "step 90 done in 0.3 secs, train cost = 16.6809\n",
      "the gradient value is: [-0.02417203 -1.98591856  0.29811921  0.02817766]\n",
      "step 91 done in 0.2 secs, train cost = 16.6608\n",
      "the gradient value is: [-0.02415845 -1.97739717  0.29364782  0.02814407]\n",
      "step 92 done in 0.3 secs, train cost = 16.6409\n",
      "the gradient value is: [-0.02414467 -1.96896268  0.28926798  0.02810999]\n",
      "step 93 done in 0.2 secs, train cost = 16.6211\n",
      "the gradient value is: [-0.02413071 -1.96061369  0.28497719  0.02807545]\n",
      "step 94 done in 0.3 secs, train cost = 16.6015\n",
      "the gradient value is: [-0.02411656 -1.95234882  0.28077305  0.02804047]\n",
      "step 95 done in 0.2 secs, train cost = 16.5821\n",
      "the gradient value is: [-0.02410224 -1.94416673  0.27665324  0.02800507]\n",
      "step 96 done in 0.3 secs, train cost = 16.5628\n",
      "the gradient value is: [-0.02408774 -1.93606611  0.27261552  0.02796929]\n",
      "step 97 done in 0.2 secs, train cost = 16.5438\n",
      "the gradient value is: [-0.02407307 -1.9280457   0.26865774  0.02793315]\n",
      "step 98 done in 0.3 secs, train cost = 16.5248\n",
      "the gradient value is: [-0.02405824 -1.92010423  0.26477781  0.02789666]\n",
      "step 99 done in 0.2 secs, train cost = 16.5061\n",
      "the gradient value is: [-0.02404326 -1.91224049  0.26097371  0.02785984]\n",
      "step 100 done in 0.3 secs, train cost = 16.4875\n",
      "the gradient value is: [-0.02402812 -1.90445328  0.25724353  0.02782272]\n",
      "step 101 done in 0.2 secs, train cost = 16.4691\n",
      "the gradient value is: [-0.02401284 -1.89674144  0.25358536  0.02778532]\n",
      "step 102 done in 0.3 secs, train cost = 16.4508\n",
      "the gradient value is: [-0.02399741 -1.88910382  0.24999742  0.02774766]\n",
      "step 103 done in 0.2 secs, train cost = 16.4327\n",
      "the gradient value is: [-0.02398184 -1.88153932  0.24647794  0.02770974]\n",
      "step 104 done in 0.3 secs, train cost = 16.4147\n",
      "the gradient value is: [-0.02396614 -1.87404683  0.24302523  0.02767159]\n",
      "step 105 done in 0.2 secs, train cost = 16.3969\n",
      "the gradient value is: [-0.02395031 -1.86662528  0.23963766  0.02763323]\n",
      "step 106 done in 0.3 secs, train cost = 16.3792\n",
      "the gradient value is: [-0.02393435 -1.85927364  0.23631365  0.02759467]\n",
      "step 107 done in 0.2 secs, train cost = 16.3617\n",
      "the gradient value is: [-0.02391827 -1.85199087  0.23305166  0.02755592]\n",
      "step 108 done in 0.3 secs, train cost = 16.3443\n",
      "the gradient value is: [-0.02390207 -1.84477598  0.22985021  0.027517  ]\n",
      "step 109 done in 0.2 secs, train cost = 16.327\n",
      "the gradient value is: [-0.02388576 -1.83762797  0.22670787  0.02747792]\n",
      "step 110 done in 0.3 secs, train cost = 16.3099\n",
      "the gradient value is: [-0.02386933 -1.83054589  0.22362325  0.0274387 ]\n",
      "step 111 done in 0.2 secs, train cost = 16.2929\n",
      "the gradient value is: [-0.0238528  -1.82352879  0.22059499  0.02739934]\n",
      "step 112 done in 0.3 secs, train cost = 16.2761\n",
      "the gradient value is: [-0.02383616 -1.81657575  0.2176218   0.02735986]\n",
      "step 113 done in 0.2 secs, train cost = 16.2594\n",
      "the gradient value is: [-0.02381942 -1.80968586  0.2147024   0.02732027]\n",
      "step 114 done in 0.3 secs, train cost = 16.2428\n",
      "the gradient value is: [-0.02380258 -1.80285824  0.21183558  0.02728058]\n",
      "step 115 done in 0.2 secs, train cost = 16.2263\n",
      "the gradient value is: [-0.02378565 -1.79609201  0.20902014  0.0272408 ]\n",
      "step 116 done in 0.3 secs, train cost = 16.21\n",
      "the gradient value is: [-0.02376863 -1.78938632  0.20625493  0.02720094]\n",
      "step 117 done in 0.2 secs, train cost = 16.1938\n",
      "the gradient value is: [-0.02375151 -1.78274034  0.20353882  0.02716102]\n",
      "step 118 done in 0.3 secs, train cost = 16.1777\n",
      "the gradient value is: [-0.02373431 -1.77615323  0.20087074  0.02712103]\n",
      "step 119 done in 0.2 secs, train cost = 16.1618\n",
      "the gradient value is: [-0.02371703 -1.7696242   0.19824962  0.02708098]\n",
      "step 120 done in 0.3 secs, train cost = 16.146\n",
      "the gradient value is: [-0.02369966 -1.76315246  0.19567444  0.0270409 ]\n",
      "step 121 done in 0.3 secs, train cost = 16.1302\n",
      "the gradient value is: [-0.02368222 -1.75673722  0.1931442   0.02700078]\n",
      "step 122 done in 0.3 secs, train cost = 16.1147\n",
      "the gradient value is: [-0.0236647  -1.75037774  0.19065794  0.02696062]\n",
      "step 123 done in 0.2 secs, train cost = 16.0992\n",
      "the gradient value is: [-0.02364711 -1.74407325  0.18821471  0.02692045]\n",
      "step 124 done in 0.3 secs, train cost = 16.0838\n",
      "the gradient value is: [-0.02362945 -1.73782304  0.18581361  0.02688026]\n",
      "step 125 done in 0.2 secs, train cost = 16.0686\n",
      "the gradient value is: [-0.02361172 -1.73162637  0.18345373  0.02684007]\n",
      "step 126 done in 0.3 secs, train cost = 16.0534\n",
      "the gradient value is: [-0.02359393 -1.72548255  0.18113422  0.02679987]\n",
      "step 127 done in 0.2 secs, train cost = 16.0384\n",
      "the gradient value is: [-0.02357607 -1.71939088  0.17885423  0.02675968]\n",
      "step 128 done in 0.3 secs, train cost = 16.0235\n",
      "the gradient value is: [-0.02355815 -1.71335067  0.17661295  0.02671949]\n",
      "step 129 done in 0.2 secs, train cost = 16.0087\n",
      "the gradient value is: [-0.02354017 -1.70736126  0.17440958  0.02667932]\n",
      "step 130 done in 0.3 secs, train cost = 15.994\n",
      "the gradient value is: [-0.02352213 -1.70142199  0.17224334  0.02663918]\n",
      "step 131 done in 0.2 secs, train cost = 15.9793\n",
      "the gradient value is: [-0.02350404 -1.69553221  0.17011347  0.02659906]\n",
      "step 132 done in 0.3 secs, train cost = 15.9648\n",
      "the gradient value is: [-0.0234859  -1.6896913   0.16801924  0.02655897]\n",
      "step 133 done in 0.2 secs, train cost = 15.9505\n",
      "the gradient value is: [-0.02346771 -1.68389862  0.16595994  0.02651891]\n",
      "step 134 done in 0.3 secs, train cost = 15.9362\n",
      "the gradient value is: [-0.02344946 -1.67815356  0.16393486  0.02647889]\n",
      "step 135 done in 0.2 secs, train cost = 15.922\n",
      "the gradient value is: [-0.02343118 -1.67245553  0.16194332  0.02643892]\n",
      "step 136 done in 0.3 secs, train cost = 15.9079\n",
      "the gradient value is: [-0.02341284 -1.66680393  0.15998466  0.026399  ]\n",
      "step 137 done in 0.2 secs, train cost = 15.8939\n",
      "the gradient value is: [-0.02339446 -1.66119817  0.15805823  0.02635913]\n",
      "step 138 done in 0.3 secs, train cost = 15.88\n",
      "the gradient value is: [-0.02337604 -1.65563769  0.15616341  0.02631931]\n",
      "step 139 done in 0.2 secs, train cost = 15.8661\n",
      "the gradient value is: [-0.02335758 -1.65012193  0.15429957  0.02627955]\n",
      "step 140 done in 0.3 secs, train cost = 15.8524\n"
     ]
    },
    {
     "name": "stdout",
     "output_type": "stream",
     "text": [
      "the gradient value is: [-0.02333909 -1.64465032  0.15246611  0.02623985]\n",
      "step 141 done in 0.2 secs, train cost = 15.8388\n",
      "the gradient value is: [-0.02332055 -1.63922234  0.15066244  0.02620022]\n",
      "step 142 done in 0.3 secs, train cost = 15.8253\n",
      "the gradient value is: [-0.02330199 -1.63383743  0.14888801  0.02616066]\n",
      "step 143 done in 0.2 secs, train cost = 15.8118\n",
      "the gradient value is: [-0.02328338 -1.62849509  0.14714224  0.02612117]\n",
      "step 144 done in 0.3 secs, train cost = 15.7985\n",
      "the gradient value is: [-0.02326475 -1.62319478  0.14542459  0.02608175]\n",
      "step 145 done in 0.2 secs, train cost = 15.7852\n",
      "the gradient value is: [-0.02324609 -1.61793601  0.14373454  0.02604241]\n",
      "step 146 done in 0.3 secs, train cost = 15.772\n",
      "the gradient value is: [-0.0232274  -1.61271827  0.14207155  0.02600315]\n",
      "step 147 done in 0.3 secs, train cost = 15.7589\n",
      "the gradient value is: [-0.02320868 -1.60754106  0.14043512  0.02596397]\n",
      "step 148 done in 0.3 secs, train cost = 15.7459\n",
      "the gradient value is: [-0.02318994 -1.60240392  0.13882476  0.02592487]\n",
      "step 149 done in 0.2 secs, train cost = 15.733\n",
      "the gradient value is: [-0.02317117 -1.59730635  0.13723998  0.02588586]\n",
      "step 150 done in 0.3 secs, train cost = 15.7202\n",
      "the gradient value is: [-0.02315238 -1.59224789  0.13568031  0.02584694]\n",
      "step 151 done in 0.2 secs, train cost = 15.7074\n",
      "the gradient value is: [-0.02313356 -1.58722808  0.13414528  0.02580811]\n",
      "step 152 done in 0.3 secs, train cost = 15.6948\n",
      "the gradient value is: [-0.02311473 -1.58224647  0.13263444  0.02576937]\n",
      "step 153 done in 0.2 secs, train cost = 15.6822\n",
      "the gradient value is: [-0.02309588 -1.5773026   0.13114735  0.02573072]\n",
      "step 154 done in 0.3 secs, train cost = 15.6697\n",
      "the gradient value is: [-0.02307701 -1.57239604  0.12968358  0.02569217]\n",
      "step 155 done in 0.2 secs, train cost = 15.6572\n",
      "the gradient value is: [-0.02305813 -1.56752635  0.1282427   0.02565371]\n",
      "step 156 done in 0.3 secs, train cost = 15.6449\n",
      "the gradient value is: [-0.02303923 -1.56269312  0.1268243   0.02561536]\n",
      "step 157 done in 0.3 secs, train cost = 15.6326\n",
      "the gradient value is: [-0.02302031 -1.55789591  0.12542797  0.0255771 ]\n",
      "step 158 done in 0.3 secs, train cost = 15.6204\n",
      "the gradient value is: [-0.02300139 -1.55313432  0.12405332  0.02553894]\n",
      "step 159 done in 0.2 secs, train cost = 15.6083\n",
      "the gradient value is: [-0.02298245 -1.54840793  0.12269996  0.02550089]\n",
      "step 160 done in 0.3 secs, train cost = 15.5962\n",
      "the gradient value is: [-0.0229635  -1.54371635  0.12136752  0.02546294]\n",
      "step 161 done in 0.2 secs, train cost = 15.5842\n",
      "the gradient value is: [-0.02294454 -1.53905919  0.12005561  0.02542509]\n",
      "step 162 done in 0.3 secs, train cost = 15.5723\n",
      "the gradient value is: [-0.02292557 -1.53443605  0.11876387  0.02538735]\n",
      "step 163 done in 0.2 secs, train cost = 15.5605\n",
      "the gradient value is: [-0.0229066  -1.52984656  0.11749196  0.02534971]\n",
      "step 164 done in 0.3 secs, train cost = 15.5487\n",
      "the gradient value is: [-0.02288762 -1.52529032  0.11623951  0.02531219]\n",
      "step 165 done in 0.2 secs, train cost = 15.5371\n",
      "the gradient value is: [-0.02286863 -1.52076699  0.1150062   0.02527477]\n",
      "step 166 done in 0.3 secs, train cost = 15.5254\n",
      "the gradient value is: [-0.02284964 -1.51627618  0.11379168  0.02523746]\n",
      "step 167 done in 0.2 secs, train cost = 15.5139\n",
      "the gradient value is: [-0.02283065 -1.51181753  0.11259563  0.02520026]\n",
      "step 168 done in 0.3 secs, train cost = 15.5024\n",
      "the gradient value is: [-0.02281165 -1.5073907   0.11141773  0.02516317]\n",
      "step 169 done in 0.2 secs, train cost = 15.491\n",
      "the gradient value is: [-0.02279265 -1.50299534  0.11025767  0.02512619]\n",
      "step 170 done in 0.3 secs, train cost = 15.4797\n",
      "the gradient value is: [-0.02277365 -1.49863109  0.10911513  0.02508932]\n",
      "step 171 done in 0.2 secs, train cost = 15.4684\n",
      "the gradient value is: [-0.02275466 -1.49429762  0.10798981  0.02505257]\n",
      "step 172 done in 0.3 secs, train cost = 15.4572\n",
      "the gradient value is: [-0.02273566 -1.48999459  0.10688143  0.02501593]\n",
      "step 173 done in 0.2 secs, train cost = 15.446\n",
      "the gradient value is: [-0.02271667 -1.48572168  0.10578968  0.0249794 ]\n",
      "step 174 done in 0.3 secs, train cost = 15.4349\n",
      "the gradient value is: [-0.02269767 -1.48147856  0.10471429  0.02494298]\n",
      "step 175 done in 0.2 secs, train cost = 15.4239\n",
      "the gradient value is: [-0.02267869 -1.4772649   0.10365498  0.02490668]\n",
      "step 176 done in 0.3 secs, train cost = 15.413\n",
      "the gradient value is: [-0.0226597  -1.4730804   0.10261148  0.0248705 ]\n",
      "step 177 done in 0.2 secs, train cost = 15.4021\n",
      "the gradient value is: [-0.02264072 -1.46892475  0.10158351  0.02483443]\n",
      "step 178 done in 0.3 secs, train cost = 15.3912\n",
      "the gradient value is: [-0.02262175 -1.46479762  0.10057082  0.02479847]\n",
      "step 179 done in 0.2 secs, train cost = 15.3805\n",
      "the gradient value is: [-0.02260279 -1.46069873  0.09957315  0.02476263]\n",
      "step 180 done in 0.3 secs, train cost = 15.3698\n",
      "the gradient value is: [-0.02258383 -1.45662778  0.09859024  0.0247269 ]\n",
      "step 181 done in 0.2 secs, train cost = 15.3591\n",
      "the gradient value is: [-0.02256488 -1.45258447  0.09762186  0.0246913 ]\n",
      "step 182 done in 0.3 secs, train cost = 15.3485\n",
      "the gradient value is: [-0.02254594 -1.4485685   0.09666775  0.0246558 ]\n",
      "step 183 done in 0.2 secs, train cost = 15.338\n",
      "the gradient value is: [-0.02252701 -1.44457961  0.09572769  0.02462043]\n",
      "step 184 done in 0.3 secs, train cost = 15.3275\n",
      "the gradient value is: [-0.02250809 -1.44061749  0.09480143  0.02458516]\n",
      "step 185 done in 0.2 secs, train cost = 15.3171\n",
      "the gradient value is: [-0.02248918 -1.43668188  0.09388874  0.02455002]\n",
      "step 186 done in 0.3 secs, train cost = 15.3068\n",
      "the gradient value is: [-0.02247028 -1.43277251  0.09298942  0.02451499]\n",
      "step 187 done in 0.2 secs, train cost = 15.2965\n",
      "the gradient value is: [-0.02245139 -1.42888909  0.09210322  0.02448008]\n",
      "step 188 done in 0.3 secs, train cost = 15.2862\n",
      "the gradient value is: [-0.02243252 -1.42503137  0.09122994  0.02444528]\n",
      "step 189 done in 0.2 secs, train cost = 15.276\n",
      "the gradient value is: [-0.02241366 -1.42119909  0.09036937  0.0244106 ]\n",
      "step 190 done in 0.3 secs, train cost = 15.2659\n",
      "the gradient value is: [-0.02239481 -1.41739197  0.0895213   0.02437604]\n",
      "step 191 done in 0.2 secs, train cost = 15.2558\n",
      "the gradient value is: [-0.02237598 -1.41360977  0.08868551  0.02434159]\n",
      "step 192 done in 0.3 secs, train cost = 15.2458\n",
      "the gradient value is: [-0.02235716 -1.40985224  0.08786182  0.02430726]\n",
      "step 193 done in 0.2 secs, train cost = 15.2358\n",
      "the gradient value is: [-0.02233836 -1.40611913  0.08705003  0.02427305]\n",
      "step 194 done in 0.3 secs, train cost = 15.2259\n",
      "the gradient value is: [-0.02231958 -1.40241018  0.08624994  0.02423895]\n",
      "step 195 done in 0.2 secs, train cost = 15.216\n",
      "the gradient value is: [-0.02230081 -1.39872516  0.08546136  0.02420497]\n",
      "step 196 done in 0.3 secs, train cost = 15.2062\n",
      "the gradient value is: [-0.02228206 -1.39506383  0.08468411  0.0241711 ]\n",
      "step 197 done in 0.2 secs, train cost = 15.1965\n",
      "the gradient value is: [-0.02226333 -1.39142596  0.08391801  0.02413735]\n",
      "step 198 done in 0.3 secs, train cost = 15.1876\n",
      "the gradient value is: [-0.00830224 -1.03941603  0.19935164  0.0241041 ]\n",
      "step 199 done in 0.2 secs, train cost = 15.182\n",
      "the gradient value is: [-0.00832117 -1.03745003  0.19640257  0.02408867]\n",
      "step 200 done in 0.3 secs, train cost = 15.1765\n",
      "the gradient value is: [-0.00833969 -1.03549274  0.19350303  0.0240731 ]\n",
      "step 201 done in 0.3 secs, train cost = 15.1709\n",
      "finished all 200 steps\n"
     ]
    }
   ],
   "source": [
    "# initialize parameters\n",
    "alpha = 5*10**(-3)\n",
    "max_its = 200\n",
    "# this parameter is not randomly setted, I iterated for several time and get this conclusion\n",
    "w0 = np.array([1.0, 1.0, 1.0, 1.0])\n",
    "g = least_squares_PID\n",
    "w_hist2, train_hist = optimizers.PID_gradient_descent(g, w0, set_points, alpha, max_its, True)"
   ]
  },
  {
   "cell_type": "code",
   "execution_count": 22,
   "metadata": {},
   "outputs": [],
   "source": [
    "state, action = control_loop(w_hist2[-1], set_points)"
   ]
  },
  {
   "cell_type": "code",
   "execution_count": 23,
   "metadata": {},
   "outputs": [
    {
     "data": {
      "text/plain": [
       "array([1.02480776, 3.61025814, 1.0974711 , 0.99763903])"
      ]
     },
     "execution_count": 23,
     "metadata": {},
     "output_type": "execute_result"
    }
   ],
   "source": [
    "w_hist2[-1]"
   ]
  },
  {
   "cell_type": "code",
   "execution_count": 24,
   "metadata": {},
   "outputs": [
    {
     "data": {
      "text/plain": [
       "(1, 300)"
      ]
     },
     "execution_count": 24,
     "metadata": {},
     "output_type": "execute_result"
    }
   ],
   "source": [
    "states.shape\n",
    "set_points.shape"
   ]
  },
  {
   "cell_type": "code",
   "execution_count": null,
   "metadata": {},
   "outputs": [],
   "source": [
    "x = range(300)\n",
    "x1 = range(300)\n",
    "\n",
    "#s_pred = s_pred.tolist()\n",
    "#states = states.tolist()\n",
    "plt.plot(x,set_points.T)\n",
    "plt.plot(x,state.T)\n",
    "plt.show()"
   ]
  },
  {
   "cell_type": "code",
   "execution_count": null,
   "metadata": {},
   "outputs": [],
   "source": [
    "set_points.shape"
   ]
  },
  {
   "cell_type": "code",
   "execution_count": null,
   "metadata": {},
   "outputs": [],
   "source": [
    "action = np.asarray(action)\n",
    "action = action.reshape([1,299])\n",
    "action.shape"
   ]
  },
  {
   "cell_type": "code",
   "execution_count": null,
   "metadata": {},
   "outputs": [],
   "source": [
    "state = state.reshape(1,300)\n",
    "state.shape"
   ]
  },
  {
   "cell_type": "code",
   "execution_count": 25,
   "metadata": {},
   "outputs": [
    {
     "name": "stderr",
     "output_type": "stream",
     "text": [
      "/Users/kevin/anaconda3/lib/python3.6/site-packages/matplotlib/figure.py:2267: UserWarning: This figure includes Axes that are not compatible with tight_layout, so results might be incorrect.\n",
      "  warnings.warn(\"This figure includes Axes that are not compatible \"\n"
     ]
    },
    {
     "data": {
      "image/png": "[encoded data removed]",
      "text/plain": [
       "<Figure size 720x360 with 2 Axes>"
      ]
     },
     "metadata": {},
     "output_type": "display_data"
    }
   ],
   "source": [
    "plotter.plot_3fer(action,set_points,state,plot_type = 'continuous')"
   ]
  },
  {
   "cell_type": "markdown",
   "metadata": {},
   "source": [
    "Implement a `Pythonic` version of the PID controller Least Squares cost function discussed in the [course notes](https://www.dropbox.com/s/m6456ze0fd8kaf8/system_identification_pid_notes.pdf?dl=0).  You should be able to learn an action / state sequence pair so that your system model responds fairly well to the input set point sequence.  The image below shows the results of an action/state sequence pair learned by a fully tuned PID controller.  The top panel shows the set point sequence in dashed black, with the state sequence defined by the controller in blue.  The bottom panel shows the corresponding action sequence defined by the controller. \n",
    "\n",
    "A few notes: \n",
    "- For this exercise you need not worry about regularizing either the state or action sequences when training the controller - simply tune it as best as you can.\n",
    "\n",
    "\n",
    "- Even though a PID controller is technically a Recurrent Network (which can be slow to train), here we only deal with a fairly small dataset of set points and there only 4 parameters to tune - so you can apply the simplest kind of first order algorithm to properly minimize the controller cost (e.g., a full batch gradient descent optimizer). "
   ]
  },
  {
   "cell_type": "markdown",
   "metadata": {},
   "source": [
    "<figure>\n",
    "<p>\n",
    "<img src= 'images/PID_1.png' width=\"150%\" height=\"150%\" alt=\"\"/>\n",
    "</p>\n",
    "</figure>"
   ]
  },
  {
   "cell_type": "markdown",
   "metadata": {},
   "source": [
    "#### <span style=\"color:#a50e3e;\">Exercise 3: </span>  System identification on the two-tank problem "
   ]
  },
  {
   "cell_type": "markdown",
   "metadata": {},
   "source": [
    "In this exercise you will create a system model - using a small snippet of cruise control data shown below.  This comes from a real life two-tanks experiment as shown on page 4 of the [course notes](https://www.dropbox.com/s/m6456ze0fd8kaf8/system_identification_pid_notes.pdf?dl=0).  The amount of water allowed into the top tank (per second) - the action sequence $a_t$ - is shown as the black curve in the bottom panel.  In the top panel the *upper* tank water level $s_{1,t}$ is shown in green, and the bottom tank level $s_{2,t}$ is shown in magenta."
   ]
  },
  {
   "cell_type": "code",
   "execution_count": 26,
   "metadata": {},
   "outputs": [
    {
     "name": "stderr",
     "output_type": "stream",
     "text": [
      "/Users/kevin/anaconda3/lib/python3.6/site-packages/matplotlib/figure.py:2267: UserWarning: This figure includes Axes that are not compatible with tight_layout, so results might be incorrect.\n",
      "  warnings.warn(\"This figure includes Axes that are not compatible \"\n"
     ]
    },
    {
     "data": {
      "image/png": "[encoded data removed]",
      "text/plain": [
       "<Figure size 720x360 with 2 Axes>"
      ]
     },
     "metadata": {},
     "output_type": "display_data"
    }
   ],
   "source": [
    "# This code cell will not be shown in the HTML version of this notebook\n",
    "# load series\n",
    "data = np.loadtxt(datapath + 'cascaded_tanks_1.csv',delimiter = ',')\n",
    "actions = data[0:1,1:]\n",
    "states = data[1:,:]\n",
    "\n",
    "# plot the test pair\n",
    "plotter.plot_3fer(actions,states[0],states[1],plot_type = 'continuous')"
   ]
  },
  {
   "cell_type": "code",
   "execution_count": 27,
   "metadata": {},
   "outputs": [
    {
     "data": {
      "text/plain": [
       "(1000,)"
      ]
     },
     "execution_count": 27,
     "metadata": {},
     "output_type": "execute_result"
    }
   ],
   "source": [
    "states[0].shape"
   ]
  },
  {
   "cell_type": "code",
   "execution_count": 28,
   "metadata": {},
   "outputs": [
    {
     "name": "stdout",
     "output_type": "stream",
     "text": [
      "step 2 done in 0.3 secs, train cost = 4.9323\n",
      "step 3 done in 0.3 secs, train cost = 4.5073\n",
      "step 4 done in 0.3 secs, train cost = 4.1225\n",
      "step 5 done in 0.3 secs, train cost = 3.7739\n",
      "step 6 done in 0.3 secs, train cost = 3.4583\n",
      "step 7 done in 0.3 secs, train cost = 3.1725\n",
      "step 8 done in 0.3 secs, train cost = 2.9136\n",
      "step 9 done in 0.3 secs, train cost = 2.6791\n",
      "step 10 done in 0.3 secs, train cost = 2.4667\n",
      "step 11 done in 0.3 secs, train cost = 2.2744\n",
      "step 12 done in 0.4 secs, train cost = 2.1002\n",
      "step 13 done in 0.3 secs, train cost = 1.9424\n",
      "step 14 done in 0.3 secs, train cost = 1.7995\n",
      "step 15 done in 0.3 secs, train cost = 1.67\n",
      "step 16 done in 0.3 secs, train cost = 1.5527\n",
      "step 17 done in 0.4 secs, train cost = 1.4465\n",
      "step 18 done in 0.3 secs, train cost = 1.3502\n",
      "step 19 done in 0.3 secs, train cost = 1.263\n",
      "step 20 done in 0.3 secs, train cost = 1.184\n",
      "step 21 done in 0.3 secs, train cost = 1.1124\n",
      "step 22 done in 0.4 secs, train cost = 1.0475\n",
      "step 23 done in 0.3 secs, train cost = 0.9887\n",
      "step 24 done in 0.3 secs, train cost = 0.9355\n",
      "step 25 done in 0.4 secs, train cost = 0.8872\n",
      "step 26 done in 0.4 secs, train cost = 0.8434\n",
      "step 27 done in 0.4 secs, train cost = 0.8037\n",
      "step 28 done in 0.3 secs, train cost = 0.7677\n",
      "step 29 done in 0.4 secs, train cost = 0.7351\n",
      "step 30 done in 0.3 secs, train cost = 0.7055\n",
      "step 31 done in 0.3 secs, train cost = 0.6787\n",
      "step 32 done in 0.3 secs, train cost = 0.6544\n",
      "step 33 done in 0.3 secs, train cost = 0.6323\n",
      "step 34 done in 0.4 secs, train cost = 0.6122\n",
      "step 35 done in 0.3 secs, train cost = 0.594\n",
      "step 36 done in 0.3 secs, train cost = 0.5775\n",
      "step 37 done in 0.3 secs, train cost = 0.5625\n",
      "step 38 done in 0.3 secs, train cost = 0.5488\n",
      "step 39 done in 0.3 secs, train cost = 0.5364\n",
      "step 40 done in 0.3 secs, train cost = 0.5252\n",
      "step 41 done in 0.4 secs, train cost = 0.5149\n",
      "step 42 done in 0.4 secs, train cost = 0.5056\n",
      "step 43 done in 0.3 secs, train cost = 0.4971\n",
      "step 44 done in 0.3 secs, train cost = 0.4894\n",
      "step 45 done in 0.3 secs, train cost = 0.4823\n",
      "step 46 done in 0.4 secs, train cost = 0.4759\n",
      "step 47 done in 0.3 secs, train cost = 0.47\n",
      "step 48 done in 0.4 secs, train cost = 0.4647\n",
      "step 49 done in 0.3 secs, train cost = 0.4598\n",
      "step 50 done in 0.4 secs, train cost = 0.4553\n",
      "step 51 done in 0.3 secs, train cost = 0.4512\n",
      "step 52 done in 0.3 secs, train cost = 0.4475\n",
      "step 53 done in 0.3 secs, train cost = 0.444\n",
      "step 54 done in 0.3 secs, train cost = 0.4409\n",
      "step 55 done in 0.3 secs, train cost = 0.4379\n",
      "step 56 done in 0.3 secs, train cost = 0.4353\n",
      "step 57 done in 0.3 secs, train cost = 0.4328\n",
      "step 58 done in 0.3 secs, train cost = 0.4305\n",
      "step 59 done in 0.4 secs, train cost = 0.4284\n",
      "step 60 done in 0.3 secs, train cost = 0.4265\n",
      "step 61 done in 0.3 secs, train cost = 0.4246\n",
      "step 62 done in 0.3 secs, train cost = 0.423\n",
      "step 63 done in 0.3 secs, train cost = 0.4214\n",
      "step 64 done in 0.3 secs, train cost = 0.4199\n",
      "step 65 done in 0.3 secs, train cost = 0.4185\n",
      "step 66 done in 0.3 secs, train cost = 0.4173\n",
      "step 67 done in 0.4 secs, train cost = 0.416\n",
      "step 68 done in 0.3 secs, train cost = 0.4149\n",
      "step 69 done in 0.3 secs, train cost = 0.4138\n",
      "step 70 done in 0.3 secs, train cost = 0.4128\n",
      "step 71 done in 0.3 secs, train cost = 0.4118\n",
      "step 72 done in 0.3 secs, train cost = 0.4109\n",
      "step 73 done in 0.3 secs, train cost = 0.4101\n",
      "step 74 done in 0.3 secs, train cost = 0.4092\n",
      "step 75 done in 0.4 secs, train cost = 0.4084\n",
      "step 76 done in 0.3 secs, train cost = 0.4076\n",
      "step 77 done in 0.3 secs, train cost = 0.4069\n",
      "step 78 done in 0.3 secs, train cost = 0.4062\n",
      "step 79 done in 0.3 secs, train cost = 0.4055\n",
      "step 80 done in 0.3 secs, train cost = 0.4048\n",
      "step 81 done in 0.3 secs, train cost = 0.4042\n",
      "step 82 done in 0.3 secs, train cost = 0.4036\n",
      "step 83 done in 0.3 secs, train cost = 0.403\n",
      "step 84 done in 0.4 secs, train cost = 0.4024\n",
      "step 85 done in 0.3 secs, train cost = 0.4018\n",
      "step 86 done in 0.3 secs, train cost = 0.4012\n",
      "step 87 done in 0.3 secs, train cost = 0.4006\n",
      "step 88 done in 0.3 secs, train cost = 0.4001\n",
      "step 89 done in 0.3 secs, train cost = 0.3995\n",
      "step 90 done in 0.3 secs, train cost = 0.399\n",
      "step 91 done in 0.3 secs, train cost = 0.3985\n",
      "step 92 done in 0.4 secs, train cost = 0.398\n",
      "step 93 done in 0.3 secs, train cost = 0.3975\n",
      "step 94 done in 0.3 secs, train cost = 0.3969\n",
      "step 95 done in 0.3 secs, train cost = 0.3964\n",
      "step 96 done in 0.3 secs, train cost = 0.396\n",
      "step 97 done in 0.3 secs, train cost = 0.3955\n",
      "step 98 done in 0.3 secs, train cost = 0.395\n",
      "step 99 done in 0.3 secs, train cost = 0.3945\n",
      "step 100 done in 0.3 secs, train cost = 0.394\n",
      "step 101 done in 0.4 secs, train cost = 0.3935\n",
      "step 102 done in 0.3 secs, train cost = 0.3931\n",
      "step 103 done in 0.3 secs, train cost = 0.3926\n",
      "step 104 done in 0.3 secs, train cost = 0.3921\n",
      "step 105 done in 0.3 secs, train cost = 0.3916\n",
      "step 106 done in 0.3 secs, train cost = 0.3912\n",
      "step 107 done in 0.3 secs, train cost = 0.3907\n",
      "step 108 done in 0.3 secs, train cost = 0.3903\n",
      "step 109 done in 0.4 secs, train cost = 0.3898\n",
      "step 110 done in 0.3 secs, train cost = 0.3893\n",
      "step 111 done in 0.3 secs, train cost = 0.3889\n",
      "step 112 done in 0.3 secs, train cost = 0.3884\n",
      "step 113 done in 0.3 secs, train cost = 0.388\n",
      "step 114 done in 0.3 secs, train cost = 0.3875\n",
      "step 115 done in 0.3 secs, train cost = 0.3871\n",
      "step 116 done in 0.3 secs, train cost = 0.3866\n",
      "step 117 done in 0.3 secs, train cost = 0.3862\n",
      "step 118 done in 0.3 secs, train cost = 0.3857\n",
      "step 119 done in 0.3 secs, train cost = 0.3853\n",
      "step 120 done in 0.3 secs, train cost = 0.3848\n",
      "step 121 done in 0.3 secs, train cost = 0.3844\n",
      "step 122 done in 0.3 secs, train cost = 0.3839\n",
      "step 123 done in 0.3 secs, train cost = 0.3835\n",
      "step 124 done in 0.3 secs, train cost = 0.3831\n",
      "step 125 done in 0.3 secs, train cost = 0.3826\n",
      "step 126 done in 0.4 secs, train cost = 0.3822\n",
      "step 127 done in 0.3 secs, train cost = 0.3817\n",
      "step 128 done in 0.3 secs, train cost = 0.3813\n",
      "step 129 done in 0.3 secs, train cost = 0.3809\n",
      "step 130 done in 0.3 secs, train cost = 0.3804\n",
      "step 131 done in 0.3 secs, train cost = 0.38\n",
      "step 132 done in 0.3 secs, train cost = 0.3795\n",
      "step 133 done in 0.3 secs, train cost = 0.3791\n",
      "step 134 done in 0.4 secs, train cost = 0.3787\n",
      "step 135 done in 0.3 secs, train cost = 0.3782\n",
      "step 136 done in 0.3 secs, train cost = 0.3778\n",
      "step 137 done in 0.3 secs, train cost = 0.3774\n",
      "step 138 done in 0.3 secs, train cost = 0.3769\n",
      "step 139 done in 0.3 secs, train cost = 0.3765\n",
      "step 140 done in 0.3 secs, train cost = 0.3761\n",
      "step 141 done in 0.3 secs, train cost = 0.3756\n",
      "step 142 done in 0.4 secs, train cost = 0.3752\n",
      "step 143 done in 0.3 secs, train cost = 0.3748\n",
      "step 144 done in 0.3 secs, train cost = 0.3743\n",
      "step 145 done in 0.3 secs, train cost = 0.3739\n",
      "step 146 done in 0.3 secs, train cost = 0.3735\n",
      "step 147 done in 0.3 secs, train cost = 0.3731\n",
      "step 148 done in 0.3 secs, train cost = 0.3726\n",
      "step 149 done in 0.3 secs, train cost = 0.3722\n",
      "step 150 done in 0.3 secs, train cost = 0.3718\n",
      "step 151 done in 0.3 secs, train cost = 0.3713\n",
      "step 152 done in 0.3 secs, train cost = 0.3709\n",
      "step 153 done in 0.3 secs, train cost = 0.3705\n",
      "step 154 done in 0.3 secs, train cost = 0.3701\n",
      "step 155 done in 0.3 secs, train cost = 0.3696\n",
      "step 156 done in 0.3 secs, train cost = 0.3692\n",
      "step 157 done in 0.3 secs, train cost = 0.3688\n",
      "step 158 done in 0.3 secs, train cost = 0.3684\n",
      "step 159 done in 0.4 secs, train cost = 0.368\n",
      "step 160 done in 0.3 secs, train cost = 0.3675\n",
      "step 161 done in 0.3 secs, train cost = 0.3671\n",
      "step 162 done in 0.3 secs, train cost = 0.3667\n",
      "step 163 done in 0.3 secs, train cost = 0.3663\n",
      "step 164 done in 0.3 secs, train cost = 0.3658\n",
      "step 165 done in 0.3 secs, train cost = 0.3654\n",
      "step 166 done in 0.3 secs, train cost = 0.365\n",
      "step 167 done in 0.3 secs, train cost = 0.3646\n",
      "step 168 done in 0.4 secs, train cost = 0.3642\n",
      "step 169 done in 0.3 secs, train cost = 0.3638\n",
      "step 170 done in 0.3 secs, train cost = 0.3633\n",
      "step 171 done in 0.3 secs, train cost = 0.3629\n",
      "step 172 done in 0.3 secs, train cost = 0.3625\n",
      "step 173 done in 0.3 secs, train cost = 0.3621\n",
      "step 174 done in 0.3 secs, train cost = 0.3617\n",
      "step 175 done in 0.3 secs, train cost = 0.3613\n",
      "step 176 done in 0.3 secs, train cost = 0.3608\n",
      "step 177 done in 0.3 secs, train cost = 0.3604\n",
      "step 178 done in 0.3 secs, train cost = 0.36\n",
      "step 179 done in 0.3 secs, train cost = 0.3596\n"
     ]
    },
    {
     "name": "stdout",
     "output_type": "stream",
     "text": [
      "step 180 done in 0.3 secs, train cost = 0.3592\n",
      "step 181 done in 0.3 secs, train cost = 0.3588\n",
      "step 182 done in 0.3 secs, train cost = 0.3584\n",
      "step 183 done in 0.3 secs, train cost = 0.358\n",
      "step 184 done in 0.3 secs, train cost = 0.3575\n",
      "step 185 done in 0.3 secs, train cost = 0.3571\n",
      "step 186 done in 0.3 secs, train cost = 0.3567\n",
      "step 187 done in 0.3 secs, train cost = 0.3563\n",
      "step 188 done in 0.3 secs, train cost = 0.3559\n",
      "step 189 done in 0.3 secs, train cost = 0.3555\n",
      "step 190 done in 0.3 secs, train cost = 0.3551\n",
      "step 191 done in 0.3 secs, train cost = 0.3547\n",
      "step 192 done in 0.3 secs, train cost = 0.3543\n",
      "step 193 done in 0.4 secs, train cost = 0.3539\n",
      "step 194 done in 0.3 secs, train cost = 0.3535\n",
      "step 195 done in 0.3 secs, train cost = 0.3531\n",
      "step 196 done in 0.3 secs, train cost = 0.3527\n",
      "step 197 done in 0.3 secs, train cost = 0.3523\n",
      "step 198 done in 0.3 secs, train cost = 0.3519\n",
      "step 199 done in 0.3 secs, train cost = 0.3515\n",
      "step 200 done in 0.3 secs, train cost = 0.351\n",
      "step 201 done in 0.3 secs, train cost = 0.3506\n",
      "finished all 200 steps\n",
      "step 2 done in 0.3 secs, train cost = 5.0533\n",
      "step 3 done in 0.3 secs, train cost = 4.7152\n",
      "step 4 done in 0.3 secs, train cost = 4.4032\n",
      "step 5 done in 0.3 secs, train cost = 4.1155\n",
      "step 6 done in 0.3 secs, train cost = 3.8502\n",
      "step 7 done in 0.3 secs, train cost = 3.6053\n",
      "step 8 done in 0.3 secs, train cost = 3.3795\n",
      "step 9 done in 0.3 secs, train cost = 3.1712\n",
      "step 10 done in 0.3 secs, train cost = 2.979\n",
      "step 11 done in 0.3 secs, train cost = 2.8016\n",
      "step 12 done in 0.3 secs, train cost = 2.638\n",
      "step 13 done in 0.3 secs, train cost = 2.4871\n",
      "step 14 done in 0.3 secs, train cost = 2.3478\n",
      "step 15 done in 0.3 secs, train cost = 2.2192\n",
      "step 16 done in 0.3 secs, train cost = 2.1006\n",
      "step 17 done in 0.3 secs, train cost = 1.9911\n",
      "step 18 done in 0.3 secs, train cost = 1.8901\n",
      "step 19 done in 0.3 secs, train cost = 1.7968\n",
      "step 20 done in 0.3 secs, train cost = 1.7107\n",
      "step 21 done in 0.3 secs, train cost = 1.6311\n",
      "step 22 done in 0.3 secs, train cost = 1.5577\n",
      "step 23 done in 0.3 secs, train cost = 1.4899\n",
      "step 24 done in 0.3 secs, train cost = 1.4273\n",
      "step 25 done in 0.3 secs, train cost = 1.3695\n",
      "step 26 done in 0.3 secs, train cost = 1.3161\n",
      "step 27 done in 0.3 secs, train cost = 1.2667\n",
      "step 28 done in 0.3 secs, train cost = 1.2211\n",
      "step 29 done in 0.3 secs, train cost = 1.1789\n",
      "step 30 done in 0.3 secs, train cost = 1.1399\n",
      "step 31 done in 0.3 secs, train cost = 1.1039\n",
      "step 32 done in 0.3 secs, train cost = 1.0706\n",
      "step 33 done in 0.3 secs, train cost = 1.0397\n",
      "step 34 done in 0.3 secs, train cost = 1.0112\n",
      "step 35 done in 0.3 secs, train cost = 0.9848\n",
      "step 36 done in 0.3 secs, train cost = 0.9603\n",
      "step 37 done in 0.3 secs, train cost = 0.9377\n",
      "step 38 done in 0.3 secs, train cost = 0.9167\n",
      "step 39 done in 0.3 secs, train cost = 0.8973\n",
      "step 40 done in 0.3 secs, train cost = 0.8793\n",
      "step 41 done in 0.3 secs, train cost = 0.8625\n",
      "step 42 done in 0.3 secs, train cost = 0.847\n",
      "step 43 done in 0.3 secs, train cost = 0.8326\n",
      "step 44 done in 0.3 secs, train cost = 0.8192\n",
      "step 45 done in 0.3 secs, train cost = 0.8068\n",
      "step 46 done in 0.3 secs, train cost = 0.7952\n",
      "step 47 done in 0.3 secs, train cost = 0.7845\n",
      "step 48 done in 0.3 secs, train cost = 0.7745\n",
      "step 49 done in 0.3 secs, train cost = 0.7651\n",
      "step 50 done in 0.3 secs, train cost = 0.7564\n",
      "step 51 done in 0.3 secs, train cost = 0.7483\n",
      "step 52 done in 0.3 secs, train cost = 0.7407\n",
      "step 53 done in 0.3 secs, train cost = 0.7336\n",
      "step 54 done in 0.3 secs, train cost = 0.727\n",
      "step 55 done in 0.3 secs, train cost = 0.7208\n",
      "step 56 done in 0.3 secs, train cost = 0.715\n",
      "step 57 done in 0.3 secs, train cost = 0.7095\n",
      "step 58 done in 0.3 secs, train cost = 0.7043\n",
      "step 59 done in 0.3 secs, train cost = 0.6995\n",
      "step 60 done in 0.3 secs, train cost = 0.695\n",
      "step 61 done in 0.3 secs, train cost = 0.6907\n",
      "step 62 done in 0.3 secs, train cost = 0.6866\n",
      "step 63 done in 0.3 secs, train cost = 0.6828\n",
      "step 64 done in 0.3 secs, train cost = 0.6792\n",
      "step 65 done in 0.3 secs, train cost = 0.6757\n",
      "step 66 done in 0.3 secs, train cost = 0.6725\n",
      "step 67 done in 0.3 secs, train cost = 0.6694\n",
      "step 68 done in 0.4 secs, train cost = 0.6664\n",
      "step 69 done in 0.3 secs, train cost = 0.6636\n",
      "step 70 done in 0.3 secs, train cost = 0.6609\n",
      "step 71 done in 0.3 secs, train cost = 0.6583\n",
      "step 72 done in 0.3 secs, train cost = 0.6559\n",
      "step 73 done in 0.3 secs, train cost = 0.6535\n",
      "step 74 done in 0.3 secs, train cost = 0.6512\n",
      "step 75 done in 0.3 secs, train cost = 0.649\n",
      "step 76 done in 0.3 secs, train cost = 0.6469\n",
      "step 77 done in 0.3 secs, train cost = 0.6449\n",
      "step 78 done in 0.3 secs, train cost = 0.6429\n",
      "step 79 done in 0.3 secs, train cost = 0.641\n",
      "step 80 done in 0.3 secs, train cost = 0.6392\n",
      "step 81 done in 0.3 secs, train cost = 0.6374\n",
      "step 82 done in 0.3 secs, train cost = 0.6356\n",
      "step 83 done in 0.3 secs, train cost = 0.6339\n",
      "step 84 done in 0.3 secs, train cost = 0.6322\n",
      "step 85 done in 0.3 secs, train cost = 0.6306\n",
      "step 86 done in 0.3 secs, train cost = 0.629\n",
      "step 87 done in 0.3 secs, train cost = 0.6275\n",
      "step 88 done in 0.3 secs, train cost = 0.6259\n",
      "step 89 done in 0.3 secs, train cost = 0.6245\n",
      "step 90 done in 0.3 secs, train cost = 0.623\n",
      "step 91 done in 0.3 secs, train cost = 0.6215\n",
      "step 92 done in 0.3 secs, train cost = 0.6201\n",
      "step 93 done in 0.4 secs, train cost = 0.6187\n",
      "step 94 done in 0.3 secs, train cost = 0.6174\n",
      "step 95 done in 0.3 secs, train cost = 0.616\n",
      "step 96 done in 0.3 secs, train cost = 0.6147\n",
      "step 97 done in 0.3 secs, train cost = 0.6133\n",
      "step 98 done in 0.3 secs, train cost = 0.612\n",
      "step 99 done in 0.3 secs, train cost = 0.6107\n",
      "step 100 done in 0.3 secs, train cost = 0.6094\n",
      "step 101 done in 0.3 secs, train cost = 0.6082\n",
      "step 102 done in 0.4 secs, train cost = 0.6069\n",
      "step 103 done in 0.3 secs, train cost = 0.6057\n",
      "step 104 done in 0.3 secs, train cost = 0.6044\n",
      "step 105 done in 0.3 secs, train cost = 0.6032\n",
      "step 106 done in 0.3 secs, train cost = 0.602\n",
      "step 107 done in 0.3 secs, train cost = 0.6008\n",
      "step 108 done in 0.3 secs, train cost = 0.5996\n",
      "step 109 done in 0.3 secs, train cost = 0.5984\n",
      "step 110 done in 0.3 secs, train cost = 0.5972\n",
      "step 111 done in 0.3 secs, train cost = 0.596\n",
      "step 112 done in 0.3 secs, train cost = 0.5948\n",
      "step 113 done in 0.3 secs, train cost = 0.5937\n",
      "step 114 done in 0.3 secs, train cost = 0.5925\n",
      "step 115 done in 0.3 secs, train cost = 0.5913\n",
      "step 116 done in 0.3 secs, train cost = 0.5902\n",
      "step 117 done in 0.3 secs, train cost = 0.589\n",
      "step 118 done in 0.3 secs, train cost = 0.5879\n",
      "step 119 done in 0.3 secs, train cost = 0.5867\n",
      "step 120 done in 0.3 secs, train cost = 0.5856\n",
      "step 121 done in 0.3 secs, train cost = 0.5845\n",
      "step 122 done in 0.3 secs, train cost = 0.5834\n",
      "step 123 done in 0.3 secs, train cost = 0.5822\n",
      "step 124 done in 0.3 secs, train cost = 0.5811\n",
      "step 125 done in 0.3 secs, train cost = 0.58\n",
      "step 126 done in 0.3 secs, train cost = 0.5789\n",
      "step 127 done in 0.4 secs, train cost = 0.5778\n",
      "step 128 done in 0.3 secs, train cost = 0.5767\n",
      "step 129 done in 0.3 secs, train cost = 0.5756\n",
      "step 130 done in 0.3 secs, train cost = 0.5745\n",
      "step 131 done in 0.3 secs, train cost = 0.5734\n",
      "step 132 done in 0.3 secs, train cost = 0.5723\n",
      "step 133 done in 0.3 secs, train cost = 0.5712\n",
      "step 134 done in 0.3 secs, train cost = 0.5701\n",
      "step 135 done in 0.4 secs, train cost = 0.569\n",
      "step 136 done in 0.3 secs, train cost = 0.5679\n",
      "step 137 done in 0.3 secs, train cost = 0.5669\n",
      "step 138 done in 0.3 secs, train cost = 0.5658\n",
      "step 139 done in 0.3 secs, train cost = 0.5647\n",
      "step 140 done in 0.3 secs, train cost = 0.5636\n",
      "step 141 done in 0.3 secs, train cost = 0.5626\n",
      "step 142 done in 0.3 secs, train cost = 0.5615\n",
      "step 143 done in 0.3 secs, train cost = 0.5604\n",
      "step 144 done in 0.3 secs, train cost = 0.5594\n",
      "step 145 done in 0.3 secs, train cost = 0.5583\n",
      "step 146 done in 0.3 secs, train cost = 0.5573\n",
      "step 147 done in 0.3 secs, train cost = 0.5562\n",
      "step 148 done in 0.3 secs, train cost = 0.5552\n",
      "step 149 done in 0.3 secs, train cost = 0.5541\n",
      "step 150 done in 0.3 secs, train cost = 0.5531\n",
      "step 151 done in 0.3 secs, train cost = 0.552\n",
      "step 152 done in 0.4 secs, train cost = 0.551\n",
      "step 153 done in 0.3 secs, train cost = 0.5499\n",
      "step 154 done in 0.3 secs, train cost = 0.5489\n",
      "step 155 done in 0.3 secs, train cost = 0.5479\n",
      "step 156 done in 0.3 secs, train cost = 0.5468\n"
     ]
    },
    {
     "name": "stdout",
     "output_type": "stream",
     "text": [
      "step 157 done in 0.3 secs, train cost = 0.5458\n",
      "step 158 done in 0.3 secs, train cost = 0.5448\n",
      "step 159 done in 0.3 secs, train cost = 0.5437\n",
      "step 160 done in 0.4 secs, train cost = 0.5427\n",
      "step 161 done in 0.3 secs, train cost = 0.5417\n",
      "step 162 done in 0.3 secs, train cost = 0.5407\n",
      "step 163 done in 0.3 secs, train cost = 0.5396\n",
      "step 164 done in 0.3 secs, train cost = 0.5386\n",
      "step 165 done in 0.3 secs, train cost = 0.5376\n",
      "step 166 done in 0.3 secs, train cost = 0.5366\n",
      "step 167 done in 0.3 secs, train cost = 0.5356\n",
      "step 168 done in 0.3 secs, train cost = 0.5346\n",
      "step 169 done in 0.4 secs, train cost = 0.5336\n",
      "step 170 done in 0.3 secs, train cost = 0.5326\n",
      "step 171 done in 0.3 secs, train cost = 0.5316\n",
      "step 172 done in 0.3 secs, train cost = 0.5306\n",
      "step 173 done in 0.3 secs, train cost = 0.5296\n",
      "step 174 done in 0.3 secs, train cost = 0.5286\n",
      "step 175 done in 0.3 secs, train cost = 0.5276\n",
      "step 176 done in 0.3 secs, train cost = 0.5266\n",
      "step 177 done in 0.4 secs, train cost = 0.5256\n",
      "step 178 done in 0.3 secs, train cost = 0.5246\n",
      "step 179 done in 0.3 secs, train cost = 0.5236\n",
      "step 180 done in 0.3 secs, train cost = 0.5226\n",
      "step 181 done in 0.3 secs, train cost = 0.5216\n",
      "step 182 done in 0.3 secs, train cost = 0.5207\n",
      "step 183 done in 0.3 secs, train cost = 0.5197\n",
      "step 184 done in 0.3 secs, train cost = 0.5187\n",
      "step 185 done in 0.3 secs, train cost = 0.5177\n",
      "step 186 done in 0.4 secs, train cost = 0.5168\n",
      "step 187 done in 0.3 secs, train cost = 0.5158\n",
      "step 188 done in 0.3 secs, train cost = 0.5148\n",
      "step 189 done in 0.3 secs, train cost = 0.5138\n",
      "step 190 done in 0.3 secs, train cost = 0.5129\n",
      "step 191 done in 0.3 secs, train cost = 0.5119\n",
      "step 192 done in 0.3 secs, train cost = 0.511\n",
      "step 193 done in 0.3 secs, train cost = 0.51\n",
      "step 194 done in 0.4 secs, train cost = 0.509\n",
      "step 195 done in 0.3 secs, train cost = 0.5081\n",
      "step 196 done in 0.3 secs, train cost = 0.5071\n",
      "step 197 done in 0.3 secs, train cost = 0.5062\n",
      "step 198 done in 0.3 secs, train cost = 0.5052\n",
      "step 199 done in 0.3 secs, train cost = 0.5043\n",
      "step 200 done in 0.3 secs, train cost = 0.5033\n",
      "step 201 done in 0.3 secs, train cost = 0.5024\n",
      "finished all 200 steps\n"
     ]
    }
   ],
   "source": [
    "w0 = [1.0,1.0,1.0]\n",
    "alpha = 10**(-3)\n",
    "g=least_squares\n",
    "states0 = np.reshape(states[0],(1,len(states[0])))\n",
    "states1 = np.reshape(states[1],(1,len(states[1])))\n",
    "w_hist0,train_hist0 = optimizers.gradient_descent(g,w0,actions,states0,alpha,max_its,True)\n",
    "w_hist1,train_hist1 = optimizers.gradient_descent(g,w0,actions,states1,alpha,max_its,True)"
   ]
  },
  {
   "cell_type": "code",
   "execution_count": 29,
   "metadata": {},
   "outputs": [
    {
     "data": {
      "text/plain": [
       "[array(0.8205848),\n",
       " array(0.6147095),\n",
       " array(0.79428204),\n",
       " array(0.79601366),\n",
       " array(0.62002101),\n",
       " array(0.6905309)]"
      ]
     },
     "execution_count": 29,
     "metadata": {},
     "output_type": "execute_result"
    }
   ],
   "source": [
    "w_hist = w_hist0[-1]+w_hist1[-1]\n",
    "w_hist"
   ]
  },
  {
   "cell_type": "code",
   "execution_count": 30,
   "metadata": {},
   "outputs": [
    {
     "name": "stderr",
     "output_type": "stream",
     "text": [
      "/Users/kevin/anaconda3/lib/python3.6/site-packages/matplotlib/figure.py:2267: UserWarning: This figure includes Axes that are not compatible with tight_layout, so results might be incorrect.\n",
      "  warnings.warn(\"This figure includes Axes that are not compatible \"\n"
     ]
    },
    {
     "data": {
      "image/png": "[encoded data removed]",
      "text/plain": [
       "<Figure size 720x360 with 2 Axes>"
      ]
     },
     "metadata": {},
     "output_type": "display_data"
    }
   ],
   "source": [
    "predictions = system_loop(w=w_hist,a=actions,s=states)\n",
    "\n",
    "plotter.plot_3fer(actions,states,predictions,plot_type = 'continuous')\n",
    "\n"
   ]
  },
  {
   "cell_type": "markdown",
   "metadata": {},
   "source": [
    "This system has two $s_{1,t}$ and $s_{2,t}$, hence the system model consists of an equation for each.  The upper tank level $s_{1,t}$ is dependent on its own history and - of course- the amount of water $a_t$ that is poured into it.  A simple linear system model for it then looks like\n",
    "\n",
    "\\begin{equation}\n",
    "s_{1,t+1} = w_0 + w_1 s_{1,t} + w_2 a_t.\n",
    "\\end{equation}\n",
    "\n",
    "Since we know that the upper tank drains into the lower one, the simplest sort of system model we can make for the lower tank level $s_{2,t}$ is that it is proportional to its prior value and that of the upper tank, as\n",
    "\n",
    "\\begin{equation}\n",
    "s_{2,t+1} = w_3 + w_4s_{2,t} + w_5 s_{1,t}.\n",
    "\\end{equation}\n",
    "\n",
    "Together - using the simplest model for this system we could think of - we have the following two system model equations\n",
    "\n",
    "\\begin{array}\n",
    "\\\n",
    "s_{1,t+1} = w_0 + w_1 s_{1,t} + w_2 a_t \\\\\n",
    "s_{2,t+1} = w_3 + w_4s_{2,t} + w_5 s_{1,t}.\n",
    "\\end{array}"
   ]
  },
  {
   "cell_type": "markdown",
   "metadata": {},
   "source": [
    "Tune the parameters of this system model $w_0$ through $w_5$ via minimizing a Least Squares cost function, using the data shown above for training (i.e., you need not cut off a chunk of it for validation - use it all for training).  Make sure to plot the fit your model provides on the training data.  You can see this exact system model fit to this exact dataset in the course notes - make sure your fit looks fairly similar."
   ]
  }
 ],
 "metadata": {
  "kernelspec": {
   "display_name": "Python 3",
   "language": "python",
   "name": "python3"
  },
  "language_info": {
   "codemirror_mode": {
    "name": "ipython",
    "version": 3
   },
   "file_extension": ".py",
   "mimetype": "text/x-python",
   "name": "python",
   "nbconvert_exporter": "python",
   "pygments_lexer": "ipython3",
   "version": "3.6.5"
  }
 },
 "nbformat": 4,
 "nbformat_minor": 2
}
