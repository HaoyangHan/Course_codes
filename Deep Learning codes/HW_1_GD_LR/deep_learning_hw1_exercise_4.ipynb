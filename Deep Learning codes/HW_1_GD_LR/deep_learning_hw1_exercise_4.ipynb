{
 "cells": [
  {
   "cell_type": "markdown",
   "metadata": {},
   "source": [
    "# Deep learning from scratch: homework 1"
   ]
  },
  {
   "cell_type": "markdown",
   "metadata": {},
   "source": [
    "### Haoyang Han hhr8512"
   ]
  },
  {
   "cell_type": "markdown",
   "metadata": {},
   "source": [
    "### General instructions\n",
    "\n",
    "Complete the exericse listed below in this Jupyter notebook - leaving all of your code in Python cells in the notebook itself.  Feel free to add any necessary cells.  "
   ]
  },
  {
   "cell_type": "markdown",
   "metadata": {},
   "source": [
    "### When submitting this homework:\n",
    "\n",
    "**Make sure you have put your name at the top of each file**\n",
    "    \n",
    "**Make sure all output is present in your notebook prior to submission**\n",
    "\n",
    "**If possible please do not zip your files when uploading to canvas**"
   ]
  },
  {
   "cell_type": "markdown",
   "metadata": {},
   "source": [
    "---"
   ]
  },
  {
   "cell_type": "code",
   "execution_count": 1,
   "metadata": {
    "collapsed": true
   },
   "outputs": [],
   "source": [
    "# import necessary library for this exercise\n",
    "import autograd.numpy as np   \n",
    "from autograd import value_and_grad \n",
    "import matplotlib.pyplot as plt"
   ]
  },
  {
   "cell_type": "markdown",
   "metadata": {},
   "source": [
    "#### <span style=\"color:#a50e3e;\">Exercise 4. </span>  Normalizing the input of a student debt dataset"
   ]
  },
  {
   "cell_type": "markdown",
   "metadata": {},
   "source": [
    "In this exercise you will repeat the experiment shown in [Example 1 of Section 8.4 of the class notes](https://jermwatt.github.io/mlrefined/blog_posts/8_Linear_regression/8_4_feature_scaling.html) where standard normalization was shown to enormously improve our ability to perform linear regression using gradient descent on the following student loan dataset."
   ]
  },
  {
   "cell_type": "code",
   "execution_count": 2,
   "metadata": {},
   "outputs": [
    {
     "data": {
      "image/png": "[encoded data removed]",
      "text/plain": [
       "<matplotlib.figure.Figure at 0x114375358>"
      ]
     },
     "metadata": {},
     "output_type": "display_data"
    },
    {
     "data": {
      "image/png": "[encoded data removed]",
      "text/plain": [
       "<matplotlib.figure.Figure at 0x11934f828>"
      ]
     },
     "metadata": {},
     "output_type": "display_data"
    }
   ],
   "source": [
    "# data input\n",
    "csvname = 'student_debt.csv'\n",
    "data = np.loadtxt(csvname,delimiter = ',')\n",
    "\n",
    "# get input and output of dataset\n",
    "x = data[:,:-1].T\n",
    "y = data[:,-1:] \n",
    "\n",
    "# scatter plot the input data\n",
    "plt.figure()\n",
    "plt.scatter(x,y,color = 'k',edgecolor = 'w')\n",
    "plt.title(\"Original Plot Chart\")\n",
    "plt.show()\n",
    "\n",
    "# Normalization\n",
    "x1 = (x - np.mean(x))/np.std(x)\n",
    "plt.figure()\n",
    "plt.scatter(x1,y,color = 'k',edgecolor = 'w')\n",
    "plt.title(\"Normalized Plot Chart\")\n",
    "plt.show()"
   ]
  },
  {
   "cell_type": "markdown",
   "metadata": {},
   "source": [
    "Compare a run of gradient descent using a maximum of $100$ iterations on the original input, to one run when using standard normalized input, where both runs are initialized at the point $\\mathbf{w} = \\begin{bmatrix} 0 \\\\ 0 \\end{bmatrix}$.  Note here that you will likely not achieve any kind of meaningful convergence when minimizing the cost over the original input (as detailed in the example), but for the standard normalized input you can definitely achieve convergence by properly tuning the steplength parameter.  Plot and compare the fit of each run on the original dataset.\n",
    "\n",
    "Note that you do **not** need to produce the contour plots shown in the notes."
   ]
  },
  {
   "cell_type": "markdown",
   "metadata": {},
   "source": [
    "**Remember:** as described in the notes, in evaluating any new test input of a model (learned on normalized training data) you need to normalize the test input precisely the way you did the training data."
   ]
  },
  {
   "cell_type": "markdown",
   "metadata": {},
   "source": [
    "## Here is my solution:\n",
    "\n",
    "\n",
    "\n",
    "\n",
    "\n",
    "\n"
   ]
  },
  {
   "cell_type": "code",
   "execution_count": 3,
   "metadata": {
    "collapsed": true
   },
   "outputs": [],
   "source": [
    "# This is a gradient descent function\n",
    "\n",
    "# using an automatic differentiator - like the one imported via the statement below - makes coding up gradient descent a breeze\n",
    "from autograd import value_and_grad \n",
    "\n",
    "# gradient descent function - inputs: g (input function), alpha (steplength parameter), max_its (maximum number of iterations), w (initialization)\n",
    "def gradient_descent(g,alpha_choice,max_its,w):\n",
    "    # compute the gradient function of our input function - note this is a function too\n",
    "    # that - when evaluated - returns both the gradient and function evaluations (remember\n",
    "    # as discussed in Chapter 3 we always ge the function evaluation 'for free' when we use\n",
    "    # an Automatic Differntiator to evaluate the gradient)\n",
    "    gradient = value_and_grad(g)\n",
    "\n",
    "    # run the gradient descent loop\n",
    "    weight_history = []      # container for weight history\n",
    "    cost_history = []        # container for corresponding cost function history\n",
    "    alpha = 0\n",
    "    for k in range(1,max_its+1):\n",
    "        # check if diminishing steplength rule used\n",
    "        if alpha_choice == 'diminishing':\n",
    "            alpha = 1/float(k)\n",
    "        else:\n",
    "            alpha = alpha_choice\n",
    "        \n",
    "        # evaluate the gradient, store current weights and cost function value\n",
    "        cost_eval,grad_eval = gradient(w)\n",
    "        weight_history.append(w)\n",
    "        cost_history.append(cost_eval)\n",
    "\n",
    "        # take gradient descent step\n",
    "        w = w - alpha*grad_eval\n",
    "            \n",
    "    # collect final weights\n",
    "    weight_history.append(w)\n",
    "    # compute final cost function value via g itself (since we aren't computing \n",
    "    # the gradient at the final step we don't get the final cost function value \n",
    "    # via the Automatic Differentiatoor) \n",
    "    cost_history.append(g(w))  \n",
    "    return weight_history,cost_history"
   ]
  },
  {
   "cell_type": "code",
   "execution_count": 4,
   "metadata": {
    "collapsed": true
   },
   "outputs": [],
   "source": [
    "# compute linear combination of input point\n",
    "def model(x,w):    \n",
    "    # stack a 1 onto the top of each input point all at once\n",
    "    o = np.ones((1,np.shape(x)[1]))\n",
    "    x = np.vstack((o,x))\n",
    "    \n",
    "    # compute linear combination and return\n",
    "    a = np.dot(x.T,w)\n",
    "    return a\n",
    "\n",
    "# an implementation of the least squares cost function for linear regression\n",
    "def least_squares(w):    \n",
    "    # compute the least squares cost\n",
    "    cost = np.sum((model(x,w) - y)**2)\n",
    "    return cost/float(len(y))\n",
    "\n",
    "\n"
   ]
  },
  {
   "cell_type": "code",
   "execution_count": 5,
   "metadata": {
    "collapsed": true
   },
   "outputs": [],
   "source": [
    "# warning is not logged here. Perfect for clean unit test output\n",
    "w = np.array([0.0,0.0])[:,np.newaxis]\n",
    "g = least_squares\n",
    "max_its = 100\n",
    "alpha_choice = 10**(-7)\n",
    "weight_history_1,cost_history_1 = gradient_descent(g,alpha_choice,max_its,w)"
   ]
  },
  {
   "cell_type": "code",
   "execution_count": 6,
   "metadata": {
    "collapsed": true
   },
   "outputs": [],
   "source": [
    "# show run on contour plot\n",
    "#static_plotter.two_input_contour_plot(g,weight_history,xmin = -3,xmax = 7,ymin = -1,ymax = 12,num_contours = 7,show_original = False)"
   ]
  },
  {
   "cell_type": "code",
   "execution_count": 8,
   "metadata": {
    "scrolled": true
   },
   "outputs": [
    {
     "name": "stdout",
     "output_type": "stream",
     "text": [
      "[[  1.55147320e-07]\n",
      " [  3.25057924e-04]]\n",
      "[ 0.650116    0.65018167  0.65024734  0.65031301  0.65037868  0.65044434\n",
      "  0.65051001  0.65057568  0.65064135  0.65070702  0.65077269  0.65083835\n",
      "  0.65090402  0.65096969  0.65103536  0.65110103  0.6511667   0.65123236\n",
      "  0.65129803  0.6513637   0.65142937  0.65149504  0.65156071  0.65162637\n",
      "  0.65169204  0.65175771  0.65182338  0.65188905  0.65195471  0.65202038\n",
      "  0.65208605  0.65215172  0.65221739  0.65228306  0.65234872  0.65241439\n",
      "  0.65248006  0.65254573  0.6526114   0.65267707  0.65274273  0.6528084\n",
      "  0.65287407  0.65293974  0.65300541  0.65307108  0.65313674  0.65320241\n",
      "  0.65326808  0.65333375  0.65339942  0.65346508  0.65353075  0.65359642\n",
      "  0.65366209  0.65372776  0.65379343  0.65385909  0.65392476  0.65399043\n",
      "  0.6540561   0.65412177  0.65418744  0.6542531   0.65431877  0.65438444\n",
      "  0.65445011  0.65451578  0.65458145  0.65464711  0.65471278  0.65477845\n",
      "  0.65484412  0.65490979  0.65497546  0.65504112  0.65510679  0.65517246\n",
      "  0.65523813  0.6553038   0.65536946  0.65543513  0.6555008   0.65556647\n",
      "  0.65563214  0.65569781  0.65576347  0.65582914  0.65589481  0.65596048\n",
      "  0.65602615  0.65609182  0.65615748  0.65622315  0.65628882  0.65635449\n",
      "  0.65642016  0.65648583  0.65655149  0.65661716]\n"
     ]
    },
    {
     "data": {
      "image/png": "[encoded data removed]",
      "text/plain": [
       "<matplotlib.figure.Figure at 0x11c7b46a0>"
      ]
     },
     "metadata": {},
     "output_type": "display_data"
    },
    {
     "data": {
      "image/png": "[encoded data removed]",
      "text/plain": [
       "<matplotlib.figure.Figure at 0x11c82b048>"
      ]
     },
     "metadata": {},
     "output_type": "display_data"
    }
   ],
   "source": [
    "ind = np.argmin(cost_history_1)\n",
    "least_weights = weight_history_1[ind]\n",
    "print(least_weights)\n",
    "x_vals = np.linspace(2000,2020,100)\n",
    "y_vals = least_weights[0] + least_weights[1]*x_vals\n",
    "print(y_vals)\n",
    "\n",
    "plt.plot(cost_history_1)\n",
    "plt.show()\n",
    "plt.figure()\n",
    "plt.scatter(x,y,color = 'k',edgecolor = 'w')\n",
    "plt.plot(x_vals,y_vals,color = 'r')\n",
    "# plt.scatter(least_weights, color = 'r')\n",
    "plt.show()\n"
   ]
  },
  {
   "cell_type": "code",
   "execution_count": 9,
   "metadata": {},
   "outputs": [
    {
     "data": {
      "image/png": "[encoded data removed]",
      "text/plain": [
       "<matplotlib.figure.Figure at 0x11c7e32e8>"
      ]
     },
     "metadata": {},
     "output_type": "display_data"
    }
   ],
   "source": [
    "# Normalization\n",
    "x1 = (x - np.mean(x))/np.std(x)\n",
    "plt.figure()\n",
    "plt.scatter(x1,y,color = 'k',edgecolor = 'w')\n",
    "plt.title(\"Normalized Plot Chart\")\n",
    "plt.show()\n",
    "\n"
   ]
  },
  {
   "cell_type": "code",
   "execution_count": 10,
   "metadata": {
    "collapsed": true
   },
   "outputs": [],
   "source": [
    "def model1(x,w):    \n",
    "    # stack a 1 onto the top of each input point all at once\n",
    "    o = np.ones((1,np.shape(x)[1]))\n",
    "    x = np.vstack((o,x))\n",
    "    \n",
    "    # compute linear combination and return\n",
    "    a = np.dot(x.T,w)\n",
    "    return a\n",
    "\n",
    "# an implementation of the least squares cost function for linear regression\n",
    "def least_squares_2(w):    \n",
    "    # compute the least squares cost\n",
    "    cost = np.sum((model1(x1,w) - y)**2)\n",
    "    return cost/float(len(y))"
   ]
  },
  {
   "cell_type": "code",
   "execution_count": 11,
   "metadata": {
    "collapsed": true
   },
   "outputs": [],
   "source": [
    "# Gradient_descent for normalized x\n",
    "\n",
    "\n",
    "g = least_squares_2; \n",
    "w = np.array([0.0,0.0])[:,np.newaxis]; \n",
    "max_its = 1000; \n",
    "alpha_choice = 10**(-1);\n",
    "weight_history_2,cost_history_2 = gradient_descent(g,alpha_choice,max_its,w)\n",
    "\n",
    "\n"
   ]
  },
  {
   "cell_type": "code",
   "execution_count": null,
   "metadata": {
    "collapsed": true
   },
   "outputs": [],
   "source": []
  },
  {
   "cell_type": "code",
   "execution_count": 17,
   "metadata": {},
   "outputs": [
    {
     "name": "stdout",
     "output_type": "stream",
     "text": [
      "[[ 0.65275   ]\n",
      " [ 0.23199543]]\n",
      "[ 0.25492052  0.26295748  0.27099444  0.2790314   0.28706836  0.29510532\n",
      "  0.30314228  0.31117923  0.31921619  0.32725315  0.33529011  0.34332707\n",
      "  0.35136403  0.35940099  0.36743795  0.37547491  0.38351187  0.39154883\n",
      "  0.39958579  0.40762275  0.4156597   0.42369666  0.43173362  0.43977058\n",
      "  0.44780754  0.4558445   0.46388146  0.47191842  0.47995538  0.48799234\n",
      "  0.4960293   0.50406626  0.51210321  0.52014017  0.52817713  0.53621409\n",
      "  0.54425105  0.55228801  0.56032497  0.56836193  0.57639889  0.58443585\n",
      "  0.59247281  0.60050977  0.60854672  0.61658368  0.62462064  0.6326576\n",
      "  0.64069456  0.64873152  0.65676848  0.66480544  0.6728424   0.68087936\n",
      "  0.68891632  0.69695328  0.70499023  0.71302719  0.72106415  0.72910111\n",
      "  0.73713807  0.74517503  0.75321199  0.76124895  0.76928591  0.77732287\n",
      "  0.78535983  0.79339679  0.80143374  0.8094707   0.81750766  0.82554462\n",
      "  0.83358158  0.84161854  0.8496555   0.85769246  0.86572942  0.87376638\n",
      "  0.88180334  0.8898403   0.89787725  0.90591421  0.91395117  0.92198813\n",
      "  0.93002509  0.93806205  0.94609901  0.95413597  0.96217293  0.97020989\n",
      "  0.97824685  0.98628381  0.99432076  1.00235772  1.01039468  1.01843164\n",
      "  1.0264686   1.03450556  1.04254252  1.05057948]\n"
     ]
    },
    {
     "data": {
      "image/png": "[encoded data removed]",
      "text/plain": [
       "<matplotlib.figure.Figure at 0x11c7217f0>"
      ]
     },
     "metadata": {},
     "output_type": "display_data"
    }
   ],
   "source": [
    "ind = np.argmin(cost_history_2)\n",
    "least_weights_2 = weight_history_2[ind]\n",
    "print(least_weights_2)\n",
    "\n",
    "\n",
    "# We need to add back the \n",
    "\n",
    "x_vals = np.linspace(2004,2014,100)\n",
    "x_means = np.mean(x_vals)\n",
    "x_stds = np.std(x_vals)\n",
    "x_vals_norm = (x_vals - x_means)/x_stds\n",
    "y_vals = least_weights_2[0] + least_weights_2[1]*x_vals_norm\n",
    "print(y_vals)\n",
    "\n",
    "plt.figure(figsize=(10,10)) \n",
    "plt.scatter(x,y,color = 'k',edgecolor = 'w')\n",
    "plt.plot(x_vals,y_vals,color = 'r')\n",
    "plt.show()"
   ]
  },
  {
   "cell_type": "code",
   "execution_count": null,
   "metadata": {
    "collapsed": true
   },
   "outputs": [],
   "source": []
  },
  {
   "cell_type": "code",
   "execution_count": null,
   "metadata": {
    "collapsed": true
   },
   "outputs": [],
   "source": []
  },
  {
   "cell_type": "code",
   "execution_count": null,
   "metadata": {
    "collapsed": true
   },
   "outputs": [],
   "source": []
  },
  {
   "cell_type": "code",
   "execution_count": null,
   "metadata": {
    "collapsed": true
   },
   "outputs": [],
   "source": []
  }
 ],
 "metadata": {
  "anaconda-cloud": {},
  "kernelspec": {
   "display_name": "Python 3",
   "language": "python",
   "name": "python3"
  },
  "language_info": {
   "codemirror_mode": {
    "name": "ipython",
    "version": 3
   },
   "file_extension": ".py",
   "mimetype": "text/x-python",
   "name": "python",
   "nbconvert_exporter": "python",
   "pygments_lexer": "ipython3",
   "version": "3.6.3"
  },
  "toc": {
   "colors": {
    "hover_highlight": "#DAA520",
    "navigate_num": "#000000",
    "navigate_text": "#333333",
    "running_highlight": "#FF0000",
    "selected_highlight": "#FFD700",
    "sidebar_border": "#EEEEEE",
    "wrapper_background": "#FFFFFF"
   },
   "moveMenuLeft": true,
   "nav_menu": {
    "height": "30px",
    "width": "252px"
   },
   "navigate_menu": true,
   "number_sections": false,
   "sideBar": true,
   "threshold": 4,
   "toc_cell": false,
   "toc_section_display": "block",
   "toc_window_display": false,
   "widenNotebook": false
  }
 },
 "nbformat": 4,
 "nbformat_minor": 1
}
